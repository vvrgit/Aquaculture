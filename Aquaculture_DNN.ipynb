{
  "nbformat": 4,
  "nbformat_minor": 0,
  "metadata": {
    "colab": {
      "provenance": [],
      "authorship_tag": "ABX9TyOX482dgSOfkeQKiecJNk0g",
      "include_colab_link": true
    },
    "kernelspec": {
      "name": "python3",
      "display_name": "Python 3"
    },
    "language_info": {
      "name": "python"
    }
  },
  "cells": [
    {
      "cell_type": "markdown",
      "metadata": {
        "id": "view-in-github",
        "colab_type": "text"
      },
      "source": [
        "<a href=\"https://colab.research.google.com/github/vvrgit/Aquaculture/blob/main/Aquaculture_DNN.ipynb\" target=\"_parent\"><img src=\"https://colab.research.google.com/assets/colab-badge.svg\" alt=\"Open In Colab\"/></a>"
      ]
    },
    {
      "cell_type": "code",
      "execution_count": 44,
      "metadata": {
        "id": "mgf_dIysQPrX",
        "colab": {
          "base_uri": "https://localhost:8080/"
        },
        "outputId": "a1f29243-1300-4146-ee23-fd700a80778b"
      },
      "outputs": [
        {
          "output_type": "stream",
          "name": "stdout",
          "text": [
            "Drive already mounted at /content/drive; to attempt to forcibly remount, call drive.mount(\"/content/drive\", force_remount=True).\n"
          ]
        }
      ],
      "source": [
        "from google.colab import drive\n",
        "drive.mount('/content/drive')"
      ]
    },
    {
      "cell_type": "code",
      "source": [
        "import warnings\n",
        "warnings.filterwarnings('ignore')\n",
        "\n",
        "import numpy as np\n",
        "import matplotlib.pyplot as plt\n",
        "import keras  #Keras is the deep learning library that helps you to code Deep Neural Networks with fewer lines of code\n",
        "#from keras.datasets import mnist\n",
        "from keras.models import Sequential\n",
        "from keras.layers import Dense\n",
        "from tensorflow.keras.optimizers import RMSprop,Adadelta,SGD,Adagrad,Adam,Adamax,Nadam\n",
        "#import pylab as plt\n",
        "#import seaborn as sns #For data visualization\n",
        "import pandas as pd # For Data manipulation\n",
        "\n",
        "from sklearn.preprocessing import LabelEncoder\n",
        "from keras.utils import to_categorical"
      ],
      "metadata": {
        "id": "0oEWV4E7Qh28"
      },
      "execution_count": 45,
      "outputs": []
    },
    {
      "cell_type": "code",
      "source": [
        "dataframe = pd.read_excel(\"/content/drive/MyDrive/AI Data/WQD.xlsx\")\n",
        "dataframe.head()"
      ],
      "metadata": {
        "colab": {
          "base_uri": "https://localhost:8080/",
          "height": 206
        },
        "id": "AMpcdPu9Qt7D",
        "outputId": "dfd41d33-1793-4c91-d4e7-4304d2155ce9"
      },
      "execution_count": 46,
      "outputs": [
        {
          "output_type": "execute_result",
          "data": {
            "text/plain": [
              "        Temp  Turbidity (cm)   DO(mg/L)  BOD (mg/L)        CO2        pH`  \\\n",
              "0  67.448725       10.127148   0.208153    7.473607  10.181084   4.751657   \n",
              "1  64.626666       94.015595  11.434463   10.859998  14.860521   3.085154   \n",
              "2  65.121842       90.653462  12.430865   12.809970  12.319980   9.648515   \n",
              "3   1.640334        0.066344  10.963529    8.508023  12.955209   4.819988   \n",
              "4  64.863434        2.119173   1.361736   13.335372  13.603197  10.244034   \n",
              "\n",
              "   Alkalinity (mg L-1 )  Hardness (mg L-1 )  Calcium (mg L-1 )  \\\n",
              "0            218.364855          300.125080         337.178226   \n",
              "1            273.939692            8.426776         363.660740   \n",
              "2            220.812730           11.726274         309.370934   \n",
              "3            266.571628            6.627655           8.180468   \n",
              "4            252.108000          339.891514         253.996871   \n",
              "\n",
              "   Ammonia (mg L-1 )  Nitrite (mg L-1 )  Phosphorus (mg L-1 )  H2S (mg L-1 )  \\\n",
              "0           0.286054           4.355310              0.005984       0.066793   \n",
              "1           0.096040           2.182753              0.004906       0.023428   \n",
              "2           0.974501           4.901760              0.006979       0.065041   \n",
              "3           0.884865           3.571842              3.174473       0.026018   \n",
              "4           0.801695           4.655898              3.854701       0.060995   \n",
              "\n",
              "   Plankton (No. L-1)  Water Quality  \n",
              "0         6069.624017              2  \n",
              "1          250.995959              2  \n",
              "2         7218.927473              2  \n",
              "3         1230.062252              2  \n",
              "4         1035.054820              2  "
            ],
            "text/html": [
              "\n",
              "  <div id=\"df-8b843559-c558-4986-8f38-22761d5abfea\" class=\"colab-df-container\">\n",
              "    <div>\n",
              "<style scoped>\n",
              "    .dataframe tbody tr th:only-of-type {\n",
              "        vertical-align: middle;\n",
              "    }\n",
              "\n",
              "    .dataframe tbody tr th {\n",
              "        vertical-align: top;\n",
              "    }\n",
              "\n",
              "    .dataframe thead th {\n",
              "        text-align: right;\n",
              "    }\n",
              "</style>\n",
              "<table border=\"1\" class=\"dataframe\">\n",
              "  <thead>\n",
              "    <tr style=\"text-align: right;\">\n",
              "      <th></th>\n",
              "      <th>Temp</th>\n",
              "      <th>Turbidity (cm)</th>\n",
              "      <th>DO(mg/L)</th>\n",
              "      <th>BOD (mg/L)</th>\n",
              "      <th>CO2</th>\n",
              "      <th>pH`</th>\n",
              "      <th>Alkalinity (mg L-1 )</th>\n",
              "      <th>Hardness (mg L-1 )</th>\n",
              "      <th>Calcium (mg L-1 )</th>\n",
              "      <th>Ammonia (mg L-1 )</th>\n",
              "      <th>Nitrite (mg L-1 )</th>\n",
              "      <th>Phosphorus (mg L-1 )</th>\n",
              "      <th>H2S (mg L-1 )</th>\n",
              "      <th>Plankton (No. L-1)</th>\n",
              "      <th>Water Quality</th>\n",
              "    </tr>\n",
              "  </thead>\n",
              "  <tbody>\n",
              "    <tr>\n",
              "      <th>0</th>\n",
              "      <td>67.448725</td>\n",
              "      <td>10.127148</td>\n",
              "      <td>0.208153</td>\n",
              "      <td>7.473607</td>\n",
              "      <td>10.181084</td>\n",
              "      <td>4.751657</td>\n",
              "      <td>218.364855</td>\n",
              "      <td>300.125080</td>\n",
              "      <td>337.178226</td>\n",
              "      <td>0.286054</td>\n",
              "      <td>4.355310</td>\n",
              "      <td>0.005984</td>\n",
              "      <td>0.066793</td>\n",
              "      <td>6069.624017</td>\n",
              "      <td>2</td>\n",
              "    </tr>\n",
              "    <tr>\n",
              "      <th>1</th>\n",
              "      <td>64.626666</td>\n",
              "      <td>94.015595</td>\n",
              "      <td>11.434463</td>\n",
              "      <td>10.859998</td>\n",
              "      <td>14.860521</td>\n",
              "      <td>3.085154</td>\n",
              "      <td>273.939692</td>\n",
              "      <td>8.426776</td>\n",
              "      <td>363.660740</td>\n",
              "      <td>0.096040</td>\n",
              "      <td>2.182753</td>\n",
              "      <td>0.004906</td>\n",
              "      <td>0.023428</td>\n",
              "      <td>250.995959</td>\n",
              "      <td>2</td>\n",
              "    </tr>\n",
              "    <tr>\n",
              "      <th>2</th>\n",
              "      <td>65.121842</td>\n",
              "      <td>90.653462</td>\n",
              "      <td>12.430865</td>\n",
              "      <td>12.809970</td>\n",
              "      <td>12.319980</td>\n",
              "      <td>9.648515</td>\n",
              "      <td>220.812730</td>\n",
              "      <td>11.726274</td>\n",
              "      <td>309.370934</td>\n",
              "      <td>0.974501</td>\n",
              "      <td>4.901760</td>\n",
              "      <td>0.006979</td>\n",
              "      <td>0.065041</td>\n",
              "      <td>7218.927473</td>\n",
              "      <td>2</td>\n",
              "    </tr>\n",
              "    <tr>\n",
              "      <th>3</th>\n",
              "      <td>1.640334</td>\n",
              "      <td>0.066344</td>\n",
              "      <td>10.963529</td>\n",
              "      <td>8.508023</td>\n",
              "      <td>12.955209</td>\n",
              "      <td>4.819988</td>\n",
              "      <td>266.571628</td>\n",
              "      <td>6.627655</td>\n",
              "      <td>8.180468</td>\n",
              "      <td>0.884865</td>\n",
              "      <td>3.571842</td>\n",
              "      <td>3.174473</td>\n",
              "      <td>0.026018</td>\n",
              "      <td>1230.062252</td>\n",
              "      <td>2</td>\n",
              "    </tr>\n",
              "    <tr>\n",
              "      <th>4</th>\n",
              "      <td>64.863434</td>\n",
              "      <td>2.119173</td>\n",
              "      <td>1.361736</td>\n",
              "      <td>13.335372</td>\n",
              "      <td>13.603197</td>\n",
              "      <td>10.244034</td>\n",
              "      <td>252.108000</td>\n",
              "      <td>339.891514</td>\n",
              "      <td>253.996871</td>\n",
              "      <td>0.801695</td>\n",
              "      <td>4.655898</td>\n",
              "      <td>3.854701</td>\n",
              "      <td>0.060995</td>\n",
              "      <td>1035.054820</td>\n",
              "      <td>2</td>\n",
              "    </tr>\n",
              "  </tbody>\n",
              "</table>\n",
              "</div>\n",
              "    <div class=\"colab-df-buttons\">\n",
              "\n",
              "  <div class=\"colab-df-container\">\n",
              "    <button class=\"colab-df-convert\" onclick=\"convertToInteractive('df-8b843559-c558-4986-8f38-22761d5abfea')\"\n",
              "            title=\"Convert this dataframe to an interactive table.\"\n",
              "            style=\"display:none;\">\n",
              "\n",
              "  <svg xmlns=\"http://www.w3.org/2000/svg\" height=\"24px\" viewBox=\"0 -960 960 960\">\n",
              "    <path d=\"M120-120v-720h720v720H120Zm60-500h600v-160H180v160Zm220 220h160v-160H400v160Zm0 220h160v-160H400v160ZM180-400h160v-160H180v160Zm440 0h160v-160H620v160ZM180-180h160v-160H180v160Zm440 0h160v-160H620v160Z\"/>\n",
              "  </svg>\n",
              "    </button>\n",
              "\n",
              "  <style>\n",
              "    .colab-df-container {\n",
              "      display:flex;\n",
              "      gap: 12px;\n",
              "    }\n",
              "\n",
              "    .colab-df-convert {\n",
              "      background-color: #E8F0FE;\n",
              "      border: none;\n",
              "      border-radius: 50%;\n",
              "      cursor: pointer;\n",
              "      display: none;\n",
              "      fill: #1967D2;\n",
              "      height: 32px;\n",
              "      padding: 0 0 0 0;\n",
              "      width: 32px;\n",
              "    }\n",
              "\n",
              "    .colab-df-convert:hover {\n",
              "      background-color: #E2EBFA;\n",
              "      box-shadow: 0px 1px 2px rgba(60, 64, 67, 0.3), 0px 1px 3px 1px rgba(60, 64, 67, 0.15);\n",
              "      fill: #174EA6;\n",
              "    }\n",
              "\n",
              "    .colab-df-buttons div {\n",
              "      margin-bottom: 4px;\n",
              "    }\n",
              "\n",
              "    [theme=dark] .colab-df-convert {\n",
              "      background-color: #3B4455;\n",
              "      fill: #D2E3FC;\n",
              "    }\n",
              "\n",
              "    [theme=dark] .colab-df-convert:hover {\n",
              "      background-color: #434B5C;\n",
              "      box-shadow: 0px 1px 3px 1px rgba(0, 0, 0, 0.15);\n",
              "      filter: drop-shadow(0px 1px 2px rgba(0, 0, 0, 0.3));\n",
              "      fill: #FFFFFF;\n",
              "    }\n",
              "  </style>\n",
              "\n",
              "    <script>\n",
              "      const buttonEl =\n",
              "        document.querySelector('#df-8b843559-c558-4986-8f38-22761d5abfea button.colab-df-convert');\n",
              "      buttonEl.style.display =\n",
              "        google.colab.kernel.accessAllowed ? 'block' : 'none';\n",
              "\n",
              "      async function convertToInteractive(key) {\n",
              "        const element = document.querySelector('#df-8b843559-c558-4986-8f38-22761d5abfea');\n",
              "        const dataTable =\n",
              "          await google.colab.kernel.invokeFunction('convertToInteractive',\n",
              "                                                    [key], {});\n",
              "        if (!dataTable) return;\n",
              "\n",
              "        const docLinkHtml = 'Like what you see? Visit the ' +\n",
              "          '<a target=\"_blank\" href=https://colab.research.google.com/notebooks/data_table.ipynb>data table notebook</a>'\n",
              "          + ' to learn more about interactive tables.';\n",
              "        element.innerHTML = '';\n",
              "        dataTable['output_type'] = 'display_data';\n",
              "        await google.colab.output.renderOutput(dataTable, element);\n",
              "        const docLink = document.createElement('div');\n",
              "        docLink.innerHTML = docLinkHtml;\n",
              "        element.appendChild(docLink);\n",
              "      }\n",
              "    </script>\n",
              "  </div>\n",
              "\n",
              "\n",
              "<div id=\"df-c40459a1-98fa-418d-978f-ebc6408d189e\">\n",
              "  <button class=\"colab-df-quickchart\" onclick=\"quickchart('df-c40459a1-98fa-418d-978f-ebc6408d189e')\"\n",
              "            title=\"Suggest charts\"\n",
              "            style=\"display:none;\">\n",
              "\n",
              "<svg xmlns=\"http://www.w3.org/2000/svg\" height=\"24px\"viewBox=\"0 0 24 24\"\n",
              "     width=\"24px\">\n",
              "    <g>\n",
              "        <path d=\"M19 3H5c-1.1 0-2 .9-2 2v14c0 1.1.9 2 2 2h14c1.1 0 2-.9 2-2V5c0-1.1-.9-2-2-2zM9 17H7v-7h2v7zm4 0h-2V7h2v10zm4 0h-2v-4h2v4z\"/>\n",
              "    </g>\n",
              "</svg>\n",
              "  </button>\n",
              "\n",
              "<style>\n",
              "  .colab-df-quickchart {\n",
              "      --bg-color: #E8F0FE;\n",
              "      --fill-color: #1967D2;\n",
              "      --hover-bg-color: #E2EBFA;\n",
              "      --hover-fill-color: #174EA6;\n",
              "      --disabled-fill-color: #AAA;\n",
              "      --disabled-bg-color: #DDD;\n",
              "  }\n",
              "\n",
              "  [theme=dark] .colab-df-quickchart {\n",
              "      --bg-color: #3B4455;\n",
              "      --fill-color: #D2E3FC;\n",
              "      --hover-bg-color: #434B5C;\n",
              "      --hover-fill-color: #FFFFFF;\n",
              "      --disabled-bg-color: #3B4455;\n",
              "      --disabled-fill-color: #666;\n",
              "  }\n",
              "\n",
              "  .colab-df-quickchart {\n",
              "    background-color: var(--bg-color);\n",
              "    border: none;\n",
              "    border-radius: 50%;\n",
              "    cursor: pointer;\n",
              "    display: none;\n",
              "    fill: var(--fill-color);\n",
              "    height: 32px;\n",
              "    padding: 0;\n",
              "    width: 32px;\n",
              "  }\n",
              "\n",
              "  .colab-df-quickchart:hover {\n",
              "    background-color: var(--hover-bg-color);\n",
              "    box-shadow: 0 1px 2px rgba(60, 64, 67, 0.3), 0 1px 3px 1px rgba(60, 64, 67, 0.15);\n",
              "    fill: var(--button-hover-fill-color);\n",
              "  }\n",
              "\n",
              "  .colab-df-quickchart-complete:disabled,\n",
              "  .colab-df-quickchart-complete:disabled:hover {\n",
              "    background-color: var(--disabled-bg-color);\n",
              "    fill: var(--disabled-fill-color);\n",
              "    box-shadow: none;\n",
              "  }\n",
              "\n",
              "  .colab-df-spinner {\n",
              "    border: 2px solid var(--fill-color);\n",
              "    border-color: transparent;\n",
              "    border-bottom-color: var(--fill-color);\n",
              "    animation:\n",
              "      spin 1s steps(1) infinite;\n",
              "  }\n",
              "\n",
              "  @keyframes spin {\n",
              "    0% {\n",
              "      border-color: transparent;\n",
              "      border-bottom-color: var(--fill-color);\n",
              "      border-left-color: var(--fill-color);\n",
              "    }\n",
              "    20% {\n",
              "      border-color: transparent;\n",
              "      border-left-color: var(--fill-color);\n",
              "      border-top-color: var(--fill-color);\n",
              "    }\n",
              "    30% {\n",
              "      border-color: transparent;\n",
              "      border-left-color: var(--fill-color);\n",
              "      border-top-color: var(--fill-color);\n",
              "      border-right-color: var(--fill-color);\n",
              "    }\n",
              "    40% {\n",
              "      border-color: transparent;\n",
              "      border-right-color: var(--fill-color);\n",
              "      border-top-color: var(--fill-color);\n",
              "    }\n",
              "    60% {\n",
              "      border-color: transparent;\n",
              "      border-right-color: var(--fill-color);\n",
              "    }\n",
              "    80% {\n",
              "      border-color: transparent;\n",
              "      border-right-color: var(--fill-color);\n",
              "      border-bottom-color: var(--fill-color);\n",
              "    }\n",
              "    90% {\n",
              "      border-color: transparent;\n",
              "      border-bottom-color: var(--fill-color);\n",
              "    }\n",
              "  }\n",
              "</style>\n",
              "\n",
              "  <script>\n",
              "    async function quickchart(key) {\n",
              "      const quickchartButtonEl =\n",
              "        document.querySelector('#' + key + ' button');\n",
              "      quickchartButtonEl.disabled = true;  // To prevent multiple clicks.\n",
              "      quickchartButtonEl.classList.add('colab-df-spinner');\n",
              "      try {\n",
              "        const charts = await google.colab.kernel.invokeFunction(\n",
              "            'suggestCharts', [key], {});\n",
              "      } catch (error) {\n",
              "        console.error('Error during call to suggestCharts:', error);\n",
              "      }\n",
              "      quickchartButtonEl.classList.remove('colab-df-spinner');\n",
              "      quickchartButtonEl.classList.add('colab-df-quickchart-complete');\n",
              "    }\n",
              "    (() => {\n",
              "      let quickchartButtonEl =\n",
              "        document.querySelector('#df-c40459a1-98fa-418d-978f-ebc6408d189e button');\n",
              "      quickchartButtonEl.style.display =\n",
              "        google.colab.kernel.accessAllowed ? 'block' : 'none';\n",
              "    })();\n",
              "  </script>\n",
              "</div>\n",
              "\n",
              "    </div>\n",
              "  </div>\n"
            ],
            "application/vnd.google.colaboratory.intrinsic+json": {
              "type": "dataframe",
              "variable_name": "dataframe",
              "summary": "{\n  \"name\": \"dataframe\",\n  \"rows\": 4300,\n  \"fields\": [\n    {\n      \"column\": \"Temp\",\n      \"properties\": {\n        \"dtype\": \"number\",\n        \"std\": 9.670202255246236,\n        \"min\": 0.194046124427335,\n        \"max\": 84.2515215749453,\n        \"num_unique_values\": 3800,\n        \"samples\": [\n          27.8153724508936,\n          27.2520511553709,\n          27.3600649116535\n        ],\n        \"semantic_type\": \"\",\n        \"description\": \"\"\n      }\n    },\n    {\n      \"column\": \"Turbidity (cm)\",\n      \"properties\": {\n        \"dtype\": \"number\",\n        \"std\": 20.94272577434483,\n        \"min\": 0.0514235005941593,\n        \"max\": 99.7977432092908,\n        \"num_unique_values\": 3800,\n        \"samples\": [\n          23.4174617892236,\n          47.2231205650521,\n          60.5665570225857\n        ],\n        \"semantic_type\": \"\",\n        \"description\": \"\"\n      }\n    },\n    {\n      \"column\": \"DO(mg/L)\",\n      \"properties\": {\n        \"dtype\": \"number\",\n        \"std\": 1.8327363279616873,\n        \"min\": 0.133928048822569,\n        \"max\": 14.9701223056335,\n        \"num_unique_values\": 3801,\n        \"samples\": [\n          3.56676876325787,\n          7.22376214850665,\n          4.78468040980092\n        ],\n        \"semantic_type\": \"\",\n        \"description\": \"\"\n      }\n    },\n    {\n      \"column\": \"BOD (mg/L)\",\n      \"properties\": {\n        \"dtype\": \"number\",\n        \"std\": 2.2920604777010083,\n        \"min\": 1.00062103061561,\n        \"max\": 14.9430057338615,\n        \"num_unique_values\": 3800,\n        \"samples\": [\n          4.17808775338499,\n          1.28856530888126,\n          1.25559529559476\n        ],\n        \"semantic_type\": \"\",\n        \"description\": \"\"\n      }\n    },\n    {\n      \"column\": \"CO2\",\n      \"properties\": {\n        \"dtype\": \"number\",\n        \"std\": 2.831103930148912,\n        \"min\": 0.00115532599708368,\n        \"max\": 14.9842163058911,\n        \"num_unique_values\": 3800,\n        \"samples\": [\n          2.43369605813009,\n          4.31729245733555,\n          7.22561794329278\n        ],\n        \"semantic_type\": \"\",\n        \"description\": \"\"\n      }\n    },\n    {\n      \"column\": \"pH`\",\n      \"properties\": {\n        \"dtype\": \"number\",\n        \"std\": 1.5802824986450466,\n        \"min\": 0.00394431040072218,\n        \"max\": 14.8511952971146,\n        \"num_unique_values\": 3700,\n        \"samples\": [\n          6.72574736403495,\n          6.2947446986332,\n          9.35158808598964\n        ],\n        \"semantic_type\": \"\",\n        \"description\": \"\"\n      }\n    },\n    {\n      \"column\": \"Alkalinity (mg L-1 )\",\n      \"properties\": {\n        \"dtype\": \"number\",\n        \"std\": 68.94904763335036,\n        \"min\": 25.0123281421022,\n        \"max\": 299.913160433269,\n        \"num_unique_values\": 3700,\n        \"samples\": [\n          292.89444689699,\n          105.127392057569,\n          47.3652539410484\n        ],\n        \"semantic_type\": \"\",\n        \"description\": \"\"\n      }\n    },\n    {\n      \"column\": \"Hardness (mg L-1 )\",\n      \"properties\": {\n        \"dtype\": \"number\",\n        \"std\": 78.8830908490568,\n        \"min\": 0.255805284264412,\n        \"max\": 398.79655005742,\n        \"num_unique_values\": 3700,\n        \"samples\": [\n          57.6976163522151,\n          202.707490295654,\n          216.55885886792\n        ],\n        \"semantic_type\": \"\",\n        \"description\": \"\"\n      }\n    },\n    {\n      \"column\": \"Calcium (mg L-1 )\",\n      \"properties\": {\n        \"dtype\": \"number\",\n        \"std\": 75.71884215198278,\n        \"min\": 0.0182934454547612,\n        \"max\": 399.321398201757,\n        \"num_unique_values\": 3700,\n        \"samples\": [\n          17.9773334643263,\n          172.368908714948,\n          134.185329496666\n        ],\n        \"semantic_type\": \"\",\n        \"description\": \"\"\n      }\n    },\n    {\n      \"column\": \"Ammonia (mg L-1 )\",\n      \"properties\": {\n        \"dtype\": \"number\",\n        \"std\": 0.1228860247981019,\n        \"min\": 1.23485463051631e-06,\n        \"max\": 0.999300485151642,\n        \"num_unique_values\": 3700,\n        \"samples\": [\n          0.00256691454602558,\n          0.0379073232464819,\n          0.0355863870203619\n        ],\n        \"semantic_type\": \"\",\n        \"description\": \"\"\n      }\n    },\n    {\n      \"column\": \"Nitrite (mg L-1 )\",\n      \"properties\": {\n        \"dtype\": \"number\",\n        \"std\": 0.9035920073380787,\n        \"min\": 2.500415978409e-05,\n        \"max\": 4.9895347911325,\n        \"num_unique_values\": 3700,\n        \"samples\": [\n          0.00543966354329605,\n          1.80501555423309,\n          1.65004053479727\n        ],\n        \"semantic_type\": \"\",\n        \"description\": \"\"\n      }\n    },\n    {\n      \"column\": \"Phosphorus (mg L-1 )\",\n      \"properties\": {\n        \"dtype\": \"number\",\n        \"std\": 1.0826476844398816,\n        \"min\": 0.000128395205679035,\n        \"max\": 4.97445696168086,\n        \"num_unique_values\": 3700,\n        \"samples\": [\n          1.26321913914825,\n          0.0276884621480501,\n          2.34179538630364\n        ],\n        \"semantic_type\": \"\",\n        \"description\": \"\"\n      }\n    },\n    {\n      \"column\": \"H2S (mg L-1 )\",\n      \"properties\": {\n        \"dtype\": \"number\",\n        \"std\": 0.01187383214560398,\n        \"min\": 2.34735475027803e-06,\n        \"max\": 0.0992199987897812,\n        \"num_unique_values\": 3700,\n        \"samples\": [\n          0.0120528024824466,\n          0.014212218562698,\n          0.00965712261712407\n        ],\n        \"semantic_type\": \"\",\n        \"description\": \"\"\n      }\n    },\n    {\n      \"column\": \"Plankton (No. L-1)\",\n      \"properties\": {\n        \"dtype\": \"number\",\n        \"std\": 1208.547783187856,\n        \"min\": 78.6037329563691,\n        \"max\": 7460.41578893025,\n        \"num_unique_values\": 3700,\n        \"samples\": [\n          5734.29604080489,\n          2752.27390420098,\n          5580.30636277422\n        ],\n        \"semantic_type\": \"\",\n        \"description\": \"\"\n      }\n    },\n    {\n      \"column\": \"Water Quality\",\n      \"properties\": {\n        \"dtype\": \"number\",\n        \"std\": 0,\n        \"min\": 0,\n        \"max\": 2,\n        \"num_unique_values\": 3,\n        \"samples\": [\n          2,\n          1,\n          0\n        ],\n        \"semantic_type\": \"\",\n        \"description\": \"\"\n      }\n    }\n  ]\n}"
            }
          },
          "metadata": {},
          "execution_count": 46
        }
      ]
    },
    {
      "cell_type": "code",
      "source": [
        "dataset = dataframe.values\n",
        "X = dataset[0:,0:14].astype(float)\n",
        "Y = dataset[0:,14]\n",
        "print(X[0:])"
      ],
      "metadata": {
        "colab": {
          "base_uri": "https://localhost:8080/"
        },
        "id": "o33GCMHaQwk7",
        "outputId": "0bfdd3ed-16a0-4d30-aa5c-d0c315721398"
      },
      "execution_count": 47,
      "outputs": [
        {
          "output_type": "stream",
          "name": "stdout",
          "text": [
            "[[6.74487248e+01 1.01271479e+01 2.08152598e-01 ... 5.98351962e-03\n",
            "  6.67928501e-02 6.06962402e+03]\n",
            " [6.46266660e+01 9.40155952e+01 1.14344627e+01 ... 4.90608990e-03\n",
            "  2.34279599e-02 2.50995959e+02]\n",
            " [6.51218418e+01 9.06534623e+01 1.24308647e+01 ... 6.97923428e-03\n",
            "  6.50410879e-02 7.21892747e+03]\n",
            " ...\n",
            " [2.69684218e+01 4.48454162e+01 4.30993492e+00 ... 7.26881067e-01\n",
            "  1.91076819e-02 3.81644394e+03]\n",
            " [2.45230924e+01 5.71285964e+01 4.74361524e+00 ... 8.27799313e-01\n",
            "  1.99046121e-02 3.58098936e+03]\n",
            " [2.44348471e+01 7.62218150e+01 4.42584598e+00 ... 8.91224283e-01\n",
            "  1.92648940e-02 3.58423414e+03]]\n"
          ]
        }
      ]
    },
    {
      "cell_type": "code",
      "source": [
        "from sklearn.preprocessing import MinMaxScaler\n",
        "ms=MinMaxScaler()\n",
        "red_wine_data_X=ms.fit_transform(X)\n",
        "print(red_wine_data_X)"
      ],
      "metadata": {
        "colab": {
          "base_uri": "https://localhost:8080/"
        },
        "id": "XHIUsyYlQz8v",
        "outputId": "6f9bd36f-7762-4698-d9ec-1be13412c08c"
      },
      "execution_count": 48,
      "outputs": [
        {
          "output_type": "stream",
          "name": "stdout",
          "text": [
            "[[8.00103481e-01 1.01013495e-01 5.00293726e-03 ... 1.17706829e-03\n",
            "  6.73171576e-01 8.11592091e-01]\n",
            " [7.66530514e-01 9.42031465e-01 7.61686887e-01 ... 9.60470269e-04\n",
            "  2.36103276e-01 2.33536461e-02]\n",
            " [7.72421433e-01 9.08324628e-01 8.28847103e-01 ... 1.37723896e-03\n",
            "  6.55515824e-01 9.67286038e-01]\n",
            " ...\n",
            " [3.18524623e-01 4.49079152e-01 2.81474265e-01 ... 1.46100657e-01\n",
            "  1.92559835e-01 5.06358084e-01]\n",
            " [2.89433464e-01 5.72223347e-01 3.10705502e-01 ... 1.66388470e-01\n",
            "  2.00591975e-01 4.74461501e-01]\n",
            " [2.88383642e-01 7.63641122e-01 2.89286987e-01 ... 1.79138928e-01\n",
            "  1.94144352e-01 4.74901065e-01]]\n"
          ]
        }
      ]
    },
    {
      "cell_type": "code",
      "source": [
        "import tensorflow as tf\n",
        "\n",
        "y_train=tf.keras.utils.to_categorical(Y,num_classes=3)\n",
        "print(y_train)"
      ],
      "metadata": {
        "colab": {
          "base_uri": "https://localhost:8080/"
        },
        "id": "oc-aEH1hQ34n",
        "outputId": "5a54591c-f970-4d23-8a08-7c2778f3982a"
      },
      "execution_count": 49,
      "outputs": [
        {
          "output_type": "stream",
          "name": "stdout",
          "text": [
            "[[0. 0. 1.]\n",
            " [0. 0. 1.]\n",
            " [0. 0. 1.]\n",
            " ...\n",
            " [1. 0. 0.]\n",
            " [1. 0. 0.]\n",
            " [1. 0. 0.]]\n"
          ]
        }
      ]
    },
    {
      "cell_type": "code",
      "source": [
        "from sklearn.model_selection import train_test_split\n",
        "X_train, X_test, y_train, y_test = train_test_split(red_wine_data_X, y_train, test_size=0.2, random_state=0)\n",
        "print(y_test[0:5])\n",
        "print(X_train)"
      ],
      "metadata": {
        "colab": {
          "base_uri": "https://localhost:8080/"
        },
        "id": "me-3PKTPRAB8",
        "outputId": "c42d9730-3eba-4b85-bdbe-1b0165a02326"
      },
      "execution_count": 50,
      "outputs": [
        {
          "output_type": "stream",
          "name": "stdout",
          "text": [
            "[[0. 1. 0.]\n",
            " [0. 1. 0.]\n",
            " [0. 1. 0.]\n",
            " [1. 0. 0.]\n",
            " [0. 0. 1.]]\n",
            "[[0.2044021  0.26358571 0.43766108 ... 0.00330223 0.04803045 0.31729808]\n",
            " [0.34229111 0.7621125  0.3213162  ... 0.25645242 0.19759969 0.56837745]\n",
            " [0.3356133  0.76146109 0.31421385 ... 0.32840851 0.19335239 0.59658362]\n",
            " ...\n",
            " [0.20805306 0.21369613 0.39011617 ... 0.00203244 0.09546591 0.74670141]\n",
            " [0.36677145 0.19525777 0.40169463 ... 0.00310678 0.14618867 0.35729484]\n",
            " [0.2011342  0.21316476 0.42516004 ... 0.00584566 0.14488687 0.64848288]]\n"
          ]
        }
      ]
    },
    {
      "cell_type": "code",
      "source": [
        "First_Layer_Size =17 # Number of neurons in first layer\n",
        "model=Sequential()\n",
        "model.add(Dense(First_Layer_Size,activation='relu', input_shape=(14,)))\n",
        "model.add(Dense(17,activation='relu'))\n",
        "model.add(Dense(17,activation='relu'))\n",
        "model.add(Dense(17,activation='relu'))\n",
        "model.add(Dense(3,activation='softmax'))\n",
        "model.summary()"
      ],
      "metadata": {
        "colab": {
          "base_uri": "https://localhost:8080/",
          "height": 300
        },
        "id": "Uv5o6TLjRD6w",
        "outputId": "95a60bb0-0b63-43e8-fcfb-9274567d9a69"
      },
      "execution_count": 54,
      "outputs": [
        {
          "output_type": "display_data",
          "data": {
            "text/plain": [
              "\u001b[1mModel: \"sequential_2\"\u001b[0m\n"
            ],
            "text/html": [
              "<pre style=\"white-space:pre;overflow-x:auto;line-height:normal;font-family:Menlo,'DejaVu Sans Mono',consolas,'Courier New',monospace\"><span style=\"font-weight: bold\">Model: \"sequential_2\"</span>\n",
              "</pre>\n"
            ]
          },
          "metadata": {}
        },
        {
          "output_type": "display_data",
          "data": {
            "text/plain": [
              "┏━━━━━━━━━━━━━━━━━━━━━━━━━━━━━━━━━━━━━━┳━━━━━━━━━━━━━━━━━━━━━━━━━━━━━┳━━━━━━━━━━━━━━━━━┓\n",
              "┃\u001b[1m \u001b[0m\u001b[1mLayer (type)                        \u001b[0m\u001b[1m \u001b[0m┃\u001b[1m \u001b[0m\u001b[1mOutput Shape               \u001b[0m\u001b[1m \u001b[0m┃\u001b[1m \u001b[0m\u001b[1m        Param #\u001b[0m\u001b[1m \u001b[0m┃\n",
              "┡━━━━━━━━━━━━━━━━━━━━━━━━━━━━━━━━━━━━━━╇━━━━━━━━━━━━━━━━━━━━━━━━━━━━━╇━━━━━━━━━━━━━━━━━┩\n",
              "│ dense_7 (\u001b[38;5;33mDense\u001b[0m)                      │ (\u001b[38;5;45mNone\u001b[0m, \u001b[38;5;34m17\u001b[0m)                  │             \u001b[38;5;34m255\u001b[0m │\n",
              "├──────────────────────────────────────┼─────────────────────────────┼─────────────────┤\n",
              "│ dense_8 (\u001b[38;5;33mDense\u001b[0m)                      │ (\u001b[38;5;45mNone\u001b[0m, \u001b[38;5;34m17\u001b[0m)                  │             \u001b[38;5;34m306\u001b[0m │\n",
              "├──────────────────────────────────────┼─────────────────────────────┼─────────────────┤\n",
              "│ dense_9 (\u001b[38;5;33mDense\u001b[0m)                      │ (\u001b[38;5;45mNone\u001b[0m, \u001b[38;5;34m17\u001b[0m)                  │             \u001b[38;5;34m306\u001b[0m │\n",
              "├──────────────────────────────────────┼─────────────────────────────┼─────────────────┤\n",
              "│ dense_10 (\u001b[38;5;33mDense\u001b[0m)                     │ (\u001b[38;5;45mNone\u001b[0m, \u001b[38;5;34m17\u001b[0m)                  │             \u001b[38;5;34m306\u001b[0m │\n",
              "├──────────────────────────────────────┼─────────────────────────────┼─────────────────┤\n",
              "│ dense_11 (\u001b[38;5;33mDense\u001b[0m)                     │ (\u001b[38;5;45mNone\u001b[0m, \u001b[38;5;34m3\u001b[0m)                   │              \u001b[38;5;34m54\u001b[0m │\n",
              "└──────────────────────────────────────┴─────────────────────────────┴─────────────────┘\n"
            ],
            "text/html": [
              "<pre style=\"white-space:pre;overflow-x:auto;line-height:normal;font-family:Menlo,'DejaVu Sans Mono',consolas,'Courier New',monospace\">┏━━━━━━━━━━━━━━━━━━━━━━━━━━━━━━━━━━━━━━┳━━━━━━━━━━━━━━━━━━━━━━━━━━━━━┳━━━━━━━━━━━━━━━━━┓\n",
              "┃<span style=\"font-weight: bold\"> Layer (type)                         </span>┃<span style=\"font-weight: bold\"> Output Shape                </span>┃<span style=\"font-weight: bold\">         Param # </span>┃\n",
              "┡━━━━━━━━━━━━━━━━━━━━━━━━━━━━━━━━━━━━━━╇━━━━━━━━━━━━━━━━━━━━━━━━━━━━━╇━━━━━━━━━━━━━━━━━┩\n",
              "│ dense_7 (<span style=\"color: #0087ff; text-decoration-color: #0087ff\">Dense</span>)                      │ (<span style=\"color: #00d7ff; text-decoration-color: #00d7ff\">None</span>, <span style=\"color: #00af00; text-decoration-color: #00af00\">17</span>)                  │             <span style=\"color: #00af00; text-decoration-color: #00af00\">255</span> │\n",
              "├──────────────────────────────────────┼─────────────────────────────┼─────────────────┤\n",
              "│ dense_8 (<span style=\"color: #0087ff; text-decoration-color: #0087ff\">Dense</span>)                      │ (<span style=\"color: #00d7ff; text-decoration-color: #00d7ff\">None</span>, <span style=\"color: #00af00; text-decoration-color: #00af00\">17</span>)                  │             <span style=\"color: #00af00; text-decoration-color: #00af00\">306</span> │\n",
              "├──────────────────────────────────────┼─────────────────────────────┼─────────────────┤\n",
              "│ dense_9 (<span style=\"color: #0087ff; text-decoration-color: #0087ff\">Dense</span>)                      │ (<span style=\"color: #00d7ff; text-decoration-color: #00d7ff\">None</span>, <span style=\"color: #00af00; text-decoration-color: #00af00\">17</span>)                  │             <span style=\"color: #00af00; text-decoration-color: #00af00\">306</span> │\n",
              "├──────────────────────────────────────┼─────────────────────────────┼─────────────────┤\n",
              "│ dense_10 (<span style=\"color: #0087ff; text-decoration-color: #0087ff\">Dense</span>)                     │ (<span style=\"color: #00d7ff; text-decoration-color: #00d7ff\">None</span>, <span style=\"color: #00af00; text-decoration-color: #00af00\">17</span>)                  │             <span style=\"color: #00af00; text-decoration-color: #00af00\">306</span> │\n",
              "├──────────────────────────────────────┼─────────────────────────────┼─────────────────┤\n",
              "│ dense_11 (<span style=\"color: #0087ff; text-decoration-color: #0087ff\">Dense</span>)                     │ (<span style=\"color: #00d7ff; text-decoration-color: #00d7ff\">None</span>, <span style=\"color: #00af00; text-decoration-color: #00af00\">3</span>)                   │              <span style=\"color: #00af00; text-decoration-color: #00af00\">54</span> │\n",
              "└──────────────────────────────────────┴─────────────────────────────┴─────────────────┘\n",
              "</pre>\n"
            ]
          },
          "metadata": {}
        },
        {
          "output_type": "display_data",
          "data": {
            "text/plain": [
              "\u001b[1m Total params: \u001b[0m\u001b[38;5;34m1,227\u001b[0m (4.79 KB)\n"
            ],
            "text/html": [
              "<pre style=\"white-space:pre;overflow-x:auto;line-height:normal;font-family:Menlo,'DejaVu Sans Mono',consolas,'Courier New',monospace\"><span style=\"font-weight: bold\"> Total params: </span><span style=\"color: #00af00; text-decoration-color: #00af00\">1,227</span> (4.79 KB)\n",
              "</pre>\n"
            ]
          },
          "metadata": {}
        },
        {
          "output_type": "display_data",
          "data": {
            "text/plain": [
              "\u001b[1m Trainable params: \u001b[0m\u001b[38;5;34m1,227\u001b[0m (4.79 KB)\n"
            ],
            "text/html": [
              "<pre style=\"white-space:pre;overflow-x:auto;line-height:normal;font-family:Menlo,'DejaVu Sans Mono',consolas,'Courier New',monospace\"><span style=\"font-weight: bold\"> Trainable params: </span><span style=\"color: #00af00; text-decoration-color: #00af00\">1,227</span> (4.79 KB)\n",
              "</pre>\n"
            ]
          },
          "metadata": {}
        },
        {
          "output_type": "display_data",
          "data": {
            "text/plain": [
              "\u001b[1m Non-trainable params: \u001b[0m\u001b[38;5;34m0\u001b[0m (0.00 B)\n"
            ],
            "text/html": [
              "<pre style=\"white-space:pre;overflow-x:auto;line-height:normal;font-family:Menlo,'DejaVu Sans Mono',consolas,'Courier New',monospace\"><span style=\"font-weight: bold\"> Non-trainable params: </span><span style=\"color: #00af00; text-decoration-color: #00af00\">0</span> (0.00 B)\n",
              "</pre>\n"
            ]
          },
          "metadata": {}
        }
      ]
    },
    {
      "cell_type": "code",
      "source": [
        "model.compile(loss='categorical_crossentropy', optimizer='adam', metrics=['accuracy'])"
      ],
      "metadata": {
        "id": "OJKkqfRgRLl1"
      },
      "execution_count": 55,
      "outputs": []
    },
    {
      "cell_type": "code",
      "source": [
        "import keras\n",
        "from matplotlib import pyplot as plt\n",
        "history = model.fit(X_train,y_train,validation_split = 0.1,batch_size=8,epochs=100,verbose=2)\n",
        "plt.plot(history.history['accuracy'])\n",
        "plt.plot(history.history['val_accuracy'])\n",
        "plt.title('model accuracy')\n",
        "plt.ylabel('accuracy')\n",
        "plt.xlabel('epoch')\n",
        "plt.legend(['train', 'val'], loc='upper left')\n",
        "plt.show()"
      ],
      "metadata": {
        "colab": {
          "base_uri": "https://localhost:8080/",
          "height": 1000
        },
        "id": "Wpt9keSbRN9k",
        "outputId": "94372da9-c47d-48a9-8835-a44c1bcac206"
      },
      "execution_count": 56,
      "outputs": [
        {
          "output_type": "stream",
          "name": "stdout",
          "text": [
            "Epoch 1/100\n",
            "387/387 - 8s - 20ms/step - accuracy: 0.6986 - loss: 0.7240 - val_accuracy: 0.8198 - val_loss: 0.4451\n",
            "Epoch 2/100\n",
            "387/387 - 2s - 4ms/step - accuracy: 0.8463 - loss: 0.3900 - val_accuracy: 0.8663 - val_loss: 0.3366\n",
            "Epoch 3/100\n",
            "387/387 - 1s - 2ms/step - accuracy: 0.8727 - loss: 0.3299 - val_accuracy: 0.8488 - val_loss: 0.3468\n",
            "Epoch 4/100\n",
            "387/387 - 1s - 2ms/step - accuracy: 0.8815 - loss: 0.3117 - val_accuracy: 0.9157 - val_loss: 0.2677\n",
            "Epoch 5/100\n",
            "387/387 - 1s - 3ms/step - accuracy: 0.8879 - loss: 0.2915 - val_accuracy: 0.9157 - val_loss: 0.2636\n",
            "Epoch 6/100\n",
            "387/387 - 1s - 3ms/step - accuracy: 0.8886 - loss: 0.2811 - val_accuracy: 0.8808 - val_loss: 0.2795\n",
            "Epoch 7/100\n",
            "387/387 - 1s - 3ms/step - accuracy: 0.8966 - loss: 0.2625 - val_accuracy: 0.9244 - val_loss: 0.2431\n",
            "Epoch 8/100\n",
            "387/387 - 1s - 2ms/step - accuracy: 0.9008 - loss: 0.2560 - val_accuracy: 0.9186 - val_loss: 0.2254\n",
            "Epoch 9/100\n",
            "387/387 - 1s - 4ms/step - accuracy: 0.9131 - loss: 0.2443 - val_accuracy: 0.9186 - val_loss: 0.2434\n",
            "Epoch 10/100\n",
            "387/387 - 1s - 3ms/step - accuracy: 0.9115 - loss: 0.2370 - val_accuracy: 0.9128 - val_loss: 0.2383\n",
            "Epoch 11/100\n",
            "387/387 - 1s - 3ms/step - accuracy: 0.9125 - loss: 0.2267 - val_accuracy: 0.9128 - val_loss: 0.2228\n",
            "Epoch 12/100\n",
            "387/387 - 1s - 2ms/step - accuracy: 0.9131 - loss: 0.2222 - val_accuracy: 0.9244 - val_loss: 0.2042\n",
            "Epoch 13/100\n",
            "387/387 - 1s - 3ms/step - accuracy: 0.9138 - loss: 0.2224 - val_accuracy: 0.9012 - val_loss: 0.2355\n",
            "Epoch 14/100\n",
            "387/387 - 1s - 2ms/step - accuracy: 0.9193 - loss: 0.2119 - val_accuracy: 0.9273 - val_loss: 0.2089\n",
            "Epoch 15/100\n",
            "387/387 - 1s - 3ms/step - accuracy: 0.9222 - loss: 0.2049 - val_accuracy: 0.9128 - val_loss: 0.2151\n",
            "Epoch 16/100\n",
            "387/387 - 1s - 2ms/step - accuracy: 0.9238 - loss: 0.1983 - val_accuracy: 0.9215 - val_loss: 0.2046\n",
            "Epoch 17/100\n",
            "387/387 - 1s - 2ms/step - accuracy: 0.9302 - loss: 0.1901 - val_accuracy: 0.9157 - val_loss: 0.2111\n",
            "Epoch 18/100\n",
            "387/387 - 1s - 2ms/step - accuracy: 0.9280 - loss: 0.1903 - val_accuracy: 0.9302 - val_loss: 0.1992\n",
            "Epoch 19/100\n",
            "387/387 - 1s - 3ms/step - accuracy: 0.9264 - loss: 0.1899 - val_accuracy: 0.9273 - val_loss: 0.1862\n",
            "Epoch 20/100\n",
            "387/387 - 1s - 3ms/step - accuracy: 0.9299 - loss: 0.1791 - val_accuracy: 0.9157 - val_loss: 0.2167\n",
            "Epoch 21/100\n",
            "387/387 - 1s - 2ms/step - accuracy: 0.9280 - loss: 0.1842 - val_accuracy: 0.9390 - val_loss: 0.1862\n",
            "Epoch 22/100\n",
            "387/387 - 1s - 4ms/step - accuracy: 0.9276 - loss: 0.1794 - val_accuracy: 0.9186 - val_loss: 0.1854\n",
            "Epoch 23/100\n",
            "387/387 - 1s - 2ms/step - accuracy: 0.9335 - loss: 0.1759 - val_accuracy: 0.9244 - val_loss: 0.1985\n",
            "Epoch 24/100\n",
            "387/387 - 1s - 4ms/step - accuracy: 0.9386 - loss: 0.1670 - val_accuracy: 0.9273 - val_loss: 0.1908\n",
            "Epoch 25/100\n",
            "387/387 - 1s - 3ms/step - accuracy: 0.9338 - loss: 0.1695 - val_accuracy: 0.9244 - val_loss: 0.2009\n",
            "Epoch 26/100\n",
            "387/387 - 1s - 2ms/step - accuracy: 0.9393 - loss: 0.1695 - val_accuracy: 0.9070 - val_loss: 0.2329\n",
            "Epoch 27/100\n",
            "387/387 - 1s - 3ms/step - accuracy: 0.9422 - loss: 0.1645 - val_accuracy: 0.9273 - val_loss: 0.1836\n",
            "Epoch 28/100\n",
            "387/387 - 1s - 3ms/step - accuracy: 0.9428 - loss: 0.1622 - val_accuracy: 0.9244 - val_loss: 0.1984\n",
            "Epoch 29/100\n",
            "387/387 - 1s - 2ms/step - accuracy: 0.9425 - loss: 0.1576 - val_accuracy: 0.9128 - val_loss: 0.2008\n",
            "Epoch 30/100\n",
            "387/387 - 1s - 2ms/step - accuracy: 0.9409 - loss: 0.1602 - val_accuracy: 0.9331 - val_loss: 0.1888\n",
            "Epoch 31/100\n",
            "387/387 - 1s - 3ms/step - accuracy: 0.9428 - loss: 0.1541 - val_accuracy: 0.9302 - val_loss: 0.1801\n",
            "Epoch 32/100\n",
            "387/387 - 1s - 3ms/step - accuracy: 0.9393 - loss: 0.1663 - val_accuracy: 0.9331 - val_loss: 0.1966\n",
            "Epoch 33/100\n",
            "387/387 - 1s - 2ms/step - accuracy: 0.9432 - loss: 0.1564 - val_accuracy: 0.9360 - val_loss: 0.1731\n",
            "Epoch 34/100\n",
            "387/387 - 1s - 3ms/step - accuracy: 0.9441 - loss: 0.1516 - val_accuracy: 0.9215 - val_loss: 0.1939\n",
            "Epoch 35/100\n",
            "387/387 - 1s - 2ms/step - accuracy: 0.9454 - loss: 0.1488 - val_accuracy: 0.9273 - val_loss: 0.1790\n",
            "Epoch 36/100\n",
            "387/387 - 2s - 5ms/step - accuracy: 0.9419 - loss: 0.1532 - val_accuracy: 0.9419 - val_loss: 0.1499\n",
            "Epoch 37/100\n",
            "387/387 - 3s - 7ms/step - accuracy: 0.9490 - loss: 0.1478 - val_accuracy: 0.9360 - val_loss: 0.1719\n",
            "Epoch 38/100\n",
            "387/387 - 2s - 4ms/step - accuracy: 0.9444 - loss: 0.1478 - val_accuracy: 0.9186 - val_loss: 0.1949\n",
            "Epoch 39/100\n",
            "387/387 - 1s - 2ms/step - accuracy: 0.9451 - loss: 0.1456 - val_accuracy: 0.9390 - val_loss: 0.1651\n",
            "Epoch 40/100\n",
            "387/387 - 1s - 3ms/step - accuracy: 0.9474 - loss: 0.1414 - val_accuracy: 0.9302 - val_loss: 0.1698\n",
            "Epoch 41/100\n",
            "387/387 - 1s - 2ms/step - accuracy: 0.9464 - loss: 0.1404 - val_accuracy: 0.9360 - val_loss: 0.1955\n",
            "Epoch 42/100\n",
            "387/387 - 1s - 2ms/step - accuracy: 0.9454 - loss: 0.1431 - val_accuracy: 0.9448 - val_loss: 0.1489\n",
            "Epoch 43/100\n",
            "387/387 - 1s - 3ms/step - accuracy: 0.9496 - loss: 0.1393 - val_accuracy: 0.9157 - val_loss: 0.2066\n",
            "Epoch 44/100\n",
            "387/387 - 1s - 2ms/step - accuracy: 0.9496 - loss: 0.1454 - val_accuracy: 0.9360 - val_loss: 0.1805\n",
            "Epoch 45/100\n",
            "387/387 - 1s - 2ms/step - accuracy: 0.9499 - loss: 0.1372 - val_accuracy: 0.9128 - val_loss: 0.2198\n",
            "Epoch 46/100\n",
            "387/387 - 1s - 2ms/step - accuracy: 0.9451 - loss: 0.1439 - val_accuracy: 0.9477 - val_loss: 0.1502\n",
            "Epoch 47/100\n",
            "387/387 - 1s - 2ms/step - accuracy: 0.9564 - loss: 0.1326 - val_accuracy: 0.9070 - val_loss: 0.2269\n",
            "Epoch 48/100\n",
            "387/387 - 1s - 3ms/step - accuracy: 0.9496 - loss: 0.1368 - val_accuracy: 0.9360 - val_loss: 0.1881\n",
            "Epoch 49/100\n",
            "387/387 - 1s - 2ms/step - accuracy: 0.9490 - loss: 0.1335 - val_accuracy: 0.9390 - val_loss: 0.1683\n",
            "Epoch 50/100\n",
            "387/387 - 1s - 4ms/step - accuracy: 0.9483 - loss: 0.1355 - val_accuracy: 0.9302 - val_loss: 0.1751\n",
            "Epoch 51/100\n",
            "387/387 - 1s - 3ms/step - accuracy: 0.9499 - loss: 0.1378 - val_accuracy: 0.9273 - val_loss: 0.1908\n",
            "Epoch 52/100\n",
            "387/387 - 1s - 3ms/step - accuracy: 0.9538 - loss: 0.1295 - val_accuracy: 0.9535 - val_loss: 0.1541\n",
            "Epoch 53/100\n",
            "387/387 - 1s - 2ms/step - accuracy: 0.9496 - loss: 0.1322 - val_accuracy: 0.9360 - val_loss: 0.1826\n",
            "Epoch 54/100\n",
            "387/387 - 1s - 2ms/step - accuracy: 0.9541 - loss: 0.1286 - val_accuracy: 0.9448 - val_loss: 0.1831\n",
            "Epoch 55/100\n",
            "387/387 - 1s - 3ms/step - accuracy: 0.9541 - loss: 0.1303 - val_accuracy: 0.9360 - val_loss: 0.1914\n",
            "Epoch 56/100\n",
            "387/387 - 1s - 3ms/step - accuracy: 0.9493 - loss: 0.1364 - val_accuracy: 0.9419 - val_loss: 0.1679\n",
            "Epoch 57/100\n",
            "387/387 - 1s - 3ms/step - accuracy: 0.9532 - loss: 0.1348 - val_accuracy: 0.9448 - val_loss: 0.1684\n",
            "Epoch 58/100\n",
            "387/387 - 1s - 2ms/step - accuracy: 0.9506 - loss: 0.1294 - val_accuracy: 0.9390 - val_loss: 0.1698\n",
            "Epoch 59/100\n",
            "387/387 - 1s - 3ms/step - accuracy: 0.9496 - loss: 0.1278 - val_accuracy: 0.9506 - val_loss: 0.1552\n",
            "Epoch 60/100\n",
            "387/387 - 1s - 3ms/step - accuracy: 0.9564 - loss: 0.1208 - val_accuracy: 0.9360 - val_loss: 0.1674\n",
            "Epoch 61/100\n",
            "387/387 - 1s - 2ms/step - accuracy: 0.9570 - loss: 0.1215 - val_accuracy: 0.9448 - val_loss: 0.1564\n",
            "Epoch 62/100\n",
            "387/387 - 1s - 4ms/step - accuracy: 0.9532 - loss: 0.1277 - val_accuracy: 0.9419 - val_loss: 0.1674\n",
            "Epoch 63/100\n",
            "387/387 - 1s - 4ms/step - accuracy: 0.9574 - loss: 0.1162 - val_accuracy: 0.9419 - val_loss: 0.1575\n",
            "Epoch 64/100\n",
            "387/387 - 1s - 4ms/step - accuracy: 0.9577 - loss: 0.1197 - val_accuracy: 0.9419 - val_loss: 0.1700\n",
            "Epoch 65/100\n",
            "387/387 - 1s - 2ms/step - accuracy: 0.9538 - loss: 0.1256 - val_accuracy: 0.9448 - val_loss: 0.1589\n",
            "Epoch 66/100\n",
            "387/387 - 1s - 3ms/step - accuracy: 0.9593 - loss: 0.1168 - val_accuracy: 0.9535 - val_loss: 0.1602\n",
            "Epoch 67/100\n",
            "387/387 - 1s - 2ms/step - accuracy: 0.9570 - loss: 0.1158 - val_accuracy: 0.9331 - val_loss: 0.1769\n",
            "Epoch 68/100\n",
            "387/387 - 1s - 2ms/step - accuracy: 0.9570 - loss: 0.1145 - val_accuracy: 0.9448 - val_loss: 0.1640\n",
            "Epoch 69/100\n",
            "387/387 - 1s - 3ms/step - accuracy: 0.9596 - loss: 0.1150 - val_accuracy: 0.9477 - val_loss: 0.1674\n",
            "Epoch 70/100\n",
            "387/387 - 1s - 3ms/step - accuracy: 0.9583 - loss: 0.1169 - val_accuracy: 0.9099 - val_loss: 0.2476\n",
            "Epoch 71/100\n",
            "387/387 - 1s - 2ms/step - accuracy: 0.9538 - loss: 0.1194 - val_accuracy: 0.9360 - val_loss: 0.1803\n",
            "Epoch 72/100\n",
            "387/387 - 1s - 2ms/step - accuracy: 0.9574 - loss: 0.1199 - val_accuracy: 0.9419 - val_loss: 0.1620\n",
            "Epoch 73/100\n",
            "387/387 - 1s - 2ms/step - accuracy: 0.9561 - loss: 0.1148 - val_accuracy: 0.9535 - val_loss: 0.1686\n",
            "Epoch 74/100\n",
            "387/387 - 1s - 2ms/step - accuracy: 0.9574 - loss: 0.1148 - val_accuracy: 0.9448 - val_loss: 0.1840\n",
            "Epoch 75/100\n",
            "387/387 - 1s - 2ms/step - accuracy: 0.9545 - loss: 0.1189 - val_accuracy: 0.9012 - val_loss: 0.2467\n",
            "Epoch 76/100\n",
            "387/387 - 1s - 3ms/step - accuracy: 0.9603 - loss: 0.1152 - val_accuracy: 0.9477 - val_loss: 0.1669\n",
            "Epoch 77/100\n",
            "387/387 - 1s - 2ms/step - accuracy: 0.9564 - loss: 0.1144 - val_accuracy: 0.9535 - val_loss: 0.1563\n",
            "Epoch 78/100\n",
            "387/387 - 1s - 3ms/step - accuracy: 0.9587 - loss: 0.1075 - val_accuracy: 0.9477 - val_loss: 0.1537\n",
            "Epoch 79/100\n",
            "387/387 - 1s - 3ms/step - accuracy: 0.9587 - loss: 0.1189 - val_accuracy: 0.9331 - val_loss: 0.1893\n",
            "Epoch 80/100\n",
            "387/387 - 1s - 3ms/step - accuracy: 0.9599 - loss: 0.1121 - val_accuracy: 0.9448 - val_loss: 0.1593\n",
            "Epoch 81/100\n",
            "387/387 - 1s - 3ms/step - accuracy: 0.9609 - loss: 0.1075 - val_accuracy: 0.9390 - val_loss: 0.1767\n",
            "Epoch 82/100\n",
            "387/387 - 1s - 2ms/step - accuracy: 0.9606 - loss: 0.1063 - val_accuracy: 0.9390 - val_loss: 0.1674\n",
            "Epoch 83/100\n",
            "387/387 - 1s - 3ms/step - accuracy: 0.9609 - loss: 0.1033 - val_accuracy: 0.9331 - val_loss: 0.1698\n",
            "Epoch 84/100\n",
            "387/387 - 1s - 3ms/step - accuracy: 0.9593 - loss: 0.1097 - val_accuracy: 0.9477 - val_loss: 0.1651\n",
            "Epoch 85/100\n",
            "387/387 - 1s - 3ms/step - accuracy: 0.9629 - loss: 0.1061 - val_accuracy: 0.9390 - val_loss: 0.1778\n",
            "Epoch 86/100\n",
            "387/387 - 1s - 2ms/step - accuracy: 0.9641 - loss: 0.1044 - val_accuracy: 0.9448 - val_loss: 0.1506\n",
            "Epoch 87/100\n",
            "387/387 - 1s - 3ms/step - accuracy: 0.9619 - loss: 0.1047 - val_accuracy: 0.9419 - val_loss: 0.1704\n",
            "Epoch 88/100\n",
            "387/387 - 1s - 4ms/step - accuracy: 0.9638 - loss: 0.1043 - val_accuracy: 0.9302 - val_loss: 0.2071\n",
            "Epoch 89/100\n",
            "387/387 - 1s - 3ms/step - accuracy: 0.9616 - loss: 0.1087 - val_accuracy: 0.9244 - val_loss: 0.2081\n",
            "Epoch 90/100\n",
            "387/387 - 1s - 3ms/step - accuracy: 0.9625 - loss: 0.1125 - val_accuracy: 0.9419 - val_loss: 0.1560\n",
            "Epoch 91/100\n",
            "387/387 - 1s - 3ms/step - accuracy: 0.9635 - loss: 0.0991 - val_accuracy: 0.9390 - val_loss: 0.1891\n",
            "Epoch 92/100\n",
            "387/387 - 1s - 3ms/step - accuracy: 0.9654 - loss: 0.0961 - val_accuracy: 0.9477 - val_loss: 0.1617\n",
            "Epoch 93/100\n",
            "387/387 - 1s - 3ms/step - accuracy: 0.9680 - loss: 0.0989 - val_accuracy: 0.9477 - val_loss: 0.1650\n",
            "Epoch 94/100\n",
            "387/387 - 1s - 2ms/step - accuracy: 0.9651 - loss: 0.0997 - val_accuracy: 0.9477 - val_loss: 0.1843\n",
            "Epoch 95/100\n",
            "387/387 - 1s - 3ms/step - accuracy: 0.9616 - loss: 0.1067 - val_accuracy: 0.9390 - val_loss: 0.1585\n",
            "Epoch 96/100\n",
            "387/387 - 1s - 2ms/step - accuracy: 0.9609 - loss: 0.1062 - val_accuracy: 0.9448 - val_loss: 0.1479\n",
            "Epoch 97/100\n",
            "387/387 - 1s - 3ms/step - accuracy: 0.9706 - loss: 0.0901 - val_accuracy: 0.9302 - val_loss: 0.2354\n",
            "Epoch 98/100\n",
            "387/387 - 1s - 2ms/step - accuracy: 0.9632 - loss: 0.1072 - val_accuracy: 0.9506 - val_loss: 0.1694\n",
            "Epoch 99/100\n",
            "387/387 - 1s - 3ms/step - accuracy: 0.9706 - loss: 0.0930 - val_accuracy: 0.9215 - val_loss: 0.1943\n",
            "Epoch 100/100\n",
            "387/387 - 1s - 2ms/step - accuracy: 0.9700 - loss: 0.0927 - val_accuracy: 0.9419 - val_loss: 0.1802\n"
          ]
        },
        {
          "output_type": "display_data",
          "data": {
            "text/plain": [
              "<Figure size 640x480 with 1 Axes>"
            ],
            "image/png": "[encoded data removed]"
          },
          "metadata": {}
        }
      ]
    },
    {
      "cell_type": "code",
      "source": [
        "# Write the testing input and output variables\n",
        "score = model.evaluate(X_test, y_test, verbose=1)\n",
        "print('Test loss:', score[0])\n",
        "print('Test accuracy:', score[1])"
      ],
      "metadata": {
        "id": "RB7qW874RRF-",
        "colab": {
          "base_uri": "https://localhost:8080/"
        },
        "outputId": "75077eac-612b-4560-8f8c-3aabc40d2b2f"
      },
      "execution_count": 57,
      "outputs": [
        {
          "output_type": "stream",
          "name": "stdout",
          "text": [
            "\u001b[1m27/27\u001b[0m \u001b[32m━━━━━━━━━━━━━━━━━━━━\u001b[0m\u001b[37m\u001b[0m \u001b[1m0s\u001b[0m 4ms/step - accuracy: 0.9385 - loss: 0.1844\n",
            "Test loss: 0.17776402831077576\n",
            "Test accuracy: 0.9337209463119507\n"
          ]
        }
      ]
    },
    {
      "cell_type": "code",
      "source": [
        "# Write the index of the test sample to test\n",
        "prediction = model.predict(X_test[35].reshape(1,14))\n",
        "print(prediction[0])\n",
        "print(np.round(prediction[0]))\n",
        "print(y_test[0])"
      ],
      "metadata": {
        "id": "vtPSoiu1Y7d5",
        "outputId": "de506b4c-0a79-42b8-f590-d6c698f786c4",
        "colab": {
          "base_uri": "https://localhost:8080/"
        }
      },
      "execution_count": 62,
      "outputs": [
        {
          "output_type": "stream",
          "name": "stdout",
          "text": [
            "\u001b[1m1/1\u001b[0m \u001b[32m━━━━━━━━━━━━━━━━━━━━\u001b[0m\u001b[37m\u001b[0m \u001b[1m0s\u001b[0m 20ms/step\n",
            "[2.4712629e-15 9.8236692e-01 1.7633095e-02]\n",
            "[0. 1. 0.]\n",
            "[0. 1. 0.]\n"
          ]
        }
      ]
    },
    {
      "cell_type": "code",
      "source": [
        "# Write the index of the test sample to test\n",
        "prediction = model.predict(X_test)\n",
        "print(prediction)\n",
        "print(np.round(prediction))\n",
        "print(y_test)\n",
        "y_pred=np.round(prediction)"
      ],
      "metadata": {
        "id": "8QyUbyZe3I3y",
        "outputId": "4402bf4d-4724-4f29-bddf-804a5914e099",
        "colab": {
          "base_uri": "https://localhost:8080/"
        }
      },
      "execution_count": 64,
      "outputs": [
        {
          "output_type": "stream",
          "name": "stdout",
          "text": [
            "\u001b[1m27/27\u001b[0m \u001b[32m━━━━━━━━━━━━━━━━━━━━\u001b[0m\u001b[37m\u001b[0m \u001b[1m0s\u001b[0m 2ms/step\n",
            "[[1.71980631e-18 2.06426457e-01 7.93573558e-01]\n",
            " [1.69445786e-15 9.70172882e-01 2.98271086e-02]\n",
            " [9.19180747e-13 9.45978045e-01 5.40219732e-02]\n",
            " ...\n",
            " [2.63489285e-19 9.96313393e-01 3.68662155e-03]\n",
            " [1.74804046e-18 8.22447717e-01 1.77552253e-01]\n",
            " [6.54624278e-16 9.89633203e-01 1.03668505e-02]]\n",
            "[[0. 0. 1.]\n",
            " [0. 1. 0.]\n",
            " [0. 1. 0.]\n",
            " ...\n",
            " [0. 1. 0.]\n",
            " [0. 1. 0.]\n",
            " [0. 1. 0.]]\n",
            "[[0. 1. 0.]\n",
            " [0. 1. 0.]\n",
            " [0. 1. 0.]\n",
            " ...\n",
            " [0. 1. 0.]\n",
            " [0. 1. 0.]\n",
            " [0. 1. 0.]]\n"
          ]
        }
      ]
    },
    {
      "cell_type": "code",
      "source": [
        "import seaborn as sns\n",
        "from sklearn.metrics import confusion_matrix\n",
        "\n",
        "T5_lables = ['ex','good','poor']\n",
        "\n",
        "ax= plt.subplot()\n",
        "\n",
        "cm = confusion_matrix(np.asarray(y_test).argmax(axis=1), np.asarray(y_pred).argmax(axis=1))\n",
        "sns.heatmap(cm, annot=True, fmt='g', ax=ax);  #annot=True to annotate cells, ftm='g' to disable scientific notation\n",
        "\n",
        "# labels, title and ticks\n",
        "ax.set_xlabel('Predicted labels');ax.set_ylabel('True labels');\n",
        "ax.set_title('Confusion Matrix');\n",
        "ax.xaxis.set_ticklabels(T5_lables); ax.yaxis.set_ticklabels(T5_lables);"
      ],
      "metadata": {
        "id": "9dQqRBulZGCq",
        "outputId": "ea4de24f-c02b-4d7e-93b8-dd0e14daa695",
        "colab": {
          "base_uri": "https://localhost:8080/",
          "height": 472
        }
      },
      "execution_count": 67,
      "outputs": [
        {
          "output_type": "display_data",
          "data": {
            "text/plain": [
              "<Figure size 640x480 with 2 Axes>"
            ],
            "image/png": "[encoded data removed]"
          },
          "metadata": {}
        }
      ]
    },
    {
      "cell_type": "code",
      "source": [],
      "metadata": {
        "id": "uVFKkElH3DXS"
      },
      "execution_count": null,
      "outputs": []
    }
  ]
}