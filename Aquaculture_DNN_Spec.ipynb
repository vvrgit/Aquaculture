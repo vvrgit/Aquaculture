{
  "nbformat": 4,
  "nbformat_minor": 0,
  "metadata": {
    "colab": {
      "provenance": [],
      "gpuType": "T4",
      "include_colab_link": true
    },
    "kernelspec": {
      "name": "python3",
      "display_name": "Python 3"
    },
    "language_info": {
      "name": "python"
    },
    "accelerator": "GPU"
  },
  "cells": [
    {
      "cell_type": "markdown",
      "metadata": {
        "id": "view-in-github",
        "colab_type": "text"
      },
      "source": [
        "<a href=\"https://colab.research.google.com/github/vvrgit/Aquaculture/blob/main/Aquaculture_DNN_Spec.ipynb\" target=\"_parent\"><img src=\"https://colab.research.google.com/assets/colab-badge.svg\" alt=\"Open In Colab\"/></a>"
      ]
    },
    {
      "cell_type": "code",
      "execution_count": 2,
      "metadata": {
        "id": "mgf_dIysQPrX",
        "colab": {
          "base_uri": "https://localhost:8080/"
        },
        "outputId": "d1bbbedd-4a25-43c6-8f7c-1159a18ae073"
      },
      "outputs": [
        {
          "output_type": "stream",
          "name": "stdout",
          "text": [
            "Mounted at /content/drive\n"
          ]
        }
      ],
      "source": [
        "from google.colab import drive\n",
        "drive.mount('/content/drive')"
      ]
    },
    {
      "cell_type": "code",
      "source": [
        "import warnings\n",
        "warnings.filterwarnings('ignore')\n",
        "\n",
        "import numpy as np\n",
        "import matplotlib.pyplot as plt\n",
        "import keras  #Keras is the deep learning library that helps you to code Deep Neural Networks with fewer lines of code\n",
        "#from keras.datasets import mnist\n",
        "from keras.models import Sequential\n",
        "from keras.layers import Dense\n",
        "from tensorflow.keras.optimizers import RMSprop,Adadelta,SGD,Adagrad,Adam,Adamax,Nadam\n",
        "#import pylab as plt\n",
        "#import seaborn as sns #For data visualization\n",
        "import pandas as pd # For Data manipulation\n",
        "\n",
        "from sklearn.preprocessing import LabelEncoder\n",
        "from keras.utils import to_categorical\n",
        "from keras.callbacks import ModelCheckpoint"
      ],
      "metadata": {
        "id": "0oEWV4E7Qh28"
      },
      "execution_count": 1,
      "outputs": []
    },
    {
      "cell_type": "code",
      "source": [
        "dataframe = pd.read_excel(\"/content/drive/MyDrive/AI Data/WQD.xlsx\")\n",
        "dataframe.head()"
      ],
      "metadata": {
        "colab": {
          "base_uri": "https://localhost:8080/",
          "height": 223
        },
        "id": "AMpcdPu9Qt7D",
        "outputId": "dfd41d33-1793-4c91-d4e7-4304d2155ce9"
      },
      "execution_count": null,
      "outputs": [
        {
          "output_type": "execute_result",
          "data": {
            "text/plain": [
              "        Temp  Turbidity (cm)   DO(mg/L)  BOD (mg/L)        CO2        pH`  \\\n",
              "0  67.448725       10.127148   0.208153    7.473607  10.181084   4.751657   \n",
              "1  64.626666       94.015595  11.434463   10.859998  14.860521   3.085154   \n",
              "2  65.121842       90.653462  12.430865   12.809970  12.319980   9.648515   \n",
              "3   1.640334        0.066344  10.963529    8.508023  12.955209   4.819988   \n",
              "4  64.863434        2.119173   1.361736   13.335372  13.603197  10.244034   \n",
              "\n",
              "   Alkalinity (mg L-1 )  Hardness (mg L-1 )  Calcium (mg L-1 )  \\\n",
              "0            218.364855          300.125080         337.178226   \n",
              "1            273.939692            8.426776         363.660740   \n",
              "2            220.812730           11.726274         309.370934   \n",
              "3            266.571628            6.627655           8.180468   \n",
              "4            252.108000          339.891514         253.996871   \n",
              "\n",
              "   Ammonia (mg L-1 )  Nitrite (mg L-1 )  Phosphorus (mg L-1 )  H2S (mg L-1 )  \\\n",
              "0           0.286054           4.355310              0.005984       0.066793   \n",
              "1           0.096040           2.182753              0.004906       0.023428   \n",
              "2           0.974501           4.901760              0.006979       0.065041   \n",
              "3           0.884865           3.571842              3.174473       0.026018   \n",
              "4           0.801695           4.655898              3.854701       0.060995   \n",
              "\n",
              "   Plankton (No. L-1)  Water Quality  \n",
              "0         6069.624017              2  \n",
              "1          250.995959              2  \n",
              "2         7218.927473              2  \n",
              "3         1230.062252              2  \n",
              "4         1035.054820              2  "
            ],
            "text/html": [
              "\n",
              "  <div id=\"df-8b843559-c558-4986-8f38-22761d5abfea\" class=\"colab-df-container\">\n",
              "    <div>\n",
              "<style scoped>\n",
              "    .dataframe tbody tr th:only-of-type {\n",
              "        vertical-align: middle;\n",
              "    }\n",
              "\n",
              "    .dataframe tbody tr th {\n",
              "        vertical-align: top;\n",
              "    }\n",
              "\n",
              "    .dataframe thead th {\n",
              "        text-align: right;\n",
              "    }\n",
              "</style>\n",
              "<table border=\"1\" class=\"dataframe\">\n",
              "  <thead>\n",
              "    <tr style=\"text-align: right;\">\n",
              "      <th></th>\n",
              "      <th>Temp</th>\n",
              "      <th>Turbidity (cm)</th>\n",
              "      <th>DO(mg/L)</th>\n",
              "      <th>BOD (mg/L)</th>\n",
              "      <th>CO2</th>\n",
              "      <th>pH`</th>\n",
              "      <th>Alkalinity (mg L-1 )</th>\n",
              "      <th>Hardness (mg L-1 )</th>\n",
              "      <th>Calcium (mg L-1 )</th>\n",
              "      <th>Ammonia (mg L-1 )</th>\n",
              "      <th>Nitrite (mg L-1 )</th>\n",
              "      <th>Phosphorus (mg L-1 )</th>\n",
              "      <th>H2S (mg L-1 )</th>\n",
              "      <th>Plankton (No. L-1)</th>\n",
              "      <th>Water Quality</th>\n",
              "    </tr>\n",
              "  </thead>\n",
              "  <tbody>\n",
              "    <tr>\n",
              "      <th>0</th>\n",
              "      <td>67.448725</td>\n",
              "      <td>10.127148</td>\n",
              "      <td>0.208153</td>\n",
              "      <td>7.473607</td>\n",
              "      <td>10.181084</td>\n",
              "      <td>4.751657</td>\n",
              "      <td>218.364855</td>\n",
              "      <td>300.125080</td>\n",
              "      <td>337.178226</td>\n",
              "      <td>0.286054</td>\n",
              "      <td>4.355310</td>\n",
              "      <td>0.005984</td>\n",
              "      <td>0.066793</td>\n",
              "      <td>6069.624017</td>\n",
              "      <td>2</td>\n",
              "    </tr>\n",
              "    <tr>\n",
              "      <th>1</th>\n",
              "      <td>64.626666</td>\n",
              "      <td>94.015595</td>\n",
              "      <td>11.434463</td>\n",
              "      <td>10.859998</td>\n",
              "      <td>14.860521</td>\n",
              "      <td>3.085154</td>\n",
              "      <td>273.939692</td>\n",
              "      <td>8.426776</td>\n",
              "      <td>363.660740</td>\n",
              "      <td>0.096040</td>\n",
              "      <td>2.182753</td>\n",
              "      <td>0.004906</td>\n",
              "      <td>0.023428</td>\n",
              "      <td>250.995959</td>\n",
              "      <td>2</td>\n",
              "    </tr>\n",
              "    <tr>\n",
              "      <th>2</th>\n",
              "      <td>65.121842</td>\n",
              "      <td>90.653462</td>\n",
              "      <td>12.430865</td>\n",
              "      <td>12.809970</td>\n",
              "      <td>12.319980</td>\n",
              "      <td>9.648515</td>\n",
              "      <td>220.812730</td>\n",
              "      <td>11.726274</td>\n",
              "      <td>309.370934</td>\n",
              "      <td>0.974501</td>\n",
              "      <td>4.901760</td>\n",
              "      <td>0.006979</td>\n",
              "      <td>0.065041</td>\n",
              "      <td>7218.927473</td>\n",
              "      <td>2</td>\n",
              "    </tr>\n",
              "    <tr>\n",
              "      <th>3</th>\n",
              "      <td>1.640334</td>\n",
              "      <td>0.066344</td>\n",
              "      <td>10.963529</td>\n",
              "      <td>8.508023</td>\n",
              "      <td>12.955209</td>\n",
              "      <td>4.819988</td>\n",
              "      <td>266.571628</td>\n",
              "      <td>6.627655</td>\n",
              "      <td>8.180468</td>\n",
              "      <td>0.884865</td>\n",
              "      <td>3.571842</td>\n",
              "      <td>3.174473</td>\n",
              "      <td>0.026018</td>\n",
              "      <td>1230.062252</td>\n",
              "      <td>2</td>\n",
              "    </tr>\n",
              "    <tr>\n",
              "      <th>4</th>\n",
              "      <td>64.863434</td>\n",
              "      <td>2.119173</td>\n",
              "      <td>1.361736</td>\n",
              "      <td>13.335372</td>\n",
              "      <td>13.603197</td>\n",
              "      <td>10.244034</td>\n",
              "      <td>252.108000</td>\n",
              "      <td>339.891514</td>\n",
              "      <td>253.996871</td>\n",
              "      <td>0.801695</td>\n",
              "      <td>4.655898</td>\n",
              "      <td>3.854701</td>\n",
              "      <td>0.060995</td>\n",
              "      <td>1035.054820</td>\n",
              "      <td>2</td>\n",
              "    </tr>\n",
              "  </tbody>\n",
              "</table>\n",
              "</div>\n",
              "    <div class=\"colab-df-buttons\">\n",
              "\n",
              "  <div class=\"colab-df-container\">\n",
              "    <button class=\"colab-df-convert\" onclick=\"convertToInteractive('df-8b843559-c558-4986-8f38-22761d5abfea')\"\n",
              "            title=\"Convert this dataframe to an interactive table.\"\n",
              "            style=\"display:none;\">\n",
              "\n",
              "  <svg xmlns=\"http://www.w3.org/2000/svg\" height=\"24px\" viewBox=\"0 -960 960 960\">\n",
              "    <path d=\"M120-120v-720h720v720H120Zm60-500h600v-160H180v160Zm220 220h160v-160H400v160Zm0 220h160v-160H400v160ZM180-400h160v-160H180v160Zm440 0h160v-160H620v160ZM180-180h160v-160H180v160Zm440 0h160v-160H620v160Z\"/>\n",
              "  </svg>\n",
              "    </button>\n",
              "\n",
              "  <style>\n",
              "    .colab-df-container {\n",
              "      display:flex;\n",
              "      gap: 12px;\n",
              "    }\n",
              "\n",
              "    .colab-df-convert {\n",
              "      background-color: #E8F0FE;\n",
              "      border: none;\n",
              "      border-radius: 50%;\n",
              "      cursor: pointer;\n",
              "      display: none;\n",
              "      fill: #1967D2;\n",
              "      height: 32px;\n",
              "      padding: 0 0 0 0;\n",
              "      width: 32px;\n",
              "    }\n",
              "\n",
              "    .colab-df-convert:hover {\n",
              "      background-color: #E2EBFA;\n",
              "      box-shadow: 0px 1px 2px rgba(60, 64, 67, 0.3), 0px 1px 3px 1px rgba(60, 64, 67, 0.15);\n",
              "      fill: #174EA6;\n",
              "    }\n",
              "\n",
              "    .colab-df-buttons div {\n",
              "      margin-bottom: 4px;\n",
              "    }\n",
              "\n",
              "    [theme=dark] .colab-df-convert {\n",
              "      background-color: #3B4455;\n",
              "      fill: #D2E3FC;\n",
              "    }\n",
              "\n",
              "    [theme=dark] .colab-df-convert:hover {\n",
              "      background-color: #434B5C;\n",
              "      box-shadow: 0px 1px 3px 1px rgba(0, 0, 0, 0.15);\n",
              "      filter: drop-shadow(0px 1px 2px rgba(0, 0, 0, 0.3));\n",
              "      fill: #FFFFFF;\n",
              "    }\n",
              "  </style>\n",
              "\n",
              "    <script>\n",
              "      const buttonEl =\n",
              "        document.querySelector('#df-8b843559-c558-4986-8f38-22761d5abfea button.colab-df-convert');\n",
              "      buttonEl.style.display =\n",
              "        google.colab.kernel.accessAllowed ? 'block' : 'none';\n",
              "\n",
              "      async function convertToInteractive(key) {\n",
              "        const element = document.querySelector('#df-8b843559-c558-4986-8f38-22761d5abfea');\n",
              "        const dataTable =\n",
              "          await google.colab.kernel.invokeFunction('convertToInteractive',\n",
              "                                                    [key], {});\n",
              "        if (!dataTable) return;\n",
              "\n",
              "        const docLinkHtml = 'Like what you see? Visit the ' +\n",
              "          '<a target=\"_blank\" href=https://colab.research.google.com/notebooks/data_table.ipynb>data table notebook</a>'\n",
              "          + ' to learn more about interactive tables.';\n",
              "        element.innerHTML = '';\n",
              "        dataTable['output_type'] = 'display_data';\n",
              "        await google.colab.output.renderOutput(dataTable, element);\n",
              "        const docLink = document.createElement('div');\n",
              "        docLink.innerHTML = docLinkHtml;\n",
              "        element.appendChild(docLink);\n",
              "      }\n",
              "    </script>\n",
              "  </div>\n",
              "\n",
              "\n",
              "<div id=\"df-c40459a1-98fa-418d-978f-ebc6408d189e\">\n",
              "  <button class=\"colab-df-quickchart\" onclick=\"quickchart('df-c40459a1-98fa-418d-978f-ebc6408d189e')\"\n",
              "            title=\"Suggest charts\"\n",
              "            style=\"display:none;\">\n",
              "\n",
              "<svg xmlns=\"http://www.w3.org/2000/svg\" height=\"24px\"viewBox=\"0 0 24 24\"\n",
              "     width=\"24px\">\n",
              "    <g>\n",
              "        <path d=\"M19 3H5c-1.1 0-2 .9-2 2v14c0 1.1.9 2 2 2h14c1.1 0 2-.9 2-2V5c0-1.1-.9-2-2-2zM9 17H7v-7h2v7zm4 0h-2V7h2v10zm4 0h-2v-4h2v4z\"/>\n",
              "    </g>\n",
              "</svg>\n",
              "  </button>\n",
              "\n",
              "<style>\n",
              "  .colab-df-quickchart {\n",
              "      --bg-color: #E8F0FE;\n",
              "      --fill-color: #1967D2;\n",
              "      --hover-bg-color: #E2EBFA;\n",
              "      --hover-fill-color: #174EA6;\n",
              "      --disabled-fill-color: #AAA;\n",
              "      --disabled-bg-color: #DDD;\n",
              "  }\n",
              "\n",
              "  [theme=dark] .colab-df-quickchart {\n",
              "      --bg-color: #3B4455;\n",
              "      --fill-color: #D2E3FC;\n",
              "      --hover-bg-color: #434B5C;\n",
              "      --hover-fill-color: #FFFFFF;\n",
              "      --disabled-bg-color: #3B4455;\n",
              "      --disabled-fill-color: #666;\n",
              "  }\n",
              "\n",
              "  .colab-df-quickchart {\n",
              "    background-color: var(--bg-color);\n",
              "    border: none;\n",
              "    border-radius: 50%;\n",
              "    cursor: pointer;\n",
              "    display: none;\n",
              "    fill: var(--fill-color);\n",
              "    height: 32px;\n",
              "    padding: 0;\n",
              "    width: 32px;\n",
              "  }\n",
              "\n",
              "  .colab-df-quickchart:hover {\n",
              "    background-color: var(--hover-bg-color);\n",
              "    box-shadow: 0 1px 2px rgba(60, 64, 67, 0.3), 0 1px 3px 1px rgba(60, 64, 67, 0.15);\n",
              "    fill: var(--button-hover-fill-color);\n",
              "  }\n",
              "\n",
              "  .colab-df-quickchart-complete:disabled,\n",
              "  .colab-df-quickchart-complete:disabled:hover {\n",
              "    background-color: var(--disabled-bg-color);\n",
              "    fill: var(--disabled-fill-color);\n",
              "    box-shadow: none;\n",
              "  }\n",
              "\n",
              "  .colab-df-spinner {\n",
              "    border: 2px solid var(--fill-color);\n",
              "    border-color: transparent;\n",
              "    border-bottom-color: var(--fill-color);\n",
              "    animation:\n",
              "      spin 1s steps(1) infinite;\n",
              "  }\n",
              "\n",
              "  @keyframes spin {\n",
              "    0% {\n",
              "      border-color: transparent;\n",
              "      border-bottom-color: var(--fill-color);\n",
              "      border-left-color: var(--fill-color);\n",
              "    }\n",
              "    20% {\n",
              "      border-color: transparent;\n",
              "      border-left-color: var(--fill-color);\n",
              "      border-top-color: var(--fill-color);\n",
              "    }\n",
              "    30% {\n",
              "      border-color: transparent;\n",
              "      border-left-color: var(--fill-color);\n",
              "      border-top-color: var(--fill-color);\n",
              "      border-right-color: var(--fill-color);\n",
              "    }\n",
              "    40% {\n",
              "      border-color: transparent;\n",
              "      border-right-color: var(--fill-color);\n",
              "      border-top-color: var(--fill-color);\n",
              "    }\n",
              "    60% {\n",
              "      border-color: transparent;\n",
              "      border-right-color: var(--fill-color);\n",
              "    }\n",
              "    80% {\n",
              "      border-color: transparent;\n",
              "      border-right-color: var(--fill-color);\n",
              "      border-bottom-color: var(--fill-color);\n",
              "    }\n",
              "    90% {\n",
              "      border-color: transparent;\n",
              "      border-bottom-color: var(--fill-color);\n",
              "    }\n",
              "  }\n",
              "</style>\n",
              "\n",
              "  <script>\n",
              "    async function quickchart(key) {\n",
              "      const quickchartButtonEl =\n",
              "        document.querySelector('#' + key + ' button');\n",
              "      quickchartButtonEl.disabled = true;  // To prevent multiple clicks.\n",
              "      quickchartButtonEl.classList.add('colab-df-spinner');\n",
              "      try {\n",
              "        const charts = await google.colab.kernel.invokeFunction(\n",
              "            'suggestCharts', [key], {});\n",
              "      } catch (error) {\n",
              "        console.error('Error during call to suggestCharts:', error);\n",
              "      }\n",
              "      quickchartButtonEl.classList.remove('colab-df-spinner');\n",
              "      quickchartButtonEl.classList.add('colab-df-quickchart-complete');\n",
              "    }\n",
              "    (() => {\n",
              "      let quickchartButtonEl =\n",
              "        document.querySelector('#df-c40459a1-98fa-418d-978f-ebc6408d189e button');\n",
              "      quickchartButtonEl.style.display =\n",
              "        google.colab.kernel.accessAllowed ? 'block' : 'none';\n",
              "    })();\n",
              "  </script>\n",
              "</div>\n",
              "\n",
              "    </div>\n",
              "  </div>\n"
            ],
            "application/vnd.google.colaboratory.intrinsic+json": {
              "type": "dataframe",
              "variable_name": "dataframe",
              "summary": "{\n  \"name\": \"dataframe\",\n  \"rows\": 4300,\n  \"fields\": [\n    {\n      \"column\": \"Temp\",\n      \"properties\": {\n        \"dtype\": \"number\",\n        \"std\": 9.670202255246236,\n        \"min\": 0.194046124427335,\n        \"max\": 84.2515215749453,\n        \"num_unique_values\": 3800,\n        \"samples\": [\n          27.8153724508936,\n          27.2520511553709,\n          27.3600649116535\n        ],\n        \"semantic_type\": \"\",\n        \"description\": \"\"\n      }\n    },\n    {\n      \"column\": \"Turbidity (cm)\",\n      \"properties\": {\n        \"dtype\": \"number\",\n        \"std\": 20.94272577434483,\n        \"min\": 0.0514235005941593,\n        \"max\": 99.7977432092908,\n        \"num_unique_values\": 3800,\n        \"samples\": [\n          23.4174617892236,\n          47.2231205650521,\n          60.5665570225857\n        ],\n        \"semantic_type\": \"\",\n        \"description\": \"\"\n      }\n    },\n    {\n      \"column\": \"DO(mg/L)\",\n      \"properties\": {\n        \"dtype\": \"number\",\n        \"std\": 1.8327363279616873,\n        \"min\": 0.133928048822569,\n        \"max\": 14.9701223056335,\n        \"num_unique_values\": 3801,\n        \"samples\": [\n          3.56676876325787,\n          7.22376214850665,\n          4.78468040980092\n        ],\n        \"semantic_type\": \"\",\n        \"description\": \"\"\n      }\n    },\n    {\n      \"column\": \"BOD (mg/L)\",\n      \"properties\": {\n        \"dtype\": \"number\",\n        \"std\": 2.2920604777010083,\n        \"min\": 1.00062103061561,\n        \"max\": 14.9430057338615,\n        \"num_unique_values\": 3800,\n        \"samples\": [\n          4.17808775338499,\n          1.28856530888126,\n          1.25559529559476\n        ],\n        \"semantic_type\": \"\",\n        \"description\": \"\"\n      }\n    },\n    {\n      \"column\": \"CO2\",\n      \"properties\": {\n        \"dtype\": \"number\",\n        \"std\": 2.831103930148912,\n        \"min\": 0.00115532599708368,\n        \"max\": 14.9842163058911,\n        \"num_unique_values\": 3800,\n        \"samples\": [\n          2.43369605813009,\n          4.31729245733555,\n          7.22561794329278\n        ],\n        \"semantic_type\": \"\",\n        \"description\": \"\"\n      }\n    },\n    {\n      \"column\": \"pH`\",\n      \"properties\": {\n        \"dtype\": \"number\",\n        \"std\": 1.5802824986450466,\n        \"min\": 0.00394431040072218,\n        \"max\": 14.8511952971146,\n        \"num_unique_values\": 3700,\n        \"samples\": [\n          6.72574736403495,\n          6.2947446986332,\n          9.35158808598964\n        ],\n        \"semantic_type\": \"\",\n        \"description\": \"\"\n      }\n    },\n    {\n      \"column\": \"Alkalinity (mg L-1 )\",\n      \"properties\": {\n        \"dtype\": \"number\",\n        \"std\": 68.94904763335036,\n        \"min\": 25.0123281421022,\n        \"max\": 299.913160433269,\n        \"num_unique_values\": 3700,\n        \"samples\": [\n          292.89444689699,\n          105.127392057569,\n          47.3652539410484\n        ],\n        \"semantic_type\": \"\",\n        \"description\": \"\"\n      }\n    },\n    {\n      \"column\": \"Hardness (mg L-1 )\",\n      \"properties\": {\n        \"dtype\": \"number\",\n        \"std\": 78.8830908490568,\n        \"min\": 0.255805284264412,\n        \"max\": 398.79655005742,\n        \"num_unique_values\": 3700,\n        \"samples\": [\n          57.6976163522151,\n          202.707490295654,\n          216.55885886792\n        ],\n        \"semantic_type\": \"\",\n        \"description\": \"\"\n      }\n    },\n    {\n      \"column\": \"Calcium (mg L-1 )\",\n      \"properties\": {\n        \"dtype\": \"number\",\n        \"std\": 75.71884215198278,\n        \"min\": 0.0182934454547612,\n        \"max\": 399.321398201757,\n        \"num_unique_values\": 3700,\n        \"samples\": [\n          17.9773334643263,\n          172.368908714948,\n          134.185329496666\n        ],\n        \"semantic_type\": \"\",\n        \"description\": \"\"\n      }\n    },\n    {\n      \"column\": \"Ammonia (mg L-1 )\",\n      \"properties\": {\n        \"dtype\": \"number\",\n        \"std\": 0.1228860247981019,\n        \"min\": 1.23485463051631e-06,\n        \"max\": 0.999300485151642,\n        \"num_unique_values\": 3700,\n        \"samples\": [\n          0.00256691454602558,\n          0.0379073232464819,\n          0.0355863870203619\n        ],\n        \"semantic_type\": \"\",\n        \"description\": \"\"\n      }\n    },\n    {\n      \"column\": \"Nitrite (mg L-1 )\",\n      \"properties\": {\n        \"dtype\": \"number\",\n        \"std\": 0.9035920073380787,\n        \"min\": 2.500415978409e-05,\n        \"max\": 4.9895347911325,\n        \"num_unique_values\": 3700,\n        \"samples\": [\n          0.00543966354329605,\n          1.80501555423309,\n          1.65004053479727\n        ],\n        \"semantic_type\": \"\",\n        \"description\": \"\"\n      }\n    },\n    {\n      \"column\": \"Phosphorus (mg L-1 )\",\n      \"properties\": {\n        \"dtype\": \"number\",\n        \"std\": 1.0826476844398816,\n        \"min\": 0.000128395205679035,\n        \"max\": 4.97445696168086,\n        \"num_unique_values\": 3700,\n        \"samples\": [\n          1.26321913914825,\n          0.0276884621480501,\n          2.34179538630364\n        ],\n        \"semantic_type\": \"\",\n        \"description\": \"\"\n      }\n    },\n    {\n      \"column\": \"H2S (mg L-1 )\",\n      \"properties\": {\n        \"dtype\": \"number\",\n        \"std\": 0.01187383214560398,\n        \"min\": 2.34735475027803e-06,\n        \"max\": 0.0992199987897812,\n        \"num_unique_values\": 3700,\n        \"samples\": [\n          0.0120528024824466,\n          0.014212218562698,\n          0.00965712261712407\n        ],\n        \"semantic_type\": \"\",\n        \"description\": \"\"\n      }\n    },\n    {\n      \"column\": \"Plankton (No. L-1)\",\n      \"properties\": {\n        \"dtype\": \"number\",\n        \"std\": 1208.547783187856,\n        \"min\": 78.6037329563691,\n        \"max\": 7460.41578893025,\n        \"num_unique_values\": 3700,\n        \"samples\": [\n          5734.29604080489,\n          2752.27390420098,\n          5580.30636277422\n        ],\n        \"semantic_type\": \"\",\n        \"description\": \"\"\n      }\n    },\n    {\n      \"column\": \"Water Quality\",\n      \"properties\": {\n        \"dtype\": \"number\",\n        \"std\": 0,\n        \"min\": 0,\n        \"max\": 2,\n        \"num_unique_values\": 3,\n        \"samples\": [\n          2,\n          1,\n          0\n        ],\n        \"semantic_type\": \"\",\n        \"description\": \"\"\n      }\n    }\n  ]\n}"
            }
          },
          "metadata": {},
          "execution_count": 46
        }
      ]
    },
    {
      "cell_type": "code",
      "source": [
        "dataset = dataframe.values\n",
        "X = dataset[0:,0:14].astype(float)\n",
        "Y = dataset[0:,14]\n",
        "print(X[0:])"
      ],
      "metadata": {
        "colab": {
          "base_uri": "https://localhost:8080/"
        },
        "id": "o33GCMHaQwk7",
        "outputId": "0bfdd3ed-16a0-4d30-aa5c-d0c315721398"
      },
      "execution_count": null,
      "outputs": [
        {
          "output_type": "stream",
          "name": "stdout",
          "text": [
            "[[6.74487248e+01 1.01271479e+01 2.08152598e-01 ... 5.98351962e-03\n",
            "  6.67928501e-02 6.06962402e+03]\n",
            " [6.46266660e+01 9.40155952e+01 1.14344627e+01 ... 4.90608990e-03\n",
            "  2.34279599e-02 2.50995959e+02]\n",
            " [6.51218418e+01 9.06534623e+01 1.24308647e+01 ... 6.97923428e-03\n",
            "  6.50410879e-02 7.21892747e+03]\n",
            " ...\n",
            " [2.69684218e+01 4.48454162e+01 4.30993492e+00 ... 7.26881067e-01\n",
            "  1.91076819e-02 3.81644394e+03]\n",
            " [2.45230924e+01 5.71285964e+01 4.74361524e+00 ... 8.27799313e-01\n",
            "  1.99046121e-02 3.58098936e+03]\n",
            " [2.44348471e+01 7.62218150e+01 4.42584598e+00 ... 8.91224283e-01\n",
            "  1.92648940e-02 3.58423414e+03]]\n"
          ]
        }
      ]
    },
    {
      "cell_type": "code",
      "source": [
        "from sklearn.preprocessing import MinMaxScaler\n",
        "ms=MinMaxScaler()\n",
        "red_wine_data_X=ms.fit_transform(X)\n",
        "print(red_wine_data_X)"
      ],
      "metadata": {
        "colab": {
          "base_uri": "https://localhost:8080/"
        },
        "id": "XHIUsyYlQz8v",
        "outputId": "6f9bd36f-7762-4698-d9ec-1be13412c08c"
      },
      "execution_count": null,
      "outputs": [
        {
          "output_type": "stream",
          "name": "stdout",
          "text": [
            "[[8.00103481e-01 1.01013495e-01 5.00293726e-03 ... 1.17706829e-03\n",
            "  6.73171576e-01 8.11592091e-01]\n",
            " [7.66530514e-01 9.42031465e-01 7.61686887e-01 ... 9.60470269e-04\n",
            "  2.36103276e-01 2.33536461e-02]\n",
            " [7.72421433e-01 9.08324628e-01 8.28847103e-01 ... 1.37723896e-03\n",
            "  6.55515824e-01 9.67286038e-01]\n",
            " ...\n",
            " [3.18524623e-01 4.49079152e-01 2.81474265e-01 ... 1.46100657e-01\n",
            "  1.92559835e-01 5.06358084e-01]\n",
            " [2.89433464e-01 5.72223347e-01 3.10705502e-01 ... 1.66388470e-01\n",
            "  2.00591975e-01 4.74461501e-01]\n",
            " [2.88383642e-01 7.63641122e-01 2.89286987e-01 ... 1.79138928e-01\n",
            "  1.94144352e-01 4.74901065e-01]]\n"
          ]
        }
      ]
    },
    {
      "cell_type": "code",
      "source": [
        "import tensorflow as tf\n",
        "\n",
        "y_train=tf.keras.utils.to_categorical(Y,num_classes=3)\n",
        "print(y_train)"
      ],
      "metadata": {
        "colab": {
          "base_uri": "https://localhost:8080/"
        },
        "id": "oc-aEH1hQ34n",
        "outputId": "5a54591c-f970-4d23-8a08-7c2778f3982a"
      },
      "execution_count": null,
      "outputs": [
        {
          "output_type": "stream",
          "name": "stdout",
          "text": [
            "[[0. 0. 1.]\n",
            " [0. 0. 1.]\n",
            " [0. 0. 1.]\n",
            " ...\n",
            " [1. 0. 0.]\n",
            " [1. 0. 0.]\n",
            " [1. 0. 0.]]\n"
          ]
        }
      ]
    },
    {
      "cell_type": "code",
      "source": [
        "from sklearn.model_selection import train_test_split\n",
        "X_train, X_test, y_train, y_test = train_test_split(red_wine_data_X, y_train, test_size=0.2, random_state=0)\n",
        "print(y_test[0:5])\n",
        "print(X_train)"
      ],
      "metadata": {
        "colab": {
          "base_uri": "https://localhost:8080/"
        },
        "id": "me-3PKTPRAB8",
        "outputId": "c42d9730-3eba-4b85-bdbe-1b0165a02326"
      },
      "execution_count": null,
      "outputs": [
        {
          "output_type": "stream",
          "name": "stdout",
          "text": [
            "[[0. 1. 0.]\n",
            " [0. 1. 0.]\n",
            " [0. 1. 0.]\n",
            " [1. 0. 0.]\n",
            " [0. 0. 1.]]\n",
            "[[0.2044021  0.26358571 0.43766108 ... 0.00330223 0.04803045 0.31729808]\n",
            " [0.34229111 0.7621125  0.3213162  ... 0.25645242 0.19759969 0.56837745]\n",
            " [0.3356133  0.76146109 0.31421385 ... 0.32840851 0.19335239 0.59658362]\n",
            " ...\n",
            " [0.20805306 0.21369613 0.39011617 ... 0.00203244 0.09546591 0.74670141]\n",
            " [0.36677145 0.19525777 0.40169463 ... 0.00310678 0.14618867 0.35729484]\n",
            " [0.2011342  0.21316476 0.42516004 ... 0.00584566 0.14488687 0.64848288]]\n"
          ]
        }
      ]
    },
    {
      "cell_type": "code",
      "source": [
        "First_Layer_Size =17 # Number of neurons in first layer\n",
        "model=Sequential()\n",
        "model.add(Dense(First_Layer_Size,activation='relu', input_shape=(14,)))\n",
        "model.add(Dense(17,activation='relu'))\n",
        "model.add(Dense(17,activation='relu'))\n",
        "model.add(Dense(17,activation='relu'))\n",
        "model.add(Dense(3,activation='softmax'))\n",
        "model.summary()"
      ],
      "metadata": {
        "colab": {
          "base_uri": "https://localhost:8080/",
          "height": 300
        },
        "id": "Uv5o6TLjRD6w",
        "outputId": "95a60bb0-0b63-43e8-fcfb-9274567d9a69"
      },
      "execution_count": null,
      "outputs": [
        {
          "output_type": "display_data",
          "data": {
            "text/plain": [
              "\u001b[1mModel: \"sequential_2\"\u001b[0m\n"
            ],
            "text/html": [
              "<pre style=\"white-space:pre;overflow-x:auto;line-height:normal;font-family:Menlo,'DejaVu Sans Mono',consolas,'Courier New',monospace\"><span style=\"font-weight: bold\">Model: \"sequential_2\"</span>\n",
              "</pre>\n"
            ]
          },
          "metadata": {}
        },
        {
          "output_type": "display_data",
          "data": {
            "text/plain": [
              "┏━━━━━━━━━━━━━━━━━━━━━━━━━━━━━━━━━━━━━━┳━━━━━━━━━━━━━━━━━━━━━━━━━━━━━┳━━━━━━━━━━━━━━━━━┓\n",
              "┃\u001b[1m \u001b[0m\u001b[1mLayer (type)                        \u001b[0m\u001b[1m \u001b[0m┃\u001b[1m \u001b[0m\u001b[1mOutput Shape               \u001b[0m\u001b[1m \u001b[0m┃\u001b[1m \u001b[0m\u001b[1m        Param #\u001b[0m\u001b[1m \u001b[0m┃\n",
              "┡━━━━━━━━━━━━━━━━━━━━━━━━━━━━━━━━━━━━━━╇━━━━━━━━━━━━━━━━━━━━━━━━━━━━━╇━━━━━━━━━━━━━━━━━┩\n",
              "│ dense_7 (\u001b[38;5;33mDense\u001b[0m)                      │ (\u001b[38;5;45mNone\u001b[0m, \u001b[38;5;34m17\u001b[0m)                  │             \u001b[38;5;34m255\u001b[0m │\n",
              "├──────────────────────────────────────┼─────────────────────────────┼─────────────────┤\n",
              "│ dense_8 (\u001b[38;5;33mDense\u001b[0m)                      │ (\u001b[38;5;45mNone\u001b[0m, \u001b[38;5;34m17\u001b[0m)                  │             \u001b[38;5;34m306\u001b[0m │\n",
              "├──────────────────────────────────────┼─────────────────────────────┼─────────────────┤\n",
              "│ dense_9 (\u001b[38;5;33mDense\u001b[0m)                      │ (\u001b[38;5;45mNone\u001b[0m, \u001b[38;5;34m17\u001b[0m)                  │             \u001b[38;5;34m306\u001b[0m │\n",
              "├──────────────────────────────────────┼─────────────────────────────┼─────────────────┤\n",
              "│ dense_10 (\u001b[38;5;33mDense\u001b[0m)                     │ (\u001b[38;5;45mNone\u001b[0m, \u001b[38;5;34m17\u001b[0m)                  │             \u001b[38;5;34m306\u001b[0m │\n",
              "├──────────────────────────────────────┼─────────────────────────────┼─────────────────┤\n",
              "│ dense_11 (\u001b[38;5;33mDense\u001b[0m)                     │ (\u001b[38;5;45mNone\u001b[0m, \u001b[38;5;34m3\u001b[0m)                   │              \u001b[38;5;34m54\u001b[0m │\n",
              "└──────────────────────────────────────┴─────────────────────────────┴─────────────────┘\n"
            ],
            "text/html": [
              "<pre style=\"white-space:pre;overflow-x:auto;line-height:normal;font-family:Menlo,'DejaVu Sans Mono',consolas,'Courier New',monospace\">┏━━━━━━━━━━━━━━━━━━━━━━━━━━━━━━━━━━━━━━┳━━━━━━━━━━━━━━━━━━━━━━━━━━━━━┳━━━━━━━━━━━━━━━━━┓\n",
              "┃<span style=\"font-weight: bold\"> Layer (type)                         </span>┃<span style=\"font-weight: bold\"> Output Shape                </span>┃<span style=\"font-weight: bold\">         Param # </span>┃\n",
              "┡━━━━━━━━━━━━━━━━━━━━━━━━━━━━━━━━━━━━━━╇━━━━━━━━━━━━━━━━━━━━━━━━━━━━━╇━━━━━━━━━━━━━━━━━┩\n",
              "│ dense_7 (<span style=\"color: #0087ff; text-decoration-color: #0087ff\">Dense</span>)                      │ (<span style=\"color: #00d7ff; text-decoration-color: #00d7ff\">None</span>, <span style=\"color: #00af00; text-decoration-color: #00af00\">17</span>)                  │             <span style=\"color: #00af00; text-decoration-color: #00af00\">255</span> │\n",
              "├──────────────────────────────────────┼─────────────────────────────┼─────────────────┤\n",
              "│ dense_8 (<span style=\"color: #0087ff; text-decoration-color: #0087ff\">Dense</span>)                      │ (<span style=\"color: #00d7ff; text-decoration-color: #00d7ff\">None</span>, <span style=\"color: #00af00; text-decoration-color: #00af00\">17</span>)                  │             <span style=\"color: #00af00; text-decoration-color: #00af00\">306</span> │\n",
              "├──────────────────────────────────────┼─────────────────────────────┼─────────────────┤\n",
              "│ dense_9 (<span style=\"color: #0087ff; text-decoration-color: #0087ff\">Dense</span>)                      │ (<span style=\"color: #00d7ff; text-decoration-color: #00d7ff\">None</span>, <span style=\"color: #00af00; text-decoration-color: #00af00\">17</span>)                  │             <span style=\"color: #00af00; text-decoration-color: #00af00\">306</span> │\n",
              "├──────────────────────────────────────┼─────────────────────────────┼─────────────────┤\n",
              "│ dense_10 (<span style=\"color: #0087ff; text-decoration-color: #0087ff\">Dense</span>)                     │ (<span style=\"color: #00d7ff; text-decoration-color: #00d7ff\">None</span>, <span style=\"color: #00af00; text-decoration-color: #00af00\">17</span>)                  │             <span style=\"color: #00af00; text-decoration-color: #00af00\">306</span> │\n",
              "├──────────────────────────────────────┼─────────────────────────────┼─────────────────┤\n",
              "│ dense_11 (<span style=\"color: #0087ff; text-decoration-color: #0087ff\">Dense</span>)                     │ (<span style=\"color: #00d7ff; text-decoration-color: #00d7ff\">None</span>, <span style=\"color: #00af00; text-decoration-color: #00af00\">3</span>)                   │              <span style=\"color: #00af00; text-decoration-color: #00af00\">54</span> │\n",
              "└──────────────────────────────────────┴─────────────────────────────┴─────────────────┘\n",
              "</pre>\n"
            ]
          },
          "metadata": {}
        },
        {
          "output_type": "display_data",
          "data": {
            "text/plain": [
              "\u001b[1m Total params: \u001b[0m\u001b[38;5;34m1,227\u001b[0m (4.79 KB)\n"
            ],
            "text/html": [
              "<pre style=\"white-space:pre;overflow-x:auto;line-height:normal;font-family:Menlo,'DejaVu Sans Mono',consolas,'Courier New',monospace\"><span style=\"font-weight: bold\"> Total params: </span><span style=\"color: #00af00; text-decoration-color: #00af00\">1,227</span> (4.79 KB)\n",
              "</pre>\n"
            ]
          },
          "metadata": {}
        },
        {
          "output_type": "display_data",
          "data": {
            "text/plain": [
              "\u001b[1m Trainable params: \u001b[0m\u001b[38;5;34m1,227\u001b[0m (4.79 KB)\n"
            ],
            "text/html": [
              "<pre style=\"white-space:pre;overflow-x:auto;line-height:normal;font-family:Menlo,'DejaVu Sans Mono',consolas,'Courier New',monospace\"><span style=\"font-weight: bold\"> Trainable params: </span><span style=\"color: #00af00; text-decoration-color: #00af00\">1,227</span> (4.79 KB)\n",
              "</pre>\n"
            ]
          },
          "metadata": {}
        },
        {
          "output_type": "display_data",
          "data": {
            "text/plain": [
              "\u001b[1m Non-trainable params: \u001b[0m\u001b[38;5;34m0\u001b[0m (0.00 B)\n"
            ],
            "text/html": [
              "<pre style=\"white-space:pre;overflow-x:auto;line-height:normal;font-family:Menlo,'DejaVu Sans Mono',consolas,'Courier New',monospace\"><span style=\"font-weight: bold\"> Non-trainable params: </span><span style=\"color: #00af00; text-decoration-color: #00af00\">0</span> (0.00 B)\n",
              "</pre>\n"
            ]
          },
          "metadata": {}
        }
      ]
    },
    {
      "cell_type": "code",
      "source": [
        "model.compile(loss='categorical_crossentropy', optimizer='adam', metrics=['accuracy'])"
      ],
      "metadata": {
        "id": "OJKkqfRgRLl1"
      },
      "execution_count": null,
      "outputs": []
    },
    {
      "cell_type": "code",
      "source": [
        "import keras\n",
        "from matplotlib import pyplot as plt\n",
        "history = model.fit(X_train,y_train,validation_split = 0.1,batch_size=8,epochs=100,verbose=2)\n",
        "plt.plot(history.history['accuracy'])\n",
        "plt.plot(history.history['val_accuracy'])\n",
        "plt.title('model accuracy')\n",
        "plt.ylabel('accuracy')\n",
        "plt.xlabel('epoch')\n",
        "plt.legend(['train', 'val'], loc='upper left')\n",
        "plt.show()"
      ],
      "metadata": {
        "colab": {
          "base_uri": "https://localhost:8080/",
          "height": 1000
        },
        "id": "Wpt9keSbRN9k",
        "outputId": "94372da9-c47d-48a9-8835-a44c1bcac206"
      },
      "execution_count": null,
      "outputs": [
        {
          "output_type": "stream",
          "name": "stdout",
          "text": [
            "Epoch 1/100\n",
            "387/387 - 8s - 20ms/step - accuracy: 0.6986 - loss: 0.7240 - val_accuracy: 0.8198 - val_loss: 0.4451\n",
            "Epoch 2/100\n",
            "387/387 - 2s - 4ms/step - accuracy: 0.8463 - loss: 0.3900 - val_accuracy: 0.8663 - val_loss: 0.3366\n",
            "Epoch 3/100\n",
            "387/387 - 1s - 2ms/step - accuracy: 0.8727 - loss: 0.3299 - val_accuracy: 0.8488 - val_loss: 0.3468\n",
            "Epoch 4/100\n",
            "387/387 - 1s - 2ms/step - accuracy: 0.8815 - loss: 0.3117 - val_accuracy: 0.9157 - val_loss: 0.2677\n",
            "Epoch 5/100\n",
            "387/387 - 1s - 3ms/step - accuracy: 0.8879 - loss: 0.2915 - val_accuracy: 0.9157 - val_loss: 0.2636\n",
            "Epoch 6/100\n",
            "387/387 - 1s - 3ms/step - accuracy: 0.8886 - loss: 0.2811 - val_accuracy: 0.8808 - val_loss: 0.2795\n",
            "Epoch 7/100\n",
            "387/387 - 1s - 3ms/step - accuracy: 0.8966 - loss: 0.2625 - val_accuracy: 0.9244 - val_loss: 0.2431\n",
            "Epoch 8/100\n",
            "387/387 - 1s - 2ms/step - accuracy: 0.9008 - loss: 0.2560 - val_accuracy: 0.9186 - val_loss: 0.2254\n",
            "Epoch 9/100\n",
            "387/387 - 1s - 4ms/step - accuracy: 0.9131 - loss: 0.2443 - val_accuracy: 0.9186 - val_loss: 0.2434\n",
            "Epoch 10/100\n",
            "387/387 - 1s - 3ms/step - accuracy: 0.9115 - loss: 0.2370 - val_accuracy: 0.9128 - val_loss: 0.2383\n",
            "Epoch 11/100\n",
            "387/387 - 1s - 3ms/step - accuracy: 0.9125 - loss: 0.2267 - val_accuracy: 0.9128 - val_loss: 0.2228\n",
            "Epoch 12/100\n",
            "387/387 - 1s - 2ms/step - accuracy: 0.9131 - loss: 0.2222 - val_accuracy: 0.9244 - val_loss: 0.2042\n",
            "Epoch 13/100\n",
            "387/387 - 1s - 3ms/step - accuracy: 0.9138 - loss: 0.2224 - val_accuracy: 0.9012 - val_loss: 0.2355\n",
            "Epoch 14/100\n",
            "387/387 - 1s - 2ms/step - accuracy: 0.9193 - loss: 0.2119 - val_accuracy: 0.9273 - val_loss: 0.2089\n",
            "Epoch 15/100\n",
            "387/387 - 1s - 3ms/step - accuracy: 0.9222 - loss: 0.2049 - val_accuracy: 0.9128 - val_loss: 0.2151\n",
            "Epoch 16/100\n",
            "387/387 - 1s - 2ms/step - accuracy: 0.9238 - loss: 0.1983 - val_accuracy: 0.9215 - val_loss: 0.2046\n",
            "Epoch 17/100\n",
            "387/387 - 1s - 2ms/step - accuracy: 0.9302 - loss: 0.1901 - val_accuracy: 0.9157 - val_loss: 0.2111\n",
            "Epoch 18/100\n",
            "387/387 - 1s - 2ms/step - accuracy: 0.9280 - loss: 0.1903 - val_accuracy: 0.9302 - val_loss: 0.1992\n",
            "Epoch 19/100\n",
            "387/387 - 1s - 3ms/step - accuracy: 0.9264 - loss: 0.1899 - val_accuracy: 0.9273 - val_loss: 0.1862\n",
            "Epoch 20/100\n",
            "387/387 - 1s - 3ms/step - accuracy: 0.9299 - loss: 0.1791 - val_accuracy: 0.9157 - val_loss: 0.2167\n",
            "Epoch 21/100\n",
            "387/387 - 1s - 2ms/step - accuracy: 0.9280 - loss: 0.1842 - val_accuracy: 0.9390 - val_loss: 0.1862\n",
            "Epoch 22/100\n",
            "387/387 - 1s - 4ms/step - accuracy: 0.9276 - loss: 0.1794 - val_accuracy: 0.9186 - val_loss: 0.1854\n",
            "Epoch 23/100\n",
            "387/387 - 1s - 2ms/step - accuracy: 0.9335 - loss: 0.1759 - val_accuracy: 0.9244 - val_loss: 0.1985\n",
            "Epoch 24/100\n",
            "387/387 - 1s - 4ms/step - accuracy: 0.9386 - loss: 0.1670 - val_accuracy: 0.9273 - val_loss: 0.1908\n",
            "Epoch 25/100\n",
            "387/387 - 1s - 3ms/step - accuracy: 0.9338 - loss: 0.1695 - val_accuracy: 0.9244 - val_loss: 0.2009\n",
            "Epoch 26/100\n",
            "387/387 - 1s - 2ms/step - accuracy: 0.9393 - loss: 0.1695 - val_accuracy: 0.9070 - val_loss: 0.2329\n",
            "Epoch 27/100\n",
            "387/387 - 1s - 3ms/step - accuracy: 0.9422 - loss: 0.1645 - val_accuracy: 0.9273 - val_loss: 0.1836\n",
            "Epoch 28/100\n",
            "387/387 - 1s - 3ms/step - accuracy: 0.9428 - loss: 0.1622 - val_accuracy: 0.9244 - val_loss: 0.1984\n",
            "Epoch 29/100\n",
            "387/387 - 1s - 2ms/step - accuracy: 0.9425 - loss: 0.1576 - val_accuracy: 0.9128 - val_loss: 0.2008\n",
            "Epoch 30/100\n",
            "387/387 - 1s - 2ms/step - accuracy: 0.9409 - loss: 0.1602 - val_accuracy: 0.9331 - val_loss: 0.1888\n",
            "Epoch 31/100\n",
            "387/387 - 1s - 3ms/step - accuracy: 0.9428 - loss: 0.1541 - val_accuracy: 0.9302 - val_loss: 0.1801\n",
            "Epoch 32/100\n",
            "387/387 - 1s - 3ms/step - accuracy: 0.9393 - loss: 0.1663 - val_accuracy: 0.9331 - val_loss: 0.1966\n",
            "Epoch 33/100\n",
            "387/387 - 1s - 2ms/step - accuracy: 0.9432 - loss: 0.1564 - val_accuracy: 0.9360 - val_loss: 0.1731\n",
            "Epoch 34/100\n",
            "387/387 - 1s - 3ms/step - accuracy: 0.9441 - loss: 0.1516 - val_accuracy: 0.9215 - val_loss: 0.1939\n",
            "Epoch 35/100\n",
            "387/387 - 1s - 2ms/step - accuracy: 0.9454 - loss: 0.1488 - val_accuracy: 0.9273 - val_loss: 0.1790\n",
            "Epoch 36/100\n",
            "387/387 - 2s - 5ms/step - accuracy: 0.9419 - loss: 0.1532 - val_accuracy: 0.9419 - val_loss: 0.1499\n",
            "Epoch 37/100\n",
            "387/387 - 3s - 7ms/step - accuracy: 0.9490 - loss: 0.1478 - val_accuracy: 0.9360 - val_loss: 0.1719\n",
            "Epoch 38/100\n",
            "387/387 - 2s - 4ms/step - accuracy: 0.9444 - loss: 0.1478 - val_accuracy: 0.9186 - val_loss: 0.1949\n",
            "Epoch 39/100\n",
            "387/387 - 1s - 2ms/step - accuracy: 0.9451 - loss: 0.1456 - val_accuracy: 0.9390 - val_loss: 0.1651\n",
            "Epoch 40/100\n",
            "387/387 - 1s - 3ms/step - accuracy: 0.9474 - loss: 0.1414 - val_accuracy: 0.9302 - val_loss: 0.1698\n",
            "Epoch 41/100\n",
            "387/387 - 1s - 2ms/step - accuracy: 0.9464 - loss: 0.1404 - val_accuracy: 0.9360 - val_loss: 0.1955\n",
            "Epoch 42/100\n",
            "387/387 - 1s - 2ms/step - accuracy: 0.9454 - loss: 0.1431 - val_accuracy: 0.9448 - val_loss: 0.1489\n",
            "Epoch 43/100\n",
            "387/387 - 1s - 3ms/step - accuracy: 0.9496 - loss: 0.1393 - val_accuracy: 0.9157 - val_loss: 0.2066\n",
            "Epoch 44/100\n",
            "387/387 - 1s - 2ms/step - accuracy: 0.9496 - loss: 0.1454 - val_accuracy: 0.9360 - val_loss: 0.1805\n",
            "Epoch 45/100\n",
            "387/387 - 1s - 2ms/step - accuracy: 0.9499 - loss: 0.1372 - val_accuracy: 0.9128 - val_loss: 0.2198\n",
            "Epoch 46/100\n",
            "387/387 - 1s - 2ms/step - accuracy: 0.9451 - loss: 0.1439 - val_accuracy: 0.9477 - val_loss: 0.1502\n",
            "Epoch 47/100\n",
            "387/387 - 1s - 2ms/step - accuracy: 0.9564 - loss: 0.1326 - val_accuracy: 0.9070 - val_loss: 0.2269\n",
            "Epoch 48/100\n",
            "387/387 - 1s - 3ms/step - accuracy: 0.9496 - loss: 0.1368 - val_accuracy: 0.9360 - val_loss: 0.1881\n",
            "Epoch 49/100\n",
            "387/387 - 1s - 2ms/step - accuracy: 0.9490 - loss: 0.1335 - val_accuracy: 0.9390 - val_loss: 0.1683\n",
            "Epoch 50/100\n",
            "387/387 - 1s - 4ms/step - accuracy: 0.9483 - loss: 0.1355 - val_accuracy: 0.9302 - val_loss: 0.1751\n",
            "Epoch 51/100\n",
            "387/387 - 1s - 3ms/step - accuracy: 0.9499 - loss: 0.1378 - val_accuracy: 0.9273 - val_loss: 0.1908\n",
            "Epoch 52/100\n",
            "387/387 - 1s - 3ms/step - accuracy: 0.9538 - loss: 0.1295 - val_accuracy: 0.9535 - val_loss: 0.1541\n",
            "Epoch 53/100\n",
            "387/387 - 1s - 2ms/step - accuracy: 0.9496 - loss: 0.1322 - val_accuracy: 0.9360 - val_loss: 0.1826\n",
            "Epoch 54/100\n",
            "387/387 - 1s - 2ms/step - accuracy: 0.9541 - loss: 0.1286 - val_accuracy: 0.9448 - val_loss: 0.1831\n",
            "Epoch 55/100\n",
            "387/387 - 1s - 3ms/step - accuracy: 0.9541 - loss: 0.1303 - val_accuracy: 0.9360 - val_loss: 0.1914\n",
            "Epoch 56/100\n",
            "387/387 - 1s - 3ms/step - accuracy: 0.9493 - loss: 0.1364 - val_accuracy: 0.9419 - val_loss: 0.1679\n",
            "Epoch 57/100\n",
            "387/387 - 1s - 3ms/step - accuracy: 0.9532 - loss: 0.1348 - val_accuracy: 0.9448 - val_loss: 0.1684\n",
            "Epoch 58/100\n",
            "387/387 - 1s - 2ms/step - accuracy: 0.9506 - loss: 0.1294 - val_accuracy: 0.9390 - val_loss: 0.1698\n",
            "Epoch 59/100\n",
            "387/387 - 1s - 3ms/step - accuracy: 0.9496 - loss: 0.1278 - val_accuracy: 0.9506 - val_loss: 0.1552\n",
            "Epoch 60/100\n",
            "387/387 - 1s - 3ms/step - accuracy: 0.9564 - loss: 0.1208 - val_accuracy: 0.9360 - val_loss: 0.1674\n",
            "Epoch 61/100\n",
            "387/387 - 1s - 2ms/step - accuracy: 0.9570 - loss: 0.1215 - val_accuracy: 0.9448 - val_loss: 0.1564\n",
            "Epoch 62/100\n",
            "387/387 - 1s - 4ms/step - accuracy: 0.9532 - loss: 0.1277 - val_accuracy: 0.9419 - val_loss: 0.1674\n",
            "Epoch 63/100\n",
            "387/387 - 1s - 4ms/step - accuracy: 0.9574 - loss: 0.1162 - val_accuracy: 0.9419 - val_loss: 0.1575\n",
            "Epoch 64/100\n",
            "387/387 - 1s - 4ms/step - accuracy: 0.9577 - loss: 0.1197 - val_accuracy: 0.9419 - val_loss: 0.1700\n",
            "Epoch 65/100\n",
            "387/387 - 1s - 2ms/step - accuracy: 0.9538 - loss: 0.1256 - val_accuracy: 0.9448 - val_loss: 0.1589\n",
            "Epoch 66/100\n",
            "387/387 - 1s - 3ms/step - accuracy: 0.9593 - loss: 0.1168 - val_accuracy: 0.9535 - val_loss: 0.1602\n",
            "Epoch 67/100\n",
            "387/387 - 1s - 2ms/step - accuracy: 0.9570 - loss: 0.1158 - val_accuracy: 0.9331 - val_loss: 0.1769\n",
            "Epoch 68/100\n",
            "387/387 - 1s - 2ms/step - accuracy: 0.9570 - loss: 0.1145 - val_accuracy: 0.9448 - val_loss: 0.1640\n",
            "Epoch 69/100\n",
            "387/387 - 1s - 3ms/step - accuracy: 0.9596 - loss: 0.1150 - val_accuracy: 0.9477 - val_loss: 0.1674\n",
            "Epoch 70/100\n",
            "387/387 - 1s - 3ms/step - accuracy: 0.9583 - loss: 0.1169 - val_accuracy: 0.9099 - val_loss: 0.2476\n",
            "Epoch 71/100\n",
            "387/387 - 1s - 2ms/step - accuracy: 0.9538 - loss: 0.1194 - val_accuracy: 0.9360 - val_loss: 0.1803\n",
            "Epoch 72/100\n",
            "387/387 - 1s - 2ms/step - accuracy: 0.9574 - loss: 0.1199 - val_accuracy: 0.9419 - val_loss: 0.1620\n",
            "Epoch 73/100\n",
            "387/387 - 1s - 2ms/step - accuracy: 0.9561 - loss: 0.1148 - val_accuracy: 0.9535 - val_loss: 0.1686\n",
            "Epoch 74/100\n",
            "387/387 - 1s - 2ms/step - accuracy: 0.9574 - loss: 0.1148 - val_accuracy: 0.9448 - val_loss: 0.1840\n",
            "Epoch 75/100\n",
            "387/387 - 1s - 2ms/step - accuracy: 0.9545 - loss: 0.1189 - val_accuracy: 0.9012 - val_loss: 0.2467\n",
            "Epoch 76/100\n",
            "387/387 - 1s - 3ms/step - accuracy: 0.9603 - loss: 0.1152 - val_accuracy: 0.9477 - val_loss: 0.1669\n",
            "Epoch 77/100\n",
            "387/387 - 1s - 2ms/step - accuracy: 0.9564 - loss: 0.1144 - val_accuracy: 0.9535 - val_loss: 0.1563\n",
            "Epoch 78/100\n",
            "387/387 - 1s - 3ms/step - accuracy: 0.9587 - loss: 0.1075 - val_accuracy: 0.9477 - val_loss: 0.1537\n",
            "Epoch 79/100\n",
            "387/387 - 1s - 3ms/step - accuracy: 0.9587 - loss: 0.1189 - val_accuracy: 0.9331 - val_loss: 0.1893\n",
            "Epoch 80/100\n",
            "387/387 - 1s - 3ms/step - accuracy: 0.9599 - loss: 0.1121 - val_accuracy: 0.9448 - val_loss: 0.1593\n",
            "Epoch 81/100\n",
            "387/387 - 1s - 3ms/step - accuracy: 0.9609 - loss: 0.1075 - val_accuracy: 0.9390 - val_loss: 0.1767\n",
            "Epoch 82/100\n",
            "387/387 - 1s - 2ms/step - accuracy: 0.9606 - loss: 0.1063 - val_accuracy: 0.9390 - val_loss: 0.1674\n",
            "Epoch 83/100\n",
            "387/387 - 1s - 3ms/step - accuracy: 0.9609 - loss: 0.1033 - val_accuracy: 0.9331 - val_loss: 0.1698\n",
            "Epoch 84/100\n",
            "387/387 - 1s - 3ms/step - accuracy: 0.9593 - loss: 0.1097 - val_accuracy: 0.9477 - val_loss: 0.1651\n",
            "Epoch 85/100\n",
            "387/387 - 1s - 3ms/step - accuracy: 0.9629 - loss: 0.1061 - val_accuracy: 0.9390 - val_loss: 0.1778\n",
            "Epoch 86/100\n",
            "387/387 - 1s - 2ms/step - accuracy: 0.9641 - loss: 0.1044 - val_accuracy: 0.9448 - val_loss: 0.1506\n",
            "Epoch 87/100\n",
            "387/387 - 1s - 3ms/step - accuracy: 0.9619 - loss: 0.1047 - val_accuracy: 0.9419 - val_loss: 0.1704\n",
            "Epoch 88/100\n",
            "387/387 - 1s - 4ms/step - accuracy: 0.9638 - loss: 0.1043 - val_accuracy: 0.9302 - val_loss: 0.2071\n",
            "Epoch 89/100\n",
            "387/387 - 1s - 3ms/step - accuracy: 0.9616 - loss: 0.1087 - val_accuracy: 0.9244 - val_loss: 0.2081\n",
            "Epoch 90/100\n",
            "387/387 - 1s - 3ms/step - accuracy: 0.9625 - loss: 0.1125 - val_accuracy: 0.9419 - val_loss: 0.1560\n",
            "Epoch 91/100\n",
            "387/387 - 1s - 3ms/step - accuracy: 0.9635 - loss: 0.0991 - val_accuracy: 0.9390 - val_loss: 0.1891\n",
            "Epoch 92/100\n",
            "387/387 - 1s - 3ms/step - accuracy: 0.9654 - loss: 0.0961 - val_accuracy: 0.9477 - val_loss: 0.1617\n",
            "Epoch 93/100\n",
            "387/387 - 1s - 3ms/step - accuracy: 0.9680 - loss: 0.0989 - val_accuracy: 0.9477 - val_loss: 0.1650\n",
            "Epoch 94/100\n",
            "387/387 - 1s - 2ms/step - accuracy: 0.9651 - loss: 0.0997 - val_accuracy: 0.9477 - val_loss: 0.1843\n",
            "Epoch 95/100\n",
            "387/387 - 1s - 3ms/step - accuracy: 0.9616 - loss: 0.1067 - val_accuracy: 0.9390 - val_loss: 0.1585\n",
            "Epoch 96/100\n",
            "387/387 - 1s - 2ms/step - accuracy: 0.9609 - loss: 0.1062 - val_accuracy: 0.9448 - val_loss: 0.1479\n",
            "Epoch 97/100\n",
            "387/387 - 1s - 3ms/step - accuracy: 0.9706 - loss: 0.0901 - val_accuracy: 0.9302 - val_loss: 0.2354\n",
            "Epoch 98/100\n",
            "387/387 - 1s - 2ms/step - accuracy: 0.9632 - loss: 0.1072 - val_accuracy: 0.9506 - val_loss: 0.1694\n",
            "Epoch 99/100\n",
            "387/387 - 1s - 3ms/step - accuracy: 0.9706 - loss: 0.0930 - val_accuracy: 0.9215 - val_loss: 0.1943\n",
            "Epoch 100/100\n",
            "387/387 - 1s - 2ms/step - accuracy: 0.9700 - loss: 0.0927 - val_accuracy: 0.9419 - val_loss: 0.1802\n"
          ]
        },
        {
          "output_type": "display_data",
          "data": {
            "text/plain": [
              "<Figure size 640x480 with 1 Axes>"
            ],
            "image/png": "[encoded data removed]"
          },
          "metadata": {}
        }
      ]
    },
    {
      "cell_type": "code",
      "source": [
        "# Write the testing input and output variables\n",
        "score = model.evaluate(X_test, y_test, verbose=1)\n",
        "print('Test loss:', score[0])\n",
        "print('Test accuracy:', score[1])"
      ],
      "metadata": {
        "id": "RB7qW874RRF-",
        "colab": {
          "base_uri": "https://localhost:8080/"
        },
        "outputId": "75077eac-612b-4560-8f8c-3aabc40d2b2f"
      },
      "execution_count": null,
      "outputs": [
        {
          "output_type": "stream",
          "name": "stdout",
          "text": [
            "\u001b[1m27/27\u001b[0m \u001b[32m━━━━━━━━━━━━━━━━━━━━\u001b[0m\u001b[37m\u001b[0m \u001b[1m0s\u001b[0m 4ms/step - accuracy: 0.9385 - loss: 0.1844\n",
            "Test loss: 0.17776402831077576\n",
            "Test accuracy: 0.9337209463119507\n"
          ]
        }
      ]
    },
    {
      "cell_type": "code",
      "source": [
        "# Write the index of the test sample to test\n",
        "prediction = model.predict(X_test[35].reshape(1,14))\n",
        "print(prediction[0])\n",
        "print(np.round(prediction[0]))\n",
        "print(y_test[0])"
      ],
      "metadata": {
        "id": "vtPSoiu1Y7d5",
        "outputId": "de506b4c-0a79-42b8-f590-d6c698f786c4",
        "colab": {
          "base_uri": "https://localhost:8080/"
        }
      },
      "execution_count": null,
      "outputs": [
        {
          "output_type": "stream",
          "name": "stdout",
          "text": [
            "\u001b[1m1/1\u001b[0m \u001b[32m━━━━━━━━━━━━━━━━━━━━\u001b[0m\u001b[37m\u001b[0m \u001b[1m0s\u001b[0m 20ms/step\n",
            "[2.4712629e-15 9.8236692e-01 1.7633095e-02]\n",
            "[0. 1. 0.]\n",
            "[0. 1. 0.]\n"
          ]
        }
      ]
    },
    {
      "cell_type": "code",
      "source": [
        "# Write the index of the test sample to test\n",
        "prediction = model.predict(X_test)\n",
        "print(prediction)\n",
        "print(np.round(prediction))\n",
        "print(y_test)\n",
        "y_pred=np.round(prediction)"
      ],
      "metadata": {
        "colab": {
          "base_uri": "https://localhost:8080/"
        },
        "id": "8QyUbyZe3I3y",
        "outputId": "8c507971-c33c-490f-f2d9-b6834e14dec6"
      },
      "execution_count": null,
      "outputs": [
        {
          "output_type": "stream",
          "name": "stdout",
          "text": [
            "\u001b[1m27/27\u001b[0m \u001b[32m━━━━━━━━━━━━━━━━━━━━\u001b[0m\u001b[37m\u001b[0m \u001b[1m0s\u001b[0m 2ms/step \n",
            "[[1.71980631e-18 2.06426457e-01 7.93573558e-01]\n",
            " [1.69445786e-15 9.70172882e-01 2.98271086e-02]\n",
            " [9.19180747e-13 9.45978045e-01 5.40219732e-02]\n",
            " ...\n",
            " [2.63489285e-19 9.96313393e-01 3.68662155e-03]\n",
            " [1.74804046e-18 8.22447717e-01 1.77552253e-01]\n",
            " [6.54624278e-16 9.89633203e-01 1.03668505e-02]]\n",
            "[[0. 0. 1.]\n",
            " [0. 1. 0.]\n",
            " [0. 1. 0.]\n",
            " ...\n",
            " [0. 1. 0.]\n",
            " [0. 1. 0.]\n",
            " [0. 1. 0.]]\n",
            "[[0. 1. 0.]\n",
            " [0. 1. 0.]\n",
            " [0. 1. 0.]\n",
            " ...\n",
            " [0. 1. 0.]\n",
            " [0. 1. 0.]\n",
            " [0. 1. 0.]]\n"
          ]
        }
      ]
    },
    {
      "cell_type": "code",
      "source": [
        "import seaborn as sns\n",
        "from sklearn.metrics import confusion_matrix\n",
        "\n",
        "T5_lables = ['Excellent','Good','Poor']\n",
        "\n",
        "ax= plt.subplot()\n",
        "\n",
        "cm = confusion_matrix(np.asarray(y_test).argmax(axis=1), np.asarray(y_pred).argmax(axis=1))\n",
        "sns.heatmap(cm, annot=True, fmt='g', ax=ax);  #annot=True to annotate cells, ftm='g' to disable scientific notation\n",
        "\n",
        "# labels, title and ticks\n",
        "ax.set_xlabel('Predicted labels');ax.set_ylabel('True labels');\n",
        "ax.set_title('Confusion Matrix');\n",
        "ax.xaxis.set_ticklabels(T5_lables); ax.yaxis.set_ticklabels(T5_lables);"
      ],
      "metadata": {
        "id": "9dQqRBulZGCq",
        "colab": {
          "base_uri": "https://localhost:8080/",
          "height": 472
        },
        "outputId": "7f60406e-7d66-4079-b027-0ccd36813f0d"
      },
      "execution_count": null,
      "outputs": [
        {
          "output_type": "display_data",
          "data": {
            "text/plain": [
              "<Figure size 640x480 with 2 Axes>"
            ],
            "image/png": "[encoded data removed]"
          },
          "metadata": {}
        }
      ]
    },
    {
      "cell_type": "code",
      "source": [
        "# Write the index of the test sample to test\n",
        "prediction = model.predict(X_train)\n",
        "print(prediction)\n",
        "print(np.round(prediction))\n",
        "print(y_train)\n",
        "y_pred_train=np.round(prediction)"
      ],
      "metadata": {
        "colab": {
          "base_uri": "https://localhost:8080/"
        },
        "id": "uVFKkElH3DXS",
        "outputId": "11332adb-1dd9-4192-8b78-84f9632beab9"
      },
      "execution_count": null,
      "outputs": [
        {
          "output_type": "stream",
          "name": "stdout",
          "text": [
            "\u001b[1m108/108\u001b[0m \u001b[32m━━━━━━━━━━━━━━━━━━━━\u001b[0m\u001b[37m\u001b[0m \u001b[1m0s\u001b[0m 4ms/step\n",
            "[[1.6630656e-18 9.9408674e-01 5.9131025e-03]\n",
            " [9.7001994e-01 3.6288779e-16 2.9980086e-02]\n",
            " [9.9934596e-01 2.7979022e-18 6.5403490e-04]\n",
            " ...\n",
            " [3.2133026e-13 9.8204243e-01 1.7957563e-02]\n",
            " [5.4090054e-15 9.9424571e-01 5.7543432e-03]\n",
            " [1.0271256e-15 9.3440264e-01 6.5597326e-02]]\n",
            "[[0. 1. 0.]\n",
            " [1. 0. 0.]\n",
            " [1. 0. 0.]\n",
            " ...\n",
            " [0. 1. 0.]\n",
            " [0. 1. 0.]\n",
            " [0. 1. 0.]]\n",
            "[[0. 1. 0.]\n",
            " [1. 0. 0.]\n",
            " [1. 0. 0.]\n",
            " ...\n",
            " [0. 1. 0.]\n",
            " [0. 1. 0.]\n",
            " [0. 1. 0.]]\n"
          ]
        }
      ]
    },
    {
      "cell_type": "code",
      "source": [
        "import seaborn as sns\n",
        "from sklearn.metrics import confusion_matrix\n",
        "\n",
        "T5_lables = ['Excellent','Good','Poor']\n",
        "\n",
        "ax= plt.subplot()\n",
        "\n",
        "cm = confusion_matrix(np.asarray(y_train).argmax(axis=1), np.asarray(y_pred_train).argmax(axis=1))\n",
        "sns.heatmap(cm, annot=True, fmt='g', ax=ax);  #annot=True to annotate cells, ftm='g' to disable scientific notation\n",
        "\n",
        "# labels, title and ticks\n",
        "ax.set_xlabel('Predicted labels');ax.set_ylabel('True labels');\n",
        "ax.set_title('Confusion Matrix');\n",
        "ax.xaxis.set_ticklabels(T5_lables); ax.yaxis.set_ticklabels(T5_lables);"
      ],
      "metadata": {
        "colab": {
          "base_uri": "https://localhost:8080/",
          "height": 472
        },
        "id": "NwF3Gkcz4sPb",
        "outputId": "52f86e39-0f4b-46ad-dd7f-11c99d7ab7e8"
      },
      "execution_count": null,
      "outputs": [
        {
          "output_type": "display_data",
          "data": {
            "text/plain": [
              "<Figure size 640x480 with 2 Axes>"
            ],
            "image/png": "[encoded data removed]"
          },
          "metadata": {}
        }
      ]
    },
    {
      "cell_type": "code",
      "source": [
        "from sklearn.metrics import classification_report\n",
        "print(classification_report(y_train, y_pred_train))"
      ],
      "metadata": {
        "colab": {
          "base_uri": "https://localhost:8080/"
        },
        "id": "vcGyKZC44zGb",
        "outputId": "37cd3954-e242-483c-8f75-94ae56c9a7ab"
      },
      "execution_count": null,
      "outputs": [
        {
          "output_type": "stream",
          "name": "stdout",
          "text": [
            "              precision    recall  f1-score   support\n",
            "\n",
            "           0       1.00      0.98      0.99      1116\n",
            "           1       0.94      0.98      0.96      1125\n",
            "           2       0.96      0.94      0.95      1199\n",
            "\n",
            "   micro avg       0.96      0.96      0.96      3440\n",
            "   macro avg       0.97      0.97      0.97      3440\n",
            "weighted avg       0.96      0.96      0.96      3440\n",
            " samples avg       0.96      0.96      0.96      3440\n",
            "\n"
          ]
        }
      ]
    },
    {
      "cell_type": "code",
      "source": [
        "from sklearn.metrics import classification_report\n",
        "print(classification_report(y_test, y_pred))"
      ],
      "metadata": {
        "colab": {
          "base_uri": "https://localhost:8080/"
        },
        "id": "vMn67eIr5YXL",
        "outputId": "2ad73b59-81c3-46c3-c743-15913d83c5fd"
      },
      "execution_count": null,
      "outputs": [
        {
          "output_type": "stream",
          "name": "stdout",
          "text": [
            "              precision    recall  f1-score   support\n",
            "\n",
            "           0       0.99      0.98      0.99       284\n",
            "           1       0.88      0.95      0.91       275\n",
            "           2       0.93      0.88      0.90       301\n",
            "\n",
            "   micro avg       0.93      0.93      0.93       860\n",
            "   macro avg       0.93      0.93      0.93       860\n",
            "weighted avg       0.94      0.93      0.93       860\n",
            " samples avg       0.93      0.93      0.93       860\n",
            "\n"
          ]
        }
      ]
    },
    {
      "cell_type": "markdown",
      "source": [
        "# **Decision Tree Classifier**"
      ],
      "metadata": {
        "id": "y7oxscEP57ez"
      }
    },
    {
      "cell_type": "code",
      "source": [
        "dataframe = pd.read_excel(\"/content/drive/MyDrive/AI Data/WQD.xlsx\")\n",
        "dataframe.head()"
      ],
      "metadata": {
        "colab": {
          "base_uri": "https://localhost:8080/",
          "height": 223
        },
        "id": "8WQOllZJ9haj",
        "outputId": "b09f1383-7c54-456d-bd22-12c8874090e0"
      },
      "execution_count": null,
      "outputs": [
        {
          "output_type": "execute_result",
          "data": {
            "text/plain": [
              "        Temp  Turbidity (cm)   DO(mg/L)  BOD (mg/L)        CO2        pH`  \\\n",
              "0  67.448725       10.127148   0.208153    7.473607  10.181084   4.751657   \n",
              "1  64.626666       94.015595  11.434463   10.859998  14.860521   3.085154   \n",
              "2  65.121842       90.653462  12.430865   12.809970  12.319980   9.648515   \n",
              "3   1.640334        0.066344  10.963529    8.508023  12.955209   4.819988   \n",
              "4  64.863434        2.119173   1.361736   13.335372  13.603197  10.244034   \n",
              "\n",
              "   Alkalinity (mg L-1 )  Hardness (mg L-1 )  Calcium (mg L-1 )  \\\n",
              "0            218.364855          300.125080         337.178226   \n",
              "1            273.939692            8.426776         363.660740   \n",
              "2            220.812730           11.726274         309.370934   \n",
              "3            266.571628            6.627655           8.180468   \n",
              "4            252.108000          339.891514         253.996871   \n",
              "\n",
              "   Ammonia (mg L-1 )  Nitrite (mg L-1 )  Phosphorus (mg L-1 )  H2S (mg L-1 )  \\\n",
              "0           0.286054           4.355310              0.005984       0.066793   \n",
              "1           0.096040           2.182753              0.004906       0.023428   \n",
              "2           0.974501           4.901760              0.006979       0.065041   \n",
              "3           0.884865           3.571842              3.174473       0.026018   \n",
              "4           0.801695           4.655898              3.854701       0.060995   \n",
              "\n",
              "   Plankton (No. L-1)  Water Quality  \n",
              "0         6069.624017              2  \n",
              "1          250.995959              2  \n",
              "2         7218.927473              2  \n",
              "3         1230.062252              2  \n",
              "4         1035.054820              2  "
            ],
            "text/html": [
              "\n",
              "  <div id=\"df-5de7ea36-0d88-4a76-94b0-70e2ae79d61f\" class=\"colab-df-container\">\n",
              "    <div>\n",
              "<style scoped>\n",
              "    .dataframe tbody tr th:only-of-type {\n",
              "        vertical-align: middle;\n",
              "    }\n",
              "\n",
              "    .dataframe tbody tr th {\n",
              "        vertical-align: top;\n",
              "    }\n",
              "\n",
              "    .dataframe thead th {\n",
              "        text-align: right;\n",
              "    }\n",
              "</style>\n",
              "<table border=\"1\" class=\"dataframe\">\n",
              "  <thead>\n",
              "    <tr style=\"text-align: right;\">\n",
              "      <th></th>\n",
              "      <th>Temp</th>\n",
              "      <th>Turbidity (cm)</th>\n",
              "      <th>DO(mg/L)</th>\n",
              "      <th>BOD (mg/L)</th>\n",
              "      <th>CO2</th>\n",
              "      <th>pH`</th>\n",
              "      <th>Alkalinity (mg L-1 )</th>\n",
              "      <th>Hardness (mg L-1 )</th>\n",
              "      <th>Calcium (mg L-1 )</th>\n",
              "      <th>Ammonia (mg L-1 )</th>\n",
              "      <th>Nitrite (mg L-1 )</th>\n",
              "      <th>Phosphorus (mg L-1 )</th>\n",
              "      <th>H2S (mg L-1 )</th>\n",
              "      <th>Plankton (No. L-1)</th>\n",
              "      <th>Water Quality</th>\n",
              "    </tr>\n",
              "  </thead>\n",
              "  <tbody>\n",
              "    <tr>\n",
              "      <th>0</th>\n",
              "      <td>67.448725</td>\n",
              "      <td>10.127148</td>\n",
              "      <td>0.208153</td>\n",
              "      <td>7.473607</td>\n",
              "      <td>10.181084</td>\n",
              "      <td>4.751657</td>\n",
              "      <td>218.364855</td>\n",
              "      <td>300.125080</td>\n",
              "      <td>337.178226</td>\n",
              "      <td>0.286054</td>\n",
              "      <td>4.355310</td>\n",
              "      <td>0.005984</td>\n",
              "      <td>0.066793</td>\n",
              "      <td>6069.624017</td>\n",
              "      <td>2</td>\n",
              "    </tr>\n",
              "    <tr>\n",
              "      <th>1</th>\n",
              "      <td>64.626666</td>\n",
              "      <td>94.015595</td>\n",
              "      <td>11.434463</td>\n",
              "      <td>10.859998</td>\n",
              "      <td>14.860521</td>\n",
              "      <td>3.085154</td>\n",
              "      <td>273.939692</td>\n",
              "      <td>8.426776</td>\n",
              "      <td>363.660740</td>\n",
              "      <td>0.096040</td>\n",
              "      <td>2.182753</td>\n",
              "      <td>0.004906</td>\n",
              "      <td>0.023428</td>\n",
              "      <td>250.995959</td>\n",
              "      <td>2</td>\n",
              "    </tr>\n",
              "    <tr>\n",
              "      <th>2</th>\n",
              "      <td>65.121842</td>\n",
              "      <td>90.653462</td>\n",
              "      <td>12.430865</td>\n",
              "      <td>12.809970</td>\n",
              "      <td>12.319980</td>\n",
              "      <td>9.648515</td>\n",
              "      <td>220.812730</td>\n",
              "      <td>11.726274</td>\n",
              "      <td>309.370934</td>\n",
              "      <td>0.974501</td>\n",
              "      <td>4.901760</td>\n",
              "      <td>0.006979</td>\n",
              "      <td>0.065041</td>\n",
              "      <td>7218.927473</td>\n",
              "      <td>2</td>\n",
              "    </tr>\n",
              "    <tr>\n",
              "      <th>3</th>\n",
              "      <td>1.640334</td>\n",
              "      <td>0.066344</td>\n",
              "      <td>10.963529</td>\n",
              "      <td>8.508023</td>\n",
              "      <td>12.955209</td>\n",
              "      <td>4.819988</td>\n",
              "      <td>266.571628</td>\n",
              "      <td>6.627655</td>\n",
              "      <td>8.180468</td>\n",
              "      <td>0.884865</td>\n",
              "      <td>3.571842</td>\n",
              "      <td>3.174473</td>\n",
              "      <td>0.026018</td>\n",
              "      <td>1230.062252</td>\n",
              "      <td>2</td>\n",
              "    </tr>\n",
              "    <tr>\n",
              "      <th>4</th>\n",
              "      <td>64.863434</td>\n",
              "      <td>2.119173</td>\n",
              "      <td>1.361736</td>\n",
              "      <td>13.335372</td>\n",
              "      <td>13.603197</td>\n",
              "      <td>10.244034</td>\n",
              "      <td>252.108000</td>\n",
              "      <td>339.891514</td>\n",
              "      <td>253.996871</td>\n",
              "      <td>0.801695</td>\n",
              "      <td>4.655898</td>\n",
              "      <td>3.854701</td>\n",
              "      <td>0.060995</td>\n",
              "      <td>1035.054820</td>\n",
              "      <td>2</td>\n",
              "    </tr>\n",
              "  </tbody>\n",
              "</table>\n",
              "</div>\n",
              "    <div class=\"colab-df-buttons\">\n",
              "\n",
              "  <div class=\"colab-df-container\">\n",
              "    <button class=\"colab-df-convert\" onclick=\"convertToInteractive('df-5de7ea36-0d88-4a76-94b0-70e2ae79d61f')\"\n",
              "            title=\"Convert this dataframe to an interactive table.\"\n",
              "            style=\"display:none;\">\n",
              "\n",
              "  <svg xmlns=\"http://www.w3.org/2000/svg\" height=\"24px\" viewBox=\"0 -960 960 960\">\n",
              "    <path d=\"M120-120v-720h720v720H120Zm60-500h600v-160H180v160Zm220 220h160v-160H400v160Zm0 220h160v-160H400v160ZM180-400h160v-160H180v160Zm440 0h160v-160H620v160ZM180-180h160v-160H180v160Zm440 0h160v-160H620v160Z\"/>\n",
              "  </svg>\n",
              "    </button>\n",
              "\n",
              "  <style>\n",
              "    .colab-df-container {\n",
              "      display:flex;\n",
              "      gap: 12px;\n",
              "    }\n",
              "\n",
              "    .colab-df-convert {\n",
              "      background-color: #E8F0FE;\n",
              "      border: none;\n",
              "      border-radius: 50%;\n",
              "      cursor: pointer;\n",
              "      display: none;\n",
              "      fill: #1967D2;\n",
              "      height: 32px;\n",
              "      padding: 0 0 0 0;\n",
              "      width: 32px;\n",
              "    }\n",
              "\n",
              "    .colab-df-convert:hover {\n",
              "      background-color: #E2EBFA;\n",
              "      box-shadow: 0px 1px 2px rgba(60, 64, 67, 0.3), 0px 1px 3px 1px rgba(60, 64, 67, 0.15);\n",
              "      fill: #174EA6;\n",
              "    }\n",
              "\n",
              "    .colab-df-buttons div {\n",
              "      margin-bottom: 4px;\n",
              "    }\n",
              "\n",
              "    [theme=dark] .colab-df-convert {\n",
              "      background-color: #3B4455;\n",
              "      fill: #D2E3FC;\n",
              "    }\n",
              "\n",
              "    [theme=dark] .colab-df-convert:hover {\n",
              "      background-color: #434B5C;\n",
              "      box-shadow: 0px 1px 3px 1px rgba(0, 0, 0, 0.15);\n",
              "      filter: drop-shadow(0px 1px 2px rgba(0, 0, 0, 0.3));\n",
              "      fill: #FFFFFF;\n",
              "    }\n",
              "  </style>\n",
              "\n",
              "    <script>\n",
              "      const buttonEl =\n",
              "        document.querySelector('#df-5de7ea36-0d88-4a76-94b0-70e2ae79d61f button.colab-df-convert');\n",
              "      buttonEl.style.display =\n",
              "        google.colab.kernel.accessAllowed ? 'block' : 'none';\n",
              "\n",
              "      async function convertToInteractive(key) {\n",
              "        const element = document.querySelector('#df-5de7ea36-0d88-4a76-94b0-70e2ae79d61f');\n",
              "        const dataTable =\n",
              "          await google.colab.kernel.invokeFunction('convertToInteractive',\n",
              "                                                    [key], {});\n",
              "        if (!dataTable) return;\n",
              "\n",
              "        const docLinkHtml = 'Like what you see? Visit the ' +\n",
              "          '<a target=\"_blank\" href=https://colab.research.google.com/notebooks/data_table.ipynb>data table notebook</a>'\n",
              "          + ' to learn more about interactive tables.';\n",
              "        element.innerHTML = '';\n",
              "        dataTable['output_type'] = 'display_data';\n",
              "        await google.colab.output.renderOutput(dataTable, element);\n",
              "        const docLink = document.createElement('div');\n",
              "        docLink.innerHTML = docLinkHtml;\n",
              "        element.appendChild(docLink);\n",
              "      }\n",
              "    </script>\n",
              "  </div>\n",
              "\n",
              "\n",
              "<div id=\"df-d8137b8d-be67-4515-b9bf-7e30d19c9753\">\n",
              "  <button class=\"colab-df-quickchart\" onclick=\"quickchart('df-d8137b8d-be67-4515-b9bf-7e30d19c9753')\"\n",
              "            title=\"Suggest charts\"\n",
              "            style=\"display:none;\">\n",
              "\n",
              "<svg xmlns=\"http://www.w3.org/2000/svg\" height=\"24px\"viewBox=\"0 0 24 24\"\n",
              "     width=\"24px\">\n",
              "    <g>\n",
              "        <path d=\"M19 3H5c-1.1 0-2 .9-2 2v14c0 1.1.9 2 2 2h14c1.1 0 2-.9 2-2V5c0-1.1-.9-2-2-2zM9 17H7v-7h2v7zm4 0h-2V7h2v10zm4 0h-2v-4h2v4z\"/>\n",
              "    </g>\n",
              "</svg>\n",
              "  </button>\n",
              "\n",
              "<style>\n",
              "  .colab-df-quickchart {\n",
              "      --bg-color: #E8F0FE;\n",
              "      --fill-color: #1967D2;\n",
              "      --hover-bg-color: #E2EBFA;\n",
              "      --hover-fill-color: #174EA6;\n",
              "      --disabled-fill-color: #AAA;\n",
              "      --disabled-bg-color: #DDD;\n",
              "  }\n",
              "\n",
              "  [theme=dark] .colab-df-quickchart {\n",
              "      --bg-color: #3B4455;\n",
              "      --fill-color: #D2E3FC;\n",
              "      --hover-bg-color: #434B5C;\n",
              "      --hover-fill-color: #FFFFFF;\n",
              "      --disabled-bg-color: #3B4455;\n",
              "      --disabled-fill-color: #666;\n",
              "  }\n",
              "\n",
              "  .colab-df-quickchart {\n",
              "    background-color: var(--bg-color);\n",
              "    border: none;\n",
              "    border-radius: 50%;\n",
              "    cursor: pointer;\n",
              "    display: none;\n",
              "    fill: var(--fill-color);\n",
              "    height: 32px;\n",
              "    padding: 0;\n",
              "    width: 32px;\n",
              "  }\n",
              "\n",
              "  .colab-df-quickchart:hover {\n",
              "    background-color: var(--hover-bg-color);\n",
              "    box-shadow: 0 1px 2px rgba(60, 64, 67, 0.3), 0 1px 3px 1px rgba(60, 64, 67, 0.15);\n",
              "    fill: var(--button-hover-fill-color);\n",
              "  }\n",
              "\n",
              "  .colab-df-quickchart-complete:disabled,\n",
              "  .colab-df-quickchart-complete:disabled:hover {\n",
              "    background-color: var(--disabled-bg-color);\n",
              "    fill: var(--disabled-fill-color);\n",
              "    box-shadow: none;\n",
              "  }\n",
              "\n",
              "  .colab-df-spinner {\n",
              "    border: 2px solid var(--fill-color);\n",
              "    border-color: transparent;\n",
              "    border-bottom-color: var(--fill-color);\n",
              "    animation:\n",
              "      spin 1s steps(1) infinite;\n",
              "  }\n",
              "\n",
              "  @keyframes spin {\n",
              "    0% {\n",
              "      border-color: transparent;\n",
              "      border-bottom-color: var(--fill-color);\n",
              "      border-left-color: var(--fill-color);\n",
              "    }\n",
              "    20% {\n",
              "      border-color: transparent;\n",
              "      border-left-color: var(--fill-color);\n",
              "      border-top-color: var(--fill-color);\n",
              "    }\n",
              "    30% {\n",
              "      border-color: transparent;\n",
              "      border-left-color: var(--fill-color);\n",
              "      border-top-color: var(--fill-color);\n",
              "      border-right-color: var(--fill-color);\n",
              "    }\n",
              "    40% {\n",
              "      border-color: transparent;\n",
              "      border-right-color: var(--fill-color);\n",
              "      border-top-color: var(--fill-color);\n",
              "    }\n",
              "    60% {\n",
              "      border-color: transparent;\n",
              "      border-right-color: var(--fill-color);\n",
              "    }\n",
              "    80% {\n",
              "      border-color: transparent;\n",
              "      border-right-color: var(--fill-color);\n",
              "      border-bottom-color: var(--fill-color);\n",
              "    }\n",
              "    90% {\n",
              "      border-color: transparent;\n",
              "      border-bottom-color: var(--fill-color);\n",
              "    }\n",
              "  }\n",
              "</style>\n",
              "\n",
              "  <script>\n",
              "    async function quickchart(key) {\n",
              "      const quickchartButtonEl =\n",
              "        document.querySelector('#' + key + ' button');\n",
              "      quickchartButtonEl.disabled = true;  // To prevent multiple clicks.\n",
              "      quickchartButtonEl.classList.add('colab-df-spinner');\n",
              "      try {\n",
              "        const charts = await google.colab.kernel.invokeFunction(\n",
              "            'suggestCharts', [key], {});\n",
              "      } catch (error) {\n",
              "        console.error('Error during call to suggestCharts:', error);\n",
              "      }\n",
              "      quickchartButtonEl.classList.remove('colab-df-spinner');\n",
              "      quickchartButtonEl.classList.add('colab-df-quickchart-complete');\n",
              "    }\n",
              "    (() => {\n",
              "      let quickchartButtonEl =\n",
              "        document.querySelector('#df-d8137b8d-be67-4515-b9bf-7e30d19c9753 button');\n",
              "      quickchartButtonEl.style.display =\n",
              "        google.colab.kernel.accessAllowed ? 'block' : 'none';\n",
              "    })();\n",
              "  </script>\n",
              "</div>\n",
              "\n",
              "    </div>\n",
              "  </div>\n"
            ],
            "application/vnd.google.colaboratory.intrinsic+json": {
              "type": "dataframe",
              "variable_name": "dataframe",
              "summary": "{\n  \"name\": \"dataframe\",\n  \"rows\": 4300,\n  \"fields\": [\n    {\n      \"column\": \"Temp\",\n      \"properties\": {\n        \"dtype\": \"number\",\n        \"std\": 9.670202255246236,\n        \"min\": 0.194046124427335,\n        \"max\": 84.2515215749453,\n        \"num_unique_values\": 3800,\n        \"samples\": [\n          27.8153724508936,\n          27.2520511553709,\n          27.3600649116535\n        ],\n        \"semantic_type\": \"\",\n        \"description\": \"\"\n      }\n    },\n    {\n      \"column\": \"Turbidity (cm)\",\n      \"properties\": {\n        \"dtype\": \"number\",\n        \"std\": 20.94272577434483,\n        \"min\": 0.0514235005941593,\n        \"max\": 99.7977432092908,\n        \"num_unique_values\": 3800,\n        \"samples\": [\n          23.4174617892236,\n          47.2231205650521,\n          60.5665570225857\n        ],\n        \"semantic_type\": \"\",\n        \"description\": \"\"\n      }\n    },\n    {\n      \"column\": \"DO(mg/L)\",\n      \"properties\": {\n        \"dtype\": \"number\",\n        \"std\": 1.8327363279616873,\n        \"min\": 0.133928048822569,\n        \"max\": 14.9701223056335,\n        \"num_unique_values\": 3801,\n        \"samples\": [\n          3.56676876325787,\n          7.22376214850665,\n          4.78468040980092\n        ],\n        \"semantic_type\": \"\",\n        \"description\": \"\"\n      }\n    },\n    {\n      \"column\": \"BOD (mg/L)\",\n      \"properties\": {\n        \"dtype\": \"number\",\n        \"std\": 2.2920604777010083,\n        \"min\": 1.00062103061561,\n        \"max\": 14.9430057338615,\n        \"num_unique_values\": 3800,\n        \"samples\": [\n          4.17808775338499,\n          1.28856530888126,\n          1.25559529559476\n        ],\n        \"semantic_type\": \"\",\n        \"description\": \"\"\n      }\n    },\n    {\n      \"column\": \"CO2\",\n      \"properties\": {\n        \"dtype\": \"number\",\n        \"std\": 2.831103930148912,\n        \"min\": 0.00115532599708368,\n        \"max\": 14.9842163058911,\n        \"num_unique_values\": 3800,\n        \"samples\": [\n          2.43369605813009,\n          4.31729245733555,\n          7.22561794329278\n        ],\n        \"semantic_type\": \"\",\n        \"description\": \"\"\n      }\n    },\n    {\n      \"column\": \"pH`\",\n      \"properties\": {\n        \"dtype\": \"number\",\n        \"std\": 1.5802824986450466,\n        \"min\": 0.00394431040072218,\n        \"max\": 14.8511952971146,\n        \"num_unique_values\": 3700,\n        \"samples\": [\n          6.72574736403495,\n          6.2947446986332,\n          9.35158808598964\n        ],\n        \"semantic_type\": \"\",\n        \"description\": \"\"\n      }\n    },\n    {\n      \"column\": \"Alkalinity (mg L-1 )\",\n      \"properties\": {\n        \"dtype\": \"number\",\n        \"std\": 68.94904763335036,\n        \"min\": 25.0123281421022,\n        \"max\": 299.913160433269,\n        \"num_unique_values\": 3700,\n        \"samples\": [\n          292.89444689699,\n          105.127392057569,\n          47.3652539410484\n        ],\n        \"semantic_type\": \"\",\n        \"description\": \"\"\n      }\n    },\n    {\n      \"column\": \"Hardness (mg L-1 )\",\n      \"properties\": {\n        \"dtype\": \"number\",\n        \"std\": 78.8830908490568,\n        \"min\": 0.255805284264412,\n        \"max\": 398.79655005742,\n        \"num_unique_values\": 3700,\n        \"samples\": [\n          57.6976163522151,\n          202.707490295654,\n          216.55885886792\n        ],\n        \"semantic_type\": \"\",\n        \"description\": \"\"\n      }\n    },\n    {\n      \"column\": \"Calcium (mg L-1 )\",\n      \"properties\": {\n        \"dtype\": \"number\",\n        \"std\": 75.71884215198278,\n        \"min\": 0.0182934454547612,\n        \"max\": 399.321398201757,\n        \"num_unique_values\": 3700,\n        \"samples\": [\n          17.9773334643263,\n          172.368908714948,\n          134.185329496666\n        ],\n        \"semantic_type\": \"\",\n        \"description\": \"\"\n      }\n    },\n    {\n      \"column\": \"Ammonia (mg L-1 )\",\n      \"properties\": {\n        \"dtype\": \"number\",\n        \"std\": 0.1228860247981019,\n        \"min\": 1.23485463051631e-06,\n        \"max\": 0.999300485151642,\n        \"num_unique_values\": 3700,\n        \"samples\": [\n          0.00256691454602558,\n          0.0379073232464819,\n          0.0355863870203619\n        ],\n        \"semantic_type\": \"\",\n        \"description\": \"\"\n      }\n    },\n    {\n      \"column\": \"Nitrite (mg L-1 )\",\n      \"properties\": {\n        \"dtype\": \"number\",\n        \"std\": 0.9035920073380787,\n        \"min\": 2.500415978409e-05,\n        \"max\": 4.9895347911325,\n        \"num_unique_values\": 3700,\n        \"samples\": [\n          0.00543966354329605,\n          1.80501555423309,\n          1.65004053479727\n        ],\n        \"semantic_type\": \"\",\n        \"description\": \"\"\n      }\n    },\n    {\n      \"column\": \"Phosphorus (mg L-1 )\",\n      \"properties\": {\n        \"dtype\": \"number\",\n        \"std\": 1.0826476844398816,\n        \"min\": 0.000128395205679035,\n        \"max\": 4.97445696168086,\n        \"num_unique_values\": 3700,\n        \"samples\": [\n          1.26321913914825,\n          0.0276884621480501,\n          2.34179538630364\n        ],\n        \"semantic_type\": \"\",\n        \"description\": \"\"\n      }\n    },\n    {\n      \"column\": \"H2S (mg L-1 )\",\n      \"properties\": {\n        \"dtype\": \"number\",\n        \"std\": 0.01187383214560398,\n        \"min\": 2.34735475027803e-06,\n        \"max\": 0.0992199987897812,\n        \"num_unique_values\": 3700,\n        \"samples\": [\n          0.0120528024824466,\n          0.014212218562698,\n          0.00965712261712407\n        ],\n        \"semantic_type\": \"\",\n        \"description\": \"\"\n      }\n    },\n    {\n      \"column\": \"Plankton (No. L-1)\",\n      \"properties\": {\n        \"dtype\": \"number\",\n        \"std\": 1208.547783187856,\n        \"min\": 78.6037329563691,\n        \"max\": 7460.41578893025,\n        \"num_unique_values\": 3700,\n        \"samples\": [\n          5734.29604080489,\n          2752.27390420098,\n          5580.30636277422\n        ],\n        \"semantic_type\": \"\",\n        \"description\": \"\"\n      }\n    },\n    {\n      \"column\": \"Water Quality\",\n      \"properties\": {\n        \"dtype\": \"number\",\n        \"std\": 0,\n        \"min\": 0,\n        \"max\": 2,\n        \"num_unique_values\": 3,\n        \"samples\": [\n          2,\n          1,\n          0\n        ],\n        \"semantic_type\": \"\",\n        \"description\": \"\"\n      }\n    }\n  ]\n}"
            }
          },
          "metadata": {},
          "execution_count": 89
        }
      ]
    },
    {
      "cell_type": "code",
      "source": [
        "dataset = dataframe.values\n",
        "X = dataset[0:,0:14].astype(float)\n",
        "Y = dataset[0:,14]\n",
        "print(X[0:])"
      ],
      "metadata": {
        "colab": {
          "base_uri": "https://localhost:8080/"
        },
        "id": "2-jzoNUn9nkx",
        "outputId": "7c0d69fb-b380-4aad-f08b-cfc6e6403600"
      },
      "execution_count": null,
      "outputs": [
        {
          "output_type": "stream",
          "name": "stdout",
          "text": [
            "[[6.74487248e+01 1.01271479e+01 2.08152598e-01 ... 5.98351962e-03\n",
            "  6.67928501e-02 6.06962402e+03]\n",
            " [6.46266660e+01 9.40155952e+01 1.14344627e+01 ... 4.90608990e-03\n",
            "  2.34279599e-02 2.50995959e+02]\n",
            " [6.51218418e+01 9.06534623e+01 1.24308647e+01 ... 6.97923428e-03\n",
            "  6.50410879e-02 7.21892747e+03]\n",
            " ...\n",
            " [2.69684218e+01 4.48454162e+01 4.30993492e+00 ... 7.26881067e-01\n",
            "  1.91076819e-02 3.81644394e+03]\n",
            " [2.45230924e+01 5.71285964e+01 4.74361524e+00 ... 8.27799313e-01\n",
            "  1.99046121e-02 3.58098936e+03]\n",
            " [2.44348471e+01 7.62218150e+01 4.42584598e+00 ... 8.91224283e-01\n",
            "  1.92648940e-02 3.58423414e+03]]\n"
          ]
        }
      ]
    },
    {
      "cell_type": "code",
      "source": [
        "from sklearn.model_selection import train_test_split\n",
        "X_train, X_test, y_train, y_test = train_test_split(X, Y, test_size=0.2, random_state=0)\n",
        "print(y_test[0:5])\n",
        "print(X_train)"
      ],
      "metadata": {
        "colab": {
          "base_uri": "https://localhost:8080/"
        },
        "id": "ZdcG8gae9tap",
        "outputId": "bff8a6cd-ceef-443e-9201-bd9511f9c37e"
      },
      "execution_count": null,
      "outputs": [
        {
          "output_type": "stream",
          "name": "stdout",
          "text": [
            "[1. 1. 1. 0. 2.]\n",
            "[[1.73755704e+01 2.63431284e+01 6.62715284e+00 ... 1.65547545e-02\n",
            "  4.76781622e-03 2.42083851e+03]\n",
            " [2.89661728e+01 7.60693402e+01 4.90103767e+00 ... 1.27580700e+00\n",
            "  1.96077244e-02 4.27425925e+03]\n",
            " [2.84048525e+01 7.60043648e+01 4.79566578e+00 ... 1.63374021e+00\n",
            "  1.91863177e-02 4.48247188e+03]\n",
            " ...\n",
            " [1.76824611e+01 2.13668260e+01 5.92176734e+00 ... 1.02384052e-02\n",
            "  9.47425029e-03 5.59061320e+03]\n",
            " [3.10239282e+01 1.95276675e+01 6.09354760e+00 ... 1.55825623e-02\n",
            "  1.45068442e-02 2.71608710e+03]\n",
            " [1.71008791e+01 2.13138237e+01 6.44168496e+00 ... 2.92066316e-02\n",
            "  1.43776820e-02 4.86558247e+03]]\n"
          ]
        }
      ]
    },
    {
      "cell_type": "code",
      "source": [
        "from sklearn.tree import DecisionTreeClassifier # Import Decision Tree Classifier\n",
        "from sklearn import metrics #Import scikit-learn metrics module for accuracy calculation\n",
        "\n",
        "# Create Decision Tree classifer object\n",
        "clf = DecisionTreeClassifier()\n",
        "\n",
        "# Train Decision Tree Classifer\n",
        "clf = clf.fit(X_train,y_train)\n",
        "\n",
        "#Predict the response for test dataset\n",
        "y_pred = clf.predict(X_test)\n",
        "y_pred_train = clf.predict(X_train)"
      ],
      "metadata": {
        "id": "mDa-YPOm5qD7"
      },
      "execution_count": null,
      "outputs": []
    },
    {
      "cell_type": "code",
      "source": [
        "# Model Accuracy, how often is the classifier correct?\n",
        "print(\"Accuracy:\",metrics.accuracy_score(y_test, y_pred))"
      ],
      "metadata": {
        "colab": {
          "base_uri": "https://localhost:8080/"
        },
        "id": "_ylUOctJ6MWg",
        "outputId": "87d533d4-4bda-4bb4-af8f-3a7abe8511bb"
      },
      "execution_count": null,
      "outputs": [
        {
          "output_type": "stream",
          "name": "stdout",
          "text": [
            "Accuracy: 0.9965116279069768\n"
          ]
        }
      ]
    },
    {
      "cell_type": "code",
      "source": [
        "# Model Accuracy, how often is the classifier correct?\n",
        "print(\"Accuracy:\",metrics.accuracy_score(y_train, y_pred_train))"
      ],
      "metadata": {
        "colab": {
          "base_uri": "https://localhost:8080/"
        },
        "id": "tHXwEPOc6gxr",
        "outputId": "7b054edc-659d-4a58-c825-99dcea89f520"
      },
      "execution_count": null,
      "outputs": [
        {
          "output_type": "stream",
          "name": "stdout",
          "text": [
            "Accuracy: 1.0\n"
          ]
        }
      ]
    },
    {
      "cell_type": "markdown",
      "source": [
        "# **Random Forest**"
      ],
      "metadata": {
        "id": "4Ug354yc6qlh"
      }
    },
    {
      "cell_type": "code",
      "source": [
        "from sklearn.ensemble import RandomForestClassifier\n",
        "rf = RandomForestClassifier()\n",
        "rf.fit(X_train, y_train)\n",
        "#Predict the response for test dataset\n",
        "y_pred = rf.predict(X_test)\n",
        "y_pred_train = rf.predict(X_train)"
      ],
      "metadata": {
        "id": "9b3dWfIu6on0"
      },
      "execution_count": null,
      "outputs": []
    },
    {
      "cell_type": "code",
      "source": [
        "# Model Accuracy, how often is the classifier correct?\n",
        "print(\"Accuracy:\",metrics.accuracy_score(y_test, y_pred))"
      ],
      "metadata": {
        "colab": {
          "base_uri": "https://localhost:8080/"
        },
        "id": "toMIBOwQ68jd",
        "outputId": "2348f84c-4a60-41ff-c366-1ea5b0a17a0d"
      },
      "execution_count": null,
      "outputs": [
        {
          "output_type": "stream",
          "name": "stdout",
          "text": [
            "Accuracy: 0.9965116279069768\n"
          ]
        }
      ]
    },
    {
      "cell_type": "code",
      "source": [
        "# Model Accuracy, how often is the classifier correct?\n",
        "print(\"Accuracy:\",metrics.accuracy_score(y_train, y_pred_train))"
      ],
      "metadata": {
        "colab": {
          "base_uri": "https://localhost:8080/"
        },
        "id": "jW5FLj0P7Z4E",
        "outputId": "b692b9b7-7175-4bae-db6f-a6ea20955ef9"
      },
      "execution_count": null,
      "outputs": [
        {
          "output_type": "stream",
          "name": "stdout",
          "text": [
            "Accuracy: 1.0\n"
          ]
        }
      ]
    },
    {
      "cell_type": "markdown",
      "source": [
        "# **SVC**"
      ],
      "metadata": {
        "id": "uF-dsxBd8I5F"
      }
    },
    {
      "cell_type": "code",
      "source": [
        "# importing necessary libraries\n",
        "from sklearn import datasets\n",
        "from sklearn.metrics import confusion_matrix\n",
        "from sklearn.model_selection import train_test_split\n",
        "\n",
        "\n",
        "# training a linear SVM classifier\n",
        "from sklearn.svm import SVC\n",
        "svm_model_linear = SVC(kernel = 'linear', C = 1).fit(X_train, y_train)\n",
        "svm_predictions = svm_model_linear.predict(X_test)\n",
        "\n",
        "# model accuracy for X_test\n",
        "accuracy = svm_model_linear.score(X_test, y_test)\n",
        "\n",
        "# creating a confusion matrix\n",
        "cm = confusion_matrix(y_test, svm_predictions)"
      ],
      "metadata": {
        "id": "6p8C1vUc8MPL"
      },
      "execution_count": null,
      "outputs": []
    },
    {
      "cell_type": "code",
      "source": [
        "# model accuracy for X_test\n",
        "train_accuracy = svm_model_linear.score(X_test, y_test)\n",
        "test_accuracy = svm_model_linear.score(X_train, y_train)\n",
        "\n",
        "\n",
        "# Model Accuracy, how often is the classifier correct?\n",
        "print(\"train_accuracy:\",train_accuracy)\n",
        "print(\"test_accuracy:\",test_accuracy)"
      ],
      "metadata": {
        "colab": {
          "base_uri": "https://localhost:8080/"
        },
        "id": "ysR3j2PuADw9",
        "outputId": "2170cab2-d025-44a9-bd27-7c970cdabfab"
      },
      "execution_count": null,
      "outputs": [
        {
          "output_type": "stream",
          "name": "stdout",
          "text": [
            "train_accuracy: 0.7953488372093023\n",
            "test_accuracy: 0.8061046511627907\n"
          ]
        }
      ]
    },
    {
      "cell_type": "code",
      "source": [
        "# creating a confusion matrix\n",
        "cm = confusion_matrix(y_test, svm_predictions)\n",
        "print(cm)"
      ],
      "metadata": {
        "colab": {
          "base_uri": "https://localhost:8080/"
        },
        "id": "OeEi2PncAxHM",
        "outputId": "72f4dac5-04fa-4bb0-8d9a-ae62185c4db9"
      },
      "execution_count": null,
      "outputs": [
        {
          "output_type": "stream",
          "name": "stdout",
          "text": [
            "[[280   0   4]\n",
            " [  0 228  47]\n",
            " [ 42  83 176]]\n"
          ]
        }
      ]
    },
    {
      "cell_type": "code",
      "source": [
        "import seaborn as sns\n",
        "from sklearn.metrics import confusion_matrix\n",
        "\n",
        "T5_lables = ['Excellent','Good','Poor']\n",
        "\n",
        "ax= plt.subplot()\n",
        "\n",
        "cm = confusion_matrix(y_test, svm_predictions)\n",
        "sns.heatmap(cm, annot=True, fmt='g', ax=ax);  #annot=True to annotate cells, ftm='g' to disable scientific notation\n",
        "\n",
        "# labels, title and ticks\n",
        "ax.set_xlabel('Predicted labels');ax.set_ylabel('True labels');\n",
        "ax.set_title('Confusion Matrix');\n",
        "ax.xaxis.set_ticklabels(T5_lables); ax.yaxis.set_ticklabels(T5_lables);"
      ],
      "metadata": {
        "colab": {
          "base_uri": "https://localhost:8080/",
          "height": 472
        },
        "id": "r7owzmB4A5FY",
        "outputId": "c277140d-a99f-4832-e8a6-256be7e91743"
      },
      "execution_count": null,
      "outputs": [
        {
          "output_type": "display_data",
          "data": {
            "text/plain": [
              "<Figure size 640x480 with 2 Axes>"
            ],
            "image/png": "[encoded data removed]"
          },
          "metadata": {}
        }
      ]
    },
    {
      "cell_type": "code",
      "source": [
        "svm_predictions = svm_model_linear.predict(X_test)\n",
        "svm_predictions_train = svm_model_linear.predict(X_train)\n",
        "\n",
        "\n",
        "\n",
        "from sklearn.metrics import classification_report\n",
        "print(classification_report(y_train, svm_predictions_train))\n",
        "\n",
        "from sklearn.metrics import classification_report\n",
        "print(classification_report(y_test, svm_predictions))"
      ],
      "metadata": {
        "colab": {
          "base_uri": "https://localhost:8080/"
        },
        "id": "avEqIPuDBMGu",
        "outputId": "3cf1594e-3a56-4836-eb63-059c863bb713"
      },
      "execution_count": null,
      "outputs": [
        {
          "output_type": "stream",
          "name": "stdout",
          "text": [
            "              precision    recall  f1-score   support\n",
            "\n",
            "         0.0       0.86      0.99      0.92      1116\n",
            "         1.0       0.75      0.86      0.80      1125\n",
            "         2.0       0.81      0.58      0.68      1199\n",
            "\n",
            "    accuracy                           0.81      3440\n",
            "   macro avg       0.81      0.81      0.80      3440\n",
            "weighted avg       0.81      0.81      0.80      3440\n",
            "\n",
            "              precision    recall  f1-score   support\n",
            "\n",
            "         0.0       0.87      0.99      0.92       284\n",
            "         1.0       0.73      0.83      0.78       275\n",
            "         2.0       0.78      0.58      0.67       301\n",
            "\n",
            "    accuracy                           0.80       860\n",
            "   macro avg       0.79      0.80      0.79       860\n",
            "weighted avg       0.79      0.80      0.79       860\n",
            "\n"
          ]
        }
      ]
    },
    {
      "cell_type": "markdown",
      "source": [
        "# **KNN**"
      ],
      "metadata": {
        "id": "M0vsQUN8B2OV"
      }
    },
    {
      "cell_type": "code",
      "source": [
        "# training a KNN classifier\n",
        "from sklearn.neighbors import KNeighborsClassifier\n",
        "knn = KNeighborsClassifier(n_neighbors = 7).fit(X_train, y_train)\n",
        "\n",
        "KNN_predictions_test = knn.predict(X_test)\n",
        "KNN_predictions_train = knn.predict(X_train)\n",
        "\n",
        "# accuracy on X_test\n",
        "accuracy = knn.score(X_test, y_test)\n",
        "\n",
        "# creating a confusion matrix\n",
        "knn_predictions = knn.predict(X_test)\n",
        "cm = confusion_matrix(y_test, knn_predictions)"
      ],
      "metadata": {
        "id": "cUYOy-EB8dAE"
      },
      "execution_count": null,
      "outputs": []
    },
    {
      "cell_type": "code",
      "source": [
        "# model accuracy for X_test\n",
        "train_accuracy = knn.score(X_test, y_test)\n",
        "test_accuracy = knn.score(X_train, y_train)\n",
        "\n",
        "\n",
        "# Model Accuracy, how often is the classifier correct?\n",
        "print(\"train_accuracy:\",train_accuracy)\n",
        "print(\"test_accuracy:\",test_accuracy)"
      ],
      "metadata": {
        "colab": {
          "base_uri": "https://localhost:8080/"
        },
        "id": "2kdcBLy0CYIf",
        "outputId": "25a20b91-2ffd-41e0-859a-77e5c9ee13ca"
      },
      "execution_count": null,
      "outputs": [
        {
          "output_type": "stream",
          "name": "stdout",
          "text": [
            "train_accuracy: 0.7488372093023256\n",
            "test_accuracy: 0.7997093023255814\n"
          ]
        }
      ]
    },
    {
      "cell_type": "code",
      "source": [
        "import seaborn as sns\n",
        "from sklearn.metrics import confusion_matrix\n",
        "\n",
        "T5_lables = ['Excellent','Good','Poor']\n",
        "\n",
        "ax= plt.subplot()\n",
        "\n",
        "cm = confusion_matrix(y_test, KNN_predictions_test)\n",
        "sns.heatmap(cm, annot=True, fmt='g', ax=ax);  #annot=True to annotate cells, ftm='g' to disable scientific notation\n",
        "\n",
        "# labels, title and ticks\n",
        "ax.set_xlabel('Predicted labels');ax.set_ylabel('True labels');\n",
        "ax.set_title('Confusion Matrix');\n",
        "ax.xaxis.set_ticklabels(T5_lables); ax.yaxis.set_ticklabels(T5_lables);"
      ],
      "metadata": {
        "colab": {
          "base_uri": "https://localhost:8080/",
          "height": 472
        },
        "id": "h7HS0nY5CghN",
        "outputId": "5e1d4483-9f63-4606-a50e-775f089d0215"
      },
      "execution_count": null,
      "outputs": [
        {
          "output_type": "display_data",
          "data": {
            "text/plain": [
              "<Figure size 640x480 with 2 Axes>"
            ],
            "image/png": "[encoded data removed]"
          },
          "metadata": {}
        }
      ]
    },
    {
      "cell_type": "code",
      "source": [
        "import seaborn as sns\n",
        "from sklearn.metrics import confusion_matrix\n",
        "\n",
        "T5_lables = ['Excellent','Good','Poor']\n",
        "\n",
        "ax= plt.subplot()\n",
        "\n",
        "cm = confusion_matrix(y_train, KNN_predictions_train)\n",
        "sns.heatmap(cm, annot=True, fmt='g', ax=ax);  #annot=True to annotate cells, ftm='g' to disable scientific notation\n",
        "\n",
        "# labels, title and ticks\n",
        "ax.set_xlabel('Predicted labels');ax.set_ylabel('True labels');\n",
        "ax.set_title('Confusion Matrix');\n",
        "ax.xaxis.set_ticklabels(T5_lables); ax.yaxis.set_ticklabels(T5_lables);"
      ],
      "metadata": {
        "colab": {
          "base_uri": "https://localhost:8080/",
          "height": 472
        },
        "id": "KapML-wICtx9",
        "outputId": "0ad7147a-6375-4cec-9eb3-ec54f4d5b1c8"
      },
      "execution_count": null,
      "outputs": [
        {
          "output_type": "display_data",
          "data": {
            "text/plain": [
              "<Figure size 640x480 with 2 Axes>"
            ],
            "image/png": "[encoded data removed]"
          },
          "metadata": {}
        }
      ]
    },
    {
      "cell_type": "code",
      "source": [
        "knn_predictions = knn.predict(X_test)\n",
        "knn_predictions_train = knn.predict(X_train)\n",
        "\n",
        "\n",
        "\n",
        "from sklearn.metrics import classification_report\n",
        "print(classification_report(y_train, knn_predictions_train))\n",
        "\n",
        "from sklearn.metrics import classification_report\n",
        "print(classification_report(y_test, knn_predictions))"
      ],
      "metadata": {
        "colab": {
          "base_uri": "https://localhost:8080/"
        },
        "id": "xALSF_78C13O",
        "outputId": "b461a248-ef56-4024-abc2-5dacaa47452d"
      },
      "execution_count": null,
      "outputs": [
        {
          "output_type": "stream",
          "name": "stdout",
          "text": [
            "              precision    recall  f1-score   support\n",
            "\n",
            "         0.0       0.79      1.00      0.88      1116\n",
            "         1.0       0.75      0.98      0.85      1125\n",
            "         2.0       0.96      0.44      0.61      1199\n",
            "\n",
            "    accuracy                           0.80      3440\n",
            "   macro avg       0.83      0.81      0.78      3440\n",
            "weighted avg       0.84      0.80      0.78      3440\n",
            "\n",
            "              precision    recall  f1-score   support\n",
            "\n",
            "         0.0       0.78      1.00      0.88       284\n",
            "         1.0       0.68      0.96      0.79       275\n",
            "         2.0       0.89      0.32      0.47       301\n",
            "\n",
            "    accuracy                           0.75       860\n",
            "   macro avg       0.78      0.76      0.71       860\n",
            "weighted avg       0.79      0.75      0.71       860\n",
            "\n"
          ]
        }
      ]
    },
    {
      "cell_type": "markdown",
      "source": [
        "# **Naive**"
      ],
      "metadata": {
        "id": "9IP2b4W7DaGw"
      }
    },
    {
      "cell_type": "code",
      "source": [
        "# training a KNN classifier\n",
        "from sklearn.naive_bayes import GaussianNB\n",
        "gnb = GaussianNB().fit(X_train, y_train)\n",
        "\n",
        "gnb_predictions_test = gnb.predict(X_test)\n",
        "gnb_predictions_train = gnb.predict(X_train)\n"
      ],
      "metadata": {
        "id": "IeB4QHuFC_1l"
      },
      "execution_count": null,
      "outputs": []
    },
    {
      "cell_type": "code",
      "source": [
        "# model accuracy for X_test\n",
        "train_accuracy = gnb.score(X_test, y_test)\n",
        "test_accuracy = gnb.score(X_train, y_train)\n",
        "\n",
        "\n",
        "# Model Accuracy, how often is the classifier correct?\n",
        "print(\"train_accuracy:\",train_accuracy)\n",
        "print(\"test_accuracy:\",test_accuracy)"
      ],
      "metadata": {
        "colab": {
          "base_uri": "https://localhost:8080/"
        },
        "id": "JKRJIiVcD2Q8",
        "outputId": "d6ecaf22-b99c-4cb6-c04c-db8d39d5b93d"
      },
      "execution_count": null,
      "outputs": [
        {
          "output_type": "stream",
          "name": "stdout",
          "text": [
            "train_accuracy: 0.877906976744186\n",
            "test_accuracy: 0.8906976744186047\n"
          ]
        }
      ]
    },
    {
      "cell_type": "code",
      "source": [
        "import seaborn as sns\n",
        "from sklearn.metrics import confusion_matrix\n",
        "\n",
        "T5_lables = ['Excellent','Good','Poor']\n",
        "\n",
        "ax= plt.subplot()\n",
        "\n",
        "cm = confusion_matrix(y_test, gnb_predictions_test)\n",
        "sns.heatmap(cm, annot=True, fmt='g', ax=ax);  #annot=True to annotate cells, ftm='g' to disable scientific notation\n",
        "\n",
        "# labels, title and ticks\n",
        "ax.set_xlabel('Predicted labels');ax.set_ylabel('True labels');\n",
        "ax.set_title('Confusion Matrix');\n",
        "ax.xaxis.set_ticklabels(T5_lables); ax.yaxis.set_ticklabels(T5_lables);"
      ],
      "metadata": {
        "colab": {
          "base_uri": "https://localhost:8080/",
          "height": 472
        },
        "id": "oCmJ5D4uD6We",
        "outputId": "18fbec67-bcdf-465d-ba79-7d1fe1268664"
      },
      "execution_count": null,
      "outputs": [
        {
          "output_type": "display_data",
          "data": {
            "text/plain": [
              "<Figure size 640x480 with 2 Axes>"
            ],
            "image/png": "[encoded data removed]"
          },
          "metadata": {}
        }
      ]
    },
    {
      "cell_type": "code",
      "source": [
        "import seaborn as sns\n",
        "from sklearn.metrics import confusion_matrix\n",
        "\n",
        "T5_lables = ['Excellent','Good','Poor']\n",
        "\n",
        "ax= plt.subplot()\n",
        "\n",
        "cm = confusion_matrix(y_train, gnb_predictions_train)\n",
        "sns.heatmap(cm, annot=True, fmt='g', ax=ax);  #annot=True to annotate cells, ftm='g' to disable scientific notation\n",
        "\n",
        "# labels, title and ticks\n",
        "ax.set_xlabel('Predicted labels');ax.set_ylabel('True labels');\n",
        "ax.set_title('Confusion Matrix');\n",
        "ax.xaxis.set_ticklabels(T5_lables); ax.yaxis.set_ticklabels(T5_lables);"
      ],
      "metadata": {
        "colab": {
          "base_uri": "https://localhost:8080/",
          "height": 472
        },
        "id": "IY2jwgbhEATt",
        "outputId": "ef2582b3-8e5c-4229-efdc-2b9cee70fc76"
      },
      "execution_count": null,
      "outputs": [
        {
          "output_type": "display_data",
          "data": {
            "text/plain": [
              "<Figure size 640x480 with 2 Axes>"
            ],
            "image/png": "[encoded data removed]"
          },
          "metadata": {}
        }
      ]
    },
    {
      "cell_type": "code",
      "source": [
        "gnb_predictions_test = gnb.predict(X_test)\n",
        "gnb_predictions_train = gnb.predict(X_train)\n",
        "\n",
        "\n",
        "\n",
        "from sklearn.metrics import classification_report\n",
        "print(classification_report(y_train, gnb_predictions_train))\n",
        "\n",
        "from sklearn.metrics import classification_report\n",
        "print(classification_report(y_test, gnb_predictions_test))"
      ],
      "metadata": {
        "colab": {
          "base_uri": "https://localhost:8080/"
        },
        "id": "QlxbXwbIEK2M",
        "outputId": "81b281f1-ee12-48f7-d924-43ac6592be1b"
      },
      "execution_count": null,
      "outputs": [
        {
          "output_type": "stream",
          "name": "stdout",
          "text": [
            "              precision    recall  f1-score   support\n",
            "\n",
            "         0.0       0.93      1.00      0.97      1116\n",
            "         1.0       0.79      1.00      0.88      1125\n",
            "         2.0       1.00      0.69      0.81      1199\n",
            "\n",
            "    accuracy                           0.89      3440\n",
            "   macro avg       0.91      0.90      0.89      3440\n",
            "weighted avg       0.91      0.89      0.89      3440\n",
            "\n",
            "              precision    recall  f1-score   support\n",
            "\n",
            "         0.0       0.92      1.00      0.96       284\n",
            "         1.0       0.77      1.00      0.87       275\n",
            "         2.0       1.00      0.65      0.79       301\n",
            "\n",
            "    accuracy                           0.88       860\n",
            "   macro avg       0.90      0.88      0.87       860\n",
            "weighted avg       0.90      0.88      0.87       860\n",
            "\n"
          ]
        }
      ]
    },
    {
      "cell_type": "markdown",
      "source": [
        "# **Load Model**"
      ],
      "metadata": {
        "id": "alAPQvthFuW3"
      }
    },
    {
      "cell_type": "code",
      "source": [
        "# Recreate the exact same model, including its weights and the optimizer\n",
        "new_model = tf.keras.models.load_model('aqua_dnn.h5')\n",
        "\n",
        "# Show the model architecture\n",
        "new_model.summary()"
      ],
      "metadata": {
        "colab": {
          "base_uri": "https://localhost:8080/",
          "height": 335
        },
        "id": "oPS6GRexERSv",
        "outputId": "fdf41245-8fd8-462b-c50a-8a033432aa4b"
      },
      "execution_count": null,
      "outputs": [
        {
          "output_type": "stream",
          "name": "stderr",
          "text": [
            "WARNING:absl:Compiled the loaded model, but the compiled metrics have yet to be built. `model.compile_metrics` will be empty until you train or evaluate the model.\n"
          ]
        },
        {
          "output_type": "display_data",
          "data": {
            "text/plain": [
              "\u001b[1mModel: \"sequential\"\u001b[0m\n"
            ],
            "text/html": [
              "<pre style=\"white-space:pre;overflow-x:auto;line-height:normal;font-family:Menlo,'DejaVu Sans Mono',consolas,'Courier New',monospace\"><span style=\"font-weight: bold\">Model: \"sequential\"</span>\n",
              "</pre>\n"
            ]
          },
          "metadata": {}
        },
        {
          "output_type": "display_data",
          "data": {
            "text/plain": [
              "┏━━━━━━━━━━━━━━━━━━━━━━━━━━━━━━━━━━━━━━┳━━━━━━━━━━━━━━━━━━━━━━━━━━━━━┳━━━━━━━━━━━━━━━━━┓\n",
              "┃\u001b[1m \u001b[0m\u001b[1mLayer (type)                        \u001b[0m\u001b[1m \u001b[0m┃\u001b[1m \u001b[0m\u001b[1mOutput Shape               \u001b[0m\u001b[1m \u001b[0m┃\u001b[1m \u001b[0m\u001b[1m        Param #\u001b[0m\u001b[1m \u001b[0m┃\n",
              "┡━━━━━━━━━━━━━━━━━━━━━━━━━━━━━━━━━━━━━━╇━━━━━━━━━━━━━━━━━━━━━━━━━━━━━╇━━━━━━━━━━━━━━━━━┩\n",
              "│ dense (\u001b[38;5;33mDense\u001b[0m)                        │ (\u001b[38;5;45mNone\u001b[0m, \u001b[38;5;34m17\u001b[0m)                  │             \u001b[38;5;34m255\u001b[0m │\n",
              "├──────────────────────────────────────┼─────────────────────────────┼─────────────────┤\n",
              "│ dense_1 (\u001b[38;5;33mDense\u001b[0m)                      │ (\u001b[38;5;45mNone\u001b[0m, \u001b[38;5;34m17\u001b[0m)                  │             \u001b[38;5;34m306\u001b[0m │\n",
              "├──────────────────────────────────────┼─────────────────────────────┼─────────────────┤\n",
              "│ dense_2 (\u001b[38;5;33mDense\u001b[0m)                      │ (\u001b[38;5;45mNone\u001b[0m, \u001b[38;5;34m17\u001b[0m)                  │             \u001b[38;5;34m306\u001b[0m │\n",
              "├──────────────────────────────────────┼─────────────────────────────┼─────────────────┤\n",
              "│ dense_3 (\u001b[38;5;33mDense\u001b[0m)                      │ (\u001b[38;5;45mNone\u001b[0m, \u001b[38;5;34m17\u001b[0m)                  │             \u001b[38;5;34m306\u001b[0m │\n",
              "├──────────────────────────────────────┼─────────────────────────────┼─────────────────┤\n",
              "│ dense_4 (\u001b[38;5;33mDense\u001b[0m)                      │ (\u001b[38;5;45mNone\u001b[0m, \u001b[38;5;34m3\u001b[0m)                   │              \u001b[38;5;34m54\u001b[0m │\n",
              "└──────────────────────────────────────┴─────────────────────────────┴─────────────────┘\n"
            ],
            "text/html": [
              "<pre style=\"white-space:pre;overflow-x:auto;line-height:normal;font-family:Menlo,'DejaVu Sans Mono',consolas,'Courier New',monospace\">┏━━━━━━━━━━━━━━━━━━━━━━━━━━━━━━━━━━━━━━┳━━━━━━━━━━━━━━━━━━━━━━━━━━━━━┳━━━━━━━━━━━━━━━━━┓\n",
              "┃<span style=\"font-weight: bold\"> Layer (type)                         </span>┃<span style=\"font-weight: bold\"> Output Shape                </span>┃<span style=\"font-weight: bold\">         Param # </span>┃\n",
              "┡━━━━━━━━━━━━━━━━━━━━━━━━━━━━━━━━━━━━━━╇━━━━━━━━━━━━━━━━━━━━━━━━━━━━━╇━━━━━━━━━━━━━━━━━┩\n",
              "│ dense (<span style=\"color: #0087ff; text-decoration-color: #0087ff\">Dense</span>)                        │ (<span style=\"color: #00d7ff; text-decoration-color: #00d7ff\">None</span>, <span style=\"color: #00af00; text-decoration-color: #00af00\">17</span>)                  │             <span style=\"color: #00af00; text-decoration-color: #00af00\">255</span> │\n",
              "├──────────────────────────────────────┼─────────────────────────────┼─────────────────┤\n",
              "│ dense_1 (<span style=\"color: #0087ff; text-decoration-color: #0087ff\">Dense</span>)                      │ (<span style=\"color: #00d7ff; text-decoration-color: #00d7ff\">None</span>, <span style=\"color: #00af00; text-decoration-color: #00af00\">17</span>)                  │             <span style=\"color: #00af00; text-decoration-color: #00af00\">306</span> │\n",
              "├──────────────────────────────────────┼─────────────────────────────┼─────────────────┤\n",
              "│ dense_2 (<span style=\"color: #0087ff; text-decoration-color: #0087ff\">Dense</span>)                      │ (<span style=\"color: #00d7ff; text-decoration-color: #00d7ff\">None</span>, <span style=\"color: #00af00; text-decoration-color: #00af00\">17</span>)                  │             <span style=\"color: #00af00; text-decoration-color: #00af00\">306</span> │\n",
              "├──────────────────────────────────────┼─────────────────────────────┼─────────────────┤\n",
              "│ dense_3 (<span style=\"color: #0087ff; text-decoration-color: #0087ff\">Dense</span>)                      │ (<span style=\"color: #00d7ff; text-decoration-color: #00d7ff\">None</span>, <span style=\"color: #00af00; text-decoration-color: #00af00\">17</span>)                  │             <span style=\"color: #00af00; text-decoration-color: #00af00\">306</span> │\n",
              "├──────────────────────────────────────┼─────────────────────────────┼─────────────────┤\n",
              "│ dense_4 (<span style=\"color: #0087ff; text-decoration-color: #0087ff\">Dense</span>)                      │ (<span style=\"color: #00d7ff; text-decoration-color: #00d7ff\">None</span>, <span style=\"color: #00af00; text-decoration-color: #00af00\">3</span>)                   │              <span style=\"color: #00af00; text-decoration-color: #00af00\">54</span> │\n",
              "└──────────────────────────────────────┴─────────────────────────────┴─────────────────┘\n",
              "</pre>\n"
            ]
          },
          "metadata": {}
        },
        {
          "output_type": "display_data",
          "data": {
            "text/plain": [
              "\u001b[1m Total params: \u001b[0m\u001b[38;5;34m1,229\u001b[0m (4.80 KB)\n"
            ],
            "text/html": [
              "<pre style=\"white-space:pre;overflow-x:auto;line-height:normal;font-family:Menlo,'DejaVu Sans Mono',consolas,'Courier New',monospace\"><span style=\"font-weight: bold\"> Total params: </span><span style=\"color: #00af00; text-decoration-color: #00af00\">1,229</span> (4.80 KB)\n",
              "</pre>\n"
            ]
          },
          "metadata": {}
        },
        {
          "output_type": "display_data",
          "data": {
            "text/plain": [
              "\u001b[1m Trainable params: \u001b[0m\u001b[38;5;34m1,227\u001b[0m (4.79 KB)\n"
            ],
            "text/html": [
              "<pre style=\"white-space:pre;overflow-x:auto;line-height:normal;font-family:Menlo,'DejaVu Sans Mono',consolas,'Courier New',monospace\"><span style=\"font-weight: bold\"> Trainable params: </span><span style=\"color: #00af00; text-decoration-color: #00af00\">1,227</span> (4.79 KB)\n",
              "</pre>\n"
            ]
          },
          "metadata": {}
        },
        {
          "output_type": "display_data",
          "data": {
            "text/plain": [
              "\u001b[1m Non-trainable params: \u001b[0m\u001b[38;5;34m0\u001b[0m (0.00 B)\n"
            ],
            "text/html": [
              "<pre style=\"white-space:pre;overflow-x:auto;line-height:normal;font-family:Menlo,'DejaVu Sans Mono',consolas,'Courier New',monospace\"><span style=\"font-weight: bold\"> Non-trainable params: </span><span style=\"color: #00af00; text-decoration-color: #00af00\">0</span> (0.00 B)\n",
              "</pre>\n"
            ]
          },
          "metadata": {}
        },
        {
          "output_type": "display_data",
          "data": {
            "text/plain": [
              "\u001b[1m Optimizer params: \u001b[0m\u001b[38;5;34m2\u001b[0m (12.00 B)\n"
            ],
            "text/html": [
              "<pre style=\"white-space:pre;overflow-x:auto;line-height:normal;font-family:Menlo,'DejaVu Sans Mono',consolas,'Courier New',monospace\"><span style=\"font-weight: bold\"> Optimizer params: </span><span style=\"color: #00af00; text-decoration-color: #00af00\">2</span> (12.00 B)\n",
              "</pre>\n"
            ]
          },
          "metadata": {}
        }
      ]
    },
    {
      "cell_type": "code",
      "source": [
        "# Write the index of the test sample to test\n",
        "prediction = new_model.predict(X_test[35].reshape(1,14))\n",
        "print(prediction[0])\n",
        "print(np.round(prediction[0]))\n",
        "print(y_test[0])"
      ],
      "metadata": {
        "id": "FBzsJhpIFzYu",
        "outputId": "3ead0049-099a-4ba1-fcab-1ff292c65ac0",
        "colab": {
          "base_uri": "https://localhost:8080/"
        }
      },
      "execution_count": null,
      "outputs": [
        {
          "output_type": "stream",
          "name": "stdout",
          "text": [
            "\u001b[1m1/1\u001b[0m \u001b[32m━━━━━━━━━━━━━━━━━━━━\u001b[0m\u001b[37m\u001b[0m \u001b[1m0s\u001b[0m 128ms/step\n",
            "[0. 0. 1.]\n",
            "[0. 0. 1.]\n",
            "1.0\n"
          ]
        }
      ]
    },
    {
      "cell_type": "code",
      "source": [
        "list_of_columns = ['Temp','Turbidity','DO','BOD','CO2','pH','Alkalinity','Hardness','Calcium','Ammonia','Nitrite','Phosphorus','H2S','Plankton']\n",
        "input_data=pd.DataFrame(columns=list_of_columns)\n",
        "\n",
        "input_data.at[0, 'Temp'] = (float(input('enter Temp'))-0.194046)/(84.251522-0.194046)\n",
        "input_data.at[0, 'Turbidity'] = (float(input('enter Turbidity'))-0.051424)/(99.797743-0.051424)\n",
        "input_data.at[0, 'DO'] = (float(input('enter DO'))-0.133928)/(14.970122-0.133928)\n",
        "input_data.at[0, 'BOD'] = (float(input('enter BOD'))-1.000621)/(14.943006-1.000621)\n",
        "input_data.at[0, 'CO2'] = (float(input('enter CO2'))-0.001155)/(14.984216-0.001155)\n",
        "input_data.at[0, 'pH'] = (float(input('enter pH'))-0.003944)/(14.851195-0.003944)\n",
        "input_data.at[0, 'Alkalinity'] = (float(input('enter Alkalinity'))-25.012328)/(299.913160-25.012328)\n",
        "input_data.at[0, 'Hardness'] = (float(input('enter Hardness'))-0.255805\t)/(398.796550-0.255805)\n",
        "input_data.at[0, 'Calcium'] = (float(input('enter Calcium'))-0.018293)/(399.321398-0.018293)\n",
        "input_data.at[0, 'Ammonia'] = (float(input('enter Ammonia'))-0)/(0.999300)\n",
        "input_data.at[0, 'Nitrite'] = (float(input('enter Nitrite'))-0)/(4.989535)\n",
        "input_data.at[0, 'Phosphorus'] = (float(input('enter Phosphorus'))-0.000128)/(4.974457-0.000128)\n",
        "input_data.at[0, 'H2S'] = (float(input('enter H2S'))-0)/0.099220\n",
        "input_data.at[0, 'Plankton'] = (float(input('enter Plankton'))-78.603733)/(7460.415789-78.603733)\n"
      ],
      "metadata": {
        "id": "Hi8RpYRGGETW",
        "outputId": "f2364d04-0a72-49ea-ab42-d271dc786ad8",
        "colab": {
          "base_uri": "https://localhost:8080/"
        }
      },
      "execution_count": null,
      "outputs": [
        {
          "name": "stdout",
          "output_type": "stream",
          "text": [
            "enter Temp67\n",
            "enter Turbidity10\n",
            "enter DO0.2\n",
            "enter BOD7.4\n",
            "enter CO210.18\n",
            "enter pH4.7\n",
            "enter Alkalinity218\n",
            "enter Hardness300\n",
            "enter Calcium337\n",
            "enter Ammonia0.286\n",
            "enter Nitrite4.355\n",
            "enter Phosphorus0.006\n",
            "enter H2S0.067\n",
            "enter Plankton6070\n"
          ]
        }
      ]
    },
    {
      "cell_type": "code",
      "source": [
        "data=np.array(input_data[0:])\n",
        "data"
      ],
      "metadata": {
        "id": "DkMWYxiDIn8d",
        "outputId": "4363da07-330f-4178-9f4d-1f646f5feca5",
        "colab": {
          "base_uri": "https://localhost:8080/"
        }
      },
      "execution_count": null,
      "outputs": [
        {
          "output_type": "execute_result",
          "data": {
            "text/plain": [
              "array([[0.7947651675860455, 0.09973877833025598, 0.004453433272711318,\n",
              "        0.45898739706298464, 0.6793568417027736, 0.31629127843262034,\n",
              "        0.702026511145663, 0.7521042672813791, 0.8439245845583896,\n",
              "        0.2862003402381667, 0.872826826547965, 0.0011804607214359968,\n",
              "        0.6752670832493449, 0.8116430249846502]], dtype=object)"
            ]
          },
          "metadata": {},
          "execution_count": 136
        }
      ]
    },
    {
      "cell_type": "code",
      "source": [
        "y_tensor = tf.convert_to_tensor(data, dtype=tf.int64)\n",
        "prediction = new_model.predict(y_tensor)\n",
        "ind=np.argmax(prediction)\n",
        "if(ind==0):\n",
        "  print(\"Excellent\")\n",
        "if(ind==1):\n",
        "  print(\"Good\")\n",
        "if(ind==2):\n",
        "  print(\"Poor\")"
      ],
      "metadata": {
        "id": "6JAOi9ApIqTH",
        "outputId": "b83cf8ab-e834-48d5-9f3c-509c70154a80",
        "colab": {
          "base_uri": "https://localhost:8080/"
        }
      },
      "execution_count": null,
      "outputs": [
        {
          "output_type": "stream",
          "name": "stdout",
          "text": [
            "\u001b[1m1/1\u001b[0m \u001b[32m━━━━━━━━━━━━━━━━━━━━\u001b[0m\u001b[37m\u001b[0m \u001b[1m0s\u001b[0m 67ms/step\n",
            "Poor\n"
          ]
        }
      ]
    },
    {
      "cell_type": "markdown",
      "source": [
        "#DNN With Fish Sperc"
      ],
      "metadata": {
        "id": "4Rm4QXK5srm8"
      }
    },
    {
      "cell_type": "code",
      "source": [
        "dataframe = pd.read_excel(\"/content/drive/MyDrive/AQUACULTURE DATA/Aqua-Fish-Spec-Dataset-Post-Outlier.xlsx\")\n",
        "dataframe.head()"
      ],
      "metadata": {
        "colab": {
          "base_uri": "https://localhost:8080/",
          "height": 206
        },
        "id": "Yttopxd0srIc",
        "outputId": "b25e79e9-9b37-4d1e-89f9-092f1d311a52"
      },
      "execution_count": 3,
      "outputs": [
        {
          "output_type": "execute_result",
          "data": {
            "text/plain": [
              "   Unnamed: 0   ph  temperature  turbidity  fish\n",
              "0           0  7.0          5.0        5.0     0\n",
              "1           1  7.1         10.0        6.0     0\n",
              "2           2  7.2         15.0        7.0     0\n",
              "3           3  7.3         20.0        8.0     0\n",
              "4           4  7.5         25.0        9.0     0"
            ],
            "text/html": [
              "\n",
              "  <div id=\"df-8089211b-ffbf-41eb-90ae-62fa0b4f7c59\" class=\"colab-df-container\">\n",
              "    <div>\n",
              "<style scoped>\n",
              "    .dataframe tbody tr th:only-of-type {\n",
              "        vertical-align: middle;\n",
              "    }\n",
              "\n",
              "    .dataframe tbody tr th {\n",
              "        vertical-align: top;\n",
              "    }\n",
              "\n",
              "    .dataframe thead th {\n",
              "        text-align: right;\n",
              "    }\n",
              "</style>\n",
              "<table border=\"1\" class=\"dataframe\">\n",
              "  <thead>\n",
              "    <tr style=\"text-align: right;\">\n",
              "      <th></th>\n",
              "      <th>Unnamed: 0</th>\n",
              "      <th>ph</th>\n",
              "      <th>temperature</th>\n",
              "      <th>turbidity</th>\n",
              "      <th>fish</th>\n",
              "    </tr>\n",
              "  </thead>\n",
              "  <tbody>\n",
              "    <tr>\n",
              "      <th>0</th>\n",
              "      <td>0</td>\n",
              "      <td>7.0</td>\n",
              "      <td>5.0</td>\n",
              "      <td>5.0</td>\n",
              "      <td>0</td>\n",
              "    </tr>\n",
              "    <tr>\n",
              "      <th>1</th>\n",
              "      <td>1</td>\n",
              "      <td>7.1</td>\n",
              "      <td>10.0</td>\n",
              "      <td>6.0</td>\n",
              "      <td>0</td>\n",
              "    </tr>\n",
              "    <tr>\n",
              "      <th>2</th>\n",
              "      <td>2</td>\n",
              "      <td>7.2</td>\n",
              "      <td>15.0</td>\n",
              "      <td>7.0</td>\n",
              "      <td>0</td>\n",
              "    </tr>\n",
              "    <tr>\n",
              "      <th>3</th>\n",
              "      <td>3</td>\n",
              "      <td>7.3</td>\n",
              "      <td>20.0</td>\n",
              "      <td>8.0</td>\n",
              "      <td>0</td>\n",
              "    </tr>\n",
              "    <tr>\n",
              "      <th>4</th>\n",
              "      <td>4</td>\n",
              "      <td>7.5</td>\n",
              "      <td>25.0</td>\n",
              "      <td>9.0</td>\n",
              "      <td>0</td>\n",
              "    </tr>\n",
              "  </tbody>\n",
              "</table>\n",
              "</div>\n",
              "    <div class=\"colab-df-buttons\">\n",
              "\n",
              "  <div class=\"colab-df-container\">\n",
              "    <button class=\"colab-df-convert\" onclick=\"convertToInteractive('df-8089211b-ffbf-41eb-90ae-62fa0b4f7c59')\"\n",
              "            title=\"Convert this dataframe to an interactive table.\"\n",
              "            style=\"display:none;\">\n",
              "\n",
              "  <svg xmlns=\"http://www.w3.org/2000/svg\" height=\"24px\" viewBox=\"0 -960 960 960\">\n",
              "    <path d=\"M120-120v-720h720v720H120Zm60-500h600v-160H180v160Zm220 220h160v-160H400v160Zm0 220h160v-160H400v160ZM180-400h160v-160H180v160Zm440 0h160v-160H620v160ZM180-180h160v-160H180v160Zm440 0h160v-160H620v160Z\"/>\n",
              "  </svg>\n",
              "    </button>\n",
              "\n",
              "  <style>\n",
              "    .colab-df-container {\n",
              "      display:flex;\n",
              "      gap: 12px;\n",
              "    }\n",
              "\n",
              "    .colab-df-convert {\n",
              "      background-color: #E8F0FE;\n",
              "      border: none;\n",
              "      border-radius: 50%;\n",
              "      cursor: pointer;\n",
              "      display: none;\n",
              "      fill: #1967D2;\n",
              "      height: 32px;\n",
              "      padding: 0 0 0 0;\n",
              "      width: 32px;\n",
              "    }\n",
              "\n",
              "    .colab-df-convert:hover {\n",
              "      background-color: #E2EBFA;\n",
              "      box-shadow: 0px 1px 2px rgba(60, 64, 67, 0.3), 0px 1px 3px 1px rgba(60, 64, 67, 0.15);\n",
              "      fill: #174EA6;\n",
              "    }\n",
              "\n",
              "    .colab-df-buttons div {\n",
              "      margin-bottom: 4px;\n",
              "    }\n",
              "\n",
              "    [theme=dark] .colab-df-convert {\n",
              "      background-color: #3B4455;\n",
              "      fill: #D2E3FC;\n",
              "    }\n",
              "\n",
              "    [theme=dark] .colab-df-convert:hover {\n",
              "      background-color: #434B5C;\n",
              "      box-shadow: 0px 1px 3px 1px rgba(0, 0, 0, 0.15);\n",
              "      filter: drop-shadow(0px 1px 2px rgba(0, 0, 0, 0.3));\n",
              "      fill: #FFFFFF;\n",
              "    }\n",
              "  </style>\n",
              "\n",
              "    <script>\n",
              "      const buttonEl =\n",
              "        document.querySelector('#df-8089211b-ffbf-41eb-90ae-62fa0b4f7c59 button.colab-df-convert');\n",
              "      buttonEl.style.display =\n",
              "        google.colab.kernel.accessAllowed ? 'block' : 'none';\n",
              "\n",
              "      async function convertToInteractive(key) {\n",
              "        const element = document.querySelector('#df-8089211b-ffbf-41eb-90ae-62fa0b4f7c59');\n",
              "        const dataTable =\n",
              "          await google.colab.kernel.invokeFunction('convertToInteractive',\n",
              "                                                    [key], {});\n",
              "        if (!dataTable) return;\n",
              "\n",
              "        const docLinkHtml = 'Like what you see? Visit the ' +\n",
              "          '<a target=\"_blank\" href=https://colab.research.google.com/notebooks/data_table.ipynb>data table notebook</a>'\n",
              "          + ' to learn more about interactive tables.';\n",
              "        element.innerHTML = '';\n",
              "        dataTable['output_type'] = 'display_data';\n",
              "        await google.colab.output.renderOutput(dataTable, element);\n",
              "        const docLink = document.createElement('div');\n",
              "        docLink.innerHTML = docLinkHtml;\n",
              "        element.appendChild(docLink);\n",
              "      }\n",
              "    </script>\n",
              "  </div>\n",
              "\n",
              "\n",
              "<div id=\"df-01271432-c761-49d7-94e3-919e75941e39\">\n",
              "  <button class=\"colab-df-quickchart\" onclick=\"quickchart('df-01271432-c761-49d7-94e3-919e75941e39')\"\n",
              "            title=\"Suggest charts\"\n",
              "            style=\"display:none;\">\n",
              "\n",
              "<svg xmlns=\"http://www.w3.org/2000/svg\" height=\"24px\"viewBox=\"0 0 24 24\"\n",
              "     width=\"24px\">\n",
              "    <g>\n",
              "        <path d=\"M19 3H5c-1.1 0-2 .9-2 2v14c0 1.1.9 2 2 2h14c1.1 0 2-.9 2-2V5c0-1.1-.9-2-2-2zM9 17H7v-7h2v7zm4 0h-2V7h2v10zm4 0h-2v-4h2v4z\"/>\n",
              "    </g>\n",
              "</svg>\n",
              "  </button>\n",
              "\n",
              "<style>\n",
              "  .colab-df-quickchart {\n",
              "      --bg-color: #E8F0FE;\n",
              "      --fill-color: #1967D2;\n",
              "      --hover-bg-color: #E2EBFA;\n",
              "      --hover-fill-color: #174EA6;\n",
              "      --disabled-fill-color: #AAA;\n",
              "      --disabled-bg-color: #DDD;\n",
              "  }\n",
              "\n",
              "  [theme=dark] .colab-df-quickchart {\n",
              "      --bg-color: #3B4455;\n",
              "      --fill-color: #D2E3FC;\n",
              "      --hover-bg-color: #434B5C;\n",
              "      --hover-fill-color: #FFFFFF;\n",
              "      --disabled-bg-color: #3B4455;\n",
              "      --disabled-fill-color: #666;\n",
              "  }\n",
              "\n",
              "  .colab-df-quickchart {\n",
              "    background-color: var(--bg-color);\n",
              "    border: none;\n",
              "    border-radius: 50%;\n",
              "    cursor: pointer;\n",
              "    display: none;\n",
              "    fill: var(--fill-color);\n",
              "    height: 32px;\n",
              "    padding: 0;\n",
              "    width: 32px;\n",
              "  }\n",
              "\n",
              "  .colab-df-quickchart:hover {\n",
              "    background-color: var(--hover-bg-color);\n",
              "    box-shadow: 0 1px 2px rgba(60, 64, 67, 0.3), 0 1px 3px 1px rgba(60, 64, 67, 0.15);\n",
              "    fill: var(--button-hover-fill-color);\n",
              "  }\n",
              "\n",
              "  .colab-df-quickchart-complete:disabled,\n",
              "  .colab-df-quickchart-complete:disabled:hover {\n",
              "    background-color: var(--disabled-bg-color);\n",
              "    fill: var(--disabled-fill-color);\n",
              "    box-shadow: none;\n",
              "  }\n",
              "\n",
              "  .colab-df-spinner {\n",
              "    border: 2px solid var(--fill-color);\n",
              "    border-color: transparent;\n",
              "    border-bottom-color: var(--fill-color);\n",
              "    animation:\n",
              "      spin 1s steps(1) infinite;\n",
              "  }\n",
              "\n",
              "  @keyframes spin {\n",
              "    0% {\n",
              "      border-color: transparent;\n",
              "      border-bottom-color: var(--fill-color);\n",
              "      border-left-color: var(--fill-color);\n",
              "    }\n",
              "    20% {\n",
              "      border-color: transparent;\n",
              "      border-left-color: var(--fill-color);\n",
              "      border-top-color: var(--fill-color);\n",
              "    }\n",
              "    30% {\n",
              "      border-color: transparent;\n",
              "      border-left-color: var(--fill-color);\n",
              "      border-top-color: var(--fill-color);\n",
              "      border-right-color: var(--fill-color);\n",
              "    }\n",
              "    40% {\n",
              "      border-color: transparent;\n",
              "      border-right-color: var(--fill-color);\n",
              "      border-top-color: var(--fill-color);\n",
              "    }\n",
              "    60% {\n",
              "      border-color: transparent;\n",
              "      border-right-color: var(--fill-color);\n",
              "    }\n",
              "    80% {\n",
              "      border-color: transparent;\n",
              "      border-right-color: var(--fill-color);\n",
              "      border-bottom-color: var(--fill-color);\n",
              "    }\n",
              "    90% {\n",
              "      border-color: transparent;\n",
              "      border-bottom-color: var(--fill-color);\n",
              "    }\n",
              "  }\n",
              "</style>\n",
              "\n",
              "  <script>\n",
              "    async function quickchart(key) {\n",
              "      const quickchartButtonEl =\n",
              "        document.querySelector('#' + key + ' button');\n",
              "      quickchartButtonEl.disabled = true;  // To prevent multiple clicks.\n",
              "      quickchartButtonEl.classList.add('colab-df-spinner');\n",
              "      try {\n",
              "        const charts = await google.colab.kernel.invokeFunction(\n",
              "            'suggestCharts', [key], {});\n",
              "      } catch (error) {\n",
              "        console.error('Error during call to suggestCharts:', error);\n",
              "      }\n",
              "      quickchartButtonEl.classList.remove('colab-df-spinner');\n",
              "      quickchartButtonEl.classList.add('colab-df-quickchart-complete');\n",
              "    }\n",
              "    (() => {\n",
              "      let quickchartButtonEl =\n",
              "        document.querySelector('#df-01271432-c761-49d7-94e3-919e75941e39 button');\n",
              "      quickchartButtonEl.style.display =\n",
              "        google.colab.kernel.accessAllowed ? 'block' : 'none';\n",
              "    })();\n",
              "  </script>\n",
              "</div>\n",
              "\n",
              "    </div>\n",
              "  </div>\n"
            ],
            "application/vnd.google.colaboratory.intrinsic+json": {
              "type": "dataframe",
              "variable_name": "dataframe",
              "summary": "{\n  \"name\": \"dataframe\",\n  \"rows\": 186,\n  \"fields\": [\n    {\n      \"column\": \"Unnamed: 0\",\n      \"properties\": {\n        \"dtype\": \"number\",\n        \"std\": 58,\n        \"min\": 0,\n        \"max\": 195,\n        \"num_unique_values\": 186,\n        \"samples\": [\n          123,\n          174,\n          179\n        ],\n        \"semantic_type\": \"\",\n        \"description\": \"\"\n      }\n    },\n    {\n      \"column\": \"ph\",\n      \"properties\": {\n        \"dtype\": \"number\",\n        \"std\": 0.6208056656581212,\n        \"min\": 6.0,\n        \"max\": 8.8,\n        \"num_unique_values\": 46,\n        \"samples\": [\n          6.09,\n          7.6,\n          7.42\n        ],\n        \"semantic_type\": \"\",\n        \"description\": \"\"\n      }\n    },\n    {\n      \"column\": \"temperature\",\n      \"properties\": {\n        \"dtype\": \"number\",\n        \"std\": 4.76576340974369,\n        \"min\": 4.0,\n        \"max\": 35.0,\n        \"num_unique_values\": 40,\n        \"samples\": [\n          16.0,\n          8.0,\n          7.0\n        ],\n        \"semantic_type\": \"\",\n        \"description\": \"\"\n      }\n    },\n    {\n      \"column\": \"turbidity\",\n      \"properties\": {\n        \"dtype\": \"number\",\n        \"std\": 2.252348813733588,\n        \"min\": 3.56,\n        \"max\": 14.8,\n        \"num_unique_values\": 44,\n        \"samples\": [\n          14.7,\n          8.4,\n          9.4\n        ],\n        \"semantic_type\": \"\",\n        \"description\": \"\"\n      }\n    },\n    {\n      \"column\": \"fish\",\n      \"properties\": {\n        \"dtype\": \"number\",\n        \"std\": 1,\n        \"min\": 0,\n        \"max\": 3,\n        \"num_unique_values\": 4,\n        \"samples\": [\n          1,\n          3,\n          0\n        ],\n        \"semantic_type\": \"\",\n        \"description\": \"\"\n      }\n    }\n  ]\n}"
            }
          },
          "metadata": {},
          "execution_count": 3
        }
      ]
    },
    {
      "cell_type": "code",
      "source": [
        "dataset = dataframe.values\n",
        "X = dataset[0:,1:4].astype(float)\n",
        "Y = dataset[0:,4]\n",
        "print(Y[0:])"
      ],
      "metadata": {
        "colab": {
          "base_uri": "https://localhost:8080/"
        },
        "id": "osss0m_Jsvob",
        "outputId": "84051bb8-c533-4275-b018-418e2b545a40"
      },
      "execution_count": 4,
      "outputs": [
        {
          "output_type": "stream",
          "name": "stdout",
          "text": [
            "[0. 0. 0. 0. 0. 0. 0. 0. 0. 0. 0. 0. 0. 0. 0. 0. 0. 0. 0. 0. 0. 0. 0. 0.\n",
            " 0. 0. 0. 0. 0. 0. 0. 0. 0. 1. 1. 1. 1. 1. 1. 1. 1. 1. 1. 1. 1. 1. 1. 1.\n",
            " 1. 1. 1. 1. 1. 1. 1. 1. 1. 1. 1. 1. 1. 1. 1. 1. 1. 1. 1. 1. 1. 1. 1. 1.\n",
            " 1. 1. 1. 1. 1. 1. 1. 1. 1. 1. 1. 1. 1. 1. 1. 1. 1. 1. 1. 2. 2. 2. 2. 2.\n",
            " 2. 2. 2. 2. 2. 2. 2. 2. 2. 2. 2. 2. 2. 2. 2. 2. 2. 2. 2. 2. 2. 2. 2. 2.\n",
            " 2. 2. 2. 2. 2. 2. 2. 2. 2. 2. 2. 3. 3. 3. 3. 3. 3. 3. 3. 3. 3. 3. 3. 3.\n",
            " 3. 3. 3. 3. 3. 3. 3. 3. 3. 3. 3. 3. 3. 3. 3. 3. 3. 3. 3. 3. 3. 3. 3. 3.\n",
            " 3. 3. 3. 3. 3. 3. 3. 3. 3. 3. 3. 3. 3. 3. 3. 3. 3. 3.]\n"
          ]
        }
      ]
    },
    {
      "cell_type": "code",
      "source": [
        "from sklearn.preprocessing import MinMaxScaler\n",
        "ms=MinMaxScaler()\n",
        "red_wine_data_X=ms.fit_transform(X)\n",
        "print(red_wine_data_X)"
      ],
      "metadata": {
        "colab": {
          "base_uri": "https://localhost:8080/"
        },
        "id": "CUelzGZwNnQB",
        "outputId": "49538985-2aae-4076-edb7-ac19e7352140"
      },
      "execution_count": 5,
      "outputs": [
        {
          "output_type": "stream",
          "name": "stdout",
          "text": [
            "[[3.57142857e-01 3.22580645e-02 1.28113879e-01]\n",
            " [3.92857143e-01 1.93548387e-01 2.17081851e-01]\n",
            " [4.28571429e-01 3.54838710e-01 3.06049822e-01]\n",
            " [4.64285714e-01 5.16129032e-01 3.95017794e-01]\n",
            " [5.35714286e-01 6.77419355e-01 4.83985765e-01]\n",
            " [5.00000000e-01 7.09677419e-01 5.72953737e-01]\n",
            " [3.57142857e-01 7.74193548e-01 1.72597865e-01]\n",
            " [3.92857143e-01 8.38709677e-01 2.61565836e-01]\n",
            " [4.28571429e-01 2.58064516e-01 3.50533808e-01]\n",
            " [4.64285714e-01 2.90322581e-01 4.39501779e-01]\n",
            " [5.35714286e-01 3.22580645e-01 5.28469751e-01]\n",
            " [5.00000000e-01 4.51612903e-01 1.45907473e-01]\n",
            " [3.57142857e-01 5.80645161e-01 2.34875445e-01]\n",
            " [3.92857143e-01 8.70967742e-01 3.23843416e-01]\n",
            " [4.28571429e-01 4.83870968e-01 4.12811388e-01]\n",
            " [4.64285714e-01 9.67741935e-02 5.01779359e-01]\n",
            " [5.35714286e-01 1.29032258e-01 1.54804270e-01]\n",
            " [5.00000000e-01 1.61290323e-01 2.43772242e-01]\n",
            " [3.57142857e-01 2.25806452e-01 3.32740214e-01]\n",
            " [3.92857143e-01 3.87096774e-01 4.21708185e-01]\n",
            " [4.28571429e-01 4.19354839e-01 5.10676157e-01]\n",
            " [4.64285714e-01 4.51612903e-01 1.63701068e-01]\n",
            " [5.35714286e-01 6.12903226e-01 2.52669039e-01]\n",
            " [5.00000000e-01 6.77419355e-01 3.41637011e-01]\n",
            " [3.57142857e-01 7.41935484e-01 4.30604982e-01]\n",
            " [3.92857143e-01 7.74193548e-01 5.19572954e-01]\n",
            " [4.28571429e-01 0.00000000e+00 5.10676157e-01]\n",
            " [4.64285714e-01 6.45161290e-02 5.10676157e-01]\n",
            " [5.35714286e-01 5.48387097e-01 5.10676157e-01]\n",
            " [5.00000000e-01 8.06451613e-01 3.95017794e-01]\n",
            " [3.57142857e-01 9.35483871e-01 4.57295374e-01]\n",
            " [3.92857143e-01 9.67741935e-01 4.48398577e-01]\n",
            " [4.28571429e-01 1.00000000e+00 4.30604982e-01]\n",
            " [0.00000000e+00 7.41935484e-01 3.91459075e-02]\n",
            " [1.78571429e-01 8.70967742e-01 1.72597865e-01]\n",
            " [3.21428571e-01 6.77419355e-01 3.91459075e-02]\n",
            " [4.64285714e-01 8.38709677e-01 3.91459075e-02]\n",
            " [4.28571429e-01 8.06451613e-01 3.91459075e-02]\n",
            " [5.35714286e-01 9.03225806e-01 3.91459075e-02]\n",
            " [7.14285714e-01 6.77419355e-01 3.91459075e-02]\n",
            " [7.85714286e-01 8.70967742e-01 3.91459075e-02]\n",
            " [7.50000000e-01 7.74193548e-01 3.91459075e-02]\n",
            " [8.92857143e-01 9.03225806e-01 3.91459075e-02]\n",
            " [7.14285714e-01 7.41935484e-01 3.91459075e-02]\n",
            " [7.14285714e-02 7.09677419e-01 4.80427046e-02]\n",
            " [3.21428571e-01 8.38709677e-01 5.07117438e-02]\n",
            " [1.78571429e-01 7.74193548e-01 4.98220641e-02]\n",
            " [8.21428571e-01 5.62580645e-01 5.33807829e-03]\n",
            " [7.67857143e-01 5.64516129e-01 5.33807829e-03]\n",
            " [7.46428571e-01 5.60322581e-01 5.33807829e-03]\n",
            " [7.10714286e-01 5.62580645e-01 4.44839858e-03]\n",
            " [6.85714286e-01 5.64516129e-01 4.44839858e-03]\n",
            " [7.00000000e-01 5.60322581e-01 4.44839858e-03]\n",
            " [6.67857143e-01 5.56451613e-01 4.44839858e-03]\n",
            " [6.07142857e-01 5.58387097e-01 3.55871886e-03]\n",
            " [5.50000000e-01 5.52258065e-01 3.55871886e-03]\n",
            " [5.35714286e-01 5.56451613e-01 3.55871886e-03]\n",
            " [5.10714286e-01 5.54516129e-01 4.44839858e-03]\n",
            " [8.21428571e-01 5.62580645e-01 5.33807829e-03]\n",
            " [7.67857143e-01 5.64516129e-01 5.33807829e-03]\n",
            " [7.46428571e-01 5.60322581e-01 5.33807829e-03]\n",
            " [7.10714286e-01 5.62580645e-01 4.44839858e-03]\n",
            " [6.85714286e-01 5.64516129e-01 4.44839858e-03]\n",
            " [7.00000000e-01 5.60322581e-01 4.44839858e-03]\n",
            " [6.67857143e-01 5.56451613e-01 4.44839858e-03]\n",
            " [6.07142857e-01 5.58387097e-01 3.55871886e-03]\n",
            " [5.50000000e-01 5.52258065e-01 3.55871886e-03]\n",
            " [5.35714286e-01 5.56451613e-01 3.55871886e-03]\n",
            " [5.10714286e-01 5.54516129e-01 4.44839858e-03]\n",
            " [8.21428571e-01 5.62580645e-01 5.33807829e-03]\n",
            " [7.67857143e-01 5.64516129e-01 5.33807829e-03]\n",
            " [7.46428571e-01 5.60322581e-01 5.33807829e-03]\n",
            " [7.10714286e-01 5.62580645e-01 4.44839858e-03]\n",
            " [6.85714286e-01 5.64516129e-01 4.44839858e-03]\n",
            " [7.00000000e-01 5.60322581e-01 4.44839858e-03]\n",
            " [6.67857143e-01 5.56451613e-01 4.44839858e-03]\n",
            " [6.07142857e-01 5.58387097e-01 3.55871886e-03]\n",
            " [5.50000000e-01 5.52258065e-01 3.55871886e-03]\n",
            " [5.35714286e-01 5.56451613e-01 3.55871886e-03]\n",
            " [5.10714286e-01 5.54516129e-01 4.44839858e-03]\n",
            " [8.21428571e-01 5.62580645e-01 5.33807829e-03]\n",
            " [7.67857143e-01 5.64516129e-01 5.33807829e-03]\n",
            " [7.46428571e-01 5.60322581e-01 5.33807829e-03]\n",
            " [7.10714286e-01 5.62580645e-01 4.44839858e-03]\n",
            " [6.85714286e-01 5.64516129e-01 4.44839858e-03]\n",
            " [7.00000000e-01 5.60322581e-01 4.44839858e-03]\n",
            " [6.67857143e-01 5.56451613e-01 4.44839858e-03]\n",
            " [6.07142857e-01 5.58387097e-01 3.55871886e-03]\n",
            " [5.50000000e-01 5.52258065e-01 3.55871886e-03]\n",
            " [5.35714286e-01 5.56451613e-01 3.55871886e-03]\n",
            " [5.10714286e-01 5.54516129e-01 4.44839858e-03]\n",
            " [5.00000000e-01 4.51612903e-01 9.73309609e-01]\n",
            " [6.78571429e-01 9.03225806e-01 9.82206406e-01]\n",
            " [5.35714286e-01 4.83870968e-01 9.91103203e-01]\n",
            " [5.71428571e-01 5.16129032e-01 1.00000000e+00]\n",
            " [5.07142857e-01 5.52258065e-01 4.44839858e-03]\n",
            " [4.50000000e-01 5.56451613e-01 5.33807829e-03]\n",
            " [3.39285714e-01 5.54516129e-01 5.33807829e-03]\n",
            " [2.78571429e-01 5.56451613e-01 5.33807829e-03]\n",
            " [3.28571429e-01 5.50322581e-01 3.55871886e-03]\n",
            " [3.10714286e-01 5.54516129e-01 3.55871886e-03]\n",
            " [1.82142857e-01 5.54516129e-01 4.44839858e-03]\n",
            " [3.64285714e-01 5.56451613e-01 4.44839858e-03]\n",
            " [2.85714286e-01 5.56451613e-01 4.44839858e-03]\n",
            " [5.07142857e-01 5.52258065e-01 4.44839858e-03]\n",
            " [4.50000000e-01 5.56451613e-01 5.33807829e-03]\n",
            " [3.39285714e-01 5.54516129e-01 5.33807829e-03]\n",
            " [2.78571429e-01 5.56451613e-01 5.33807829e-03]\n",
            " [3.28571429e-01 5.50322581e-01 3.55871886e-03]\n",
            " [3.10714286e-01 5.54516129e-01 3.55871886e-03]\n",
            " [1.82142857e-01 5.54516129e-01 4.44839858e-03]\n",
            " [3.64285714e-01 5.56451613e-01 4.44839858e-03]\n",
            " [2.85714286e-01 5.56451613e-01 4.44839858e-03]\n",
            " [5.07142857e-01 5.52258065e-01 4.44839858e-03]\n",
            " [4.50000000e-01 5.56451613e-01 5.33807829e-03]\n",
            " [3.39285714e-01 5.54516129e-01 5.33807829e-03]\n",
            " [2.78571429e-01 5.56451613e-01 5.33807829e-03]\n",
            " [3.28571429e-01 5.50322581e-01 3.55871886e-03]\n",
            " [3.10714286e-01 5.54516129e-01 3.55871886e-03]\n",
            " [1.82142857e-01 5.54516129e-01 4.44839858e-03]\n",
            " [3.64285714e-01 5.56451613e-01 4.44839858e-03]\n",
            " [2.85714286e-01 5.56451613e-01 4.44839858e-03]\n",
            " [5.07142857e-01 5.52258065e-01 4.44839858e-03]\n",
            " [4.50000000e-01 5.56451613e-01 5.33807829e-03]\n",
            " [3.39285714e-01 5.54516129e-01 5.33807829e-03]\n",
            " [2.78571429e-01 5.56451613e-01 5.33807829e-03]\n",
            " [3.28571429e-01 5.50322581e-01 3.55871886e-03]\n",
            " [3.10714286e-01 5.54516129e-01 3.55871886e-03]\n",
            " [1.82142857e-01 5.54516129e-01 4.44839858e-03]\n",
            " [3.64285714e-01 5.56451613e-01 4.44839858e-03]\n",
            " [2.85714286e-01 5.56451613e-01 4.44839858e-03]\n",
            " [3.57142857e-01 8.38709677e-01 2.17081851e-01]\n",
            " [5.71428571e-01 9.03225806e-01 1.28113879e-01]\n",
            " [8.92857143e-01 7.74193548e-01 1.81494662e-01]\n",
            " [5.71428571e-01 9.03225806e-01 2.25978648e-01]\n",
            " [1.00000000e+00 6.77419355e-01 3.06049822e-01]\n",
            " [3.57142857e-01 8.06451613e-01 2.08185053e-01]\n",
            " [9.28571429e-01 8.38709677e-01 2.61565836e-01]\n",
            " [7.14285714e-03 5.50322581e-01 0.00000000e+00]\n",
            " [3.57142857e-03 5.51290323e-01 0.00000000e+00]\n",
            " [0.00000000e+00 5.52258065e-01 0.00000000e+00]\n",
            " [3.21428571e-02 5.50322581e-01 0.00000000e+00]\n",
            " [3.32142857e-01 5.52258065e-01 8.89679715e-04]\n",
            " [1.50000000e-01 5.54516129e-01 8.89679715e-04]\n",
            " [1.71428571e-01 5.54516129e-01 8.89679715e-04]\n",
            " [3.57142857e-01 5.52258065e-01 8.89679715e-04]\n",
            " [4.53571429e-01 5.54516129e-01 8.89679715e-04]\n",
            " [4.42857143e-01 5.50322581e-01 0.00000000e+00]\n",
            " [3.96428571e-01 5.56451613e-01 0.00000000e+00]\n",
            " [5.71428571e-01 5.52258065e-01 0.00000000e+00]\n",
            " [7.14285714e-03 5.50322581e-01 0.00000000e+00]\n",
            " [3.57142857e-03 5.51290323e-01 0.00000000e+00]\n",
            " [0.00000000e+00 5.52258065e-01 0.00000000e+00]\n",
            " [3.21428571e-02 5.50322581e-01 0.00000000e+00]\n",
            " [3.32142857e-01 5.52258065e-01 8.89679715e-04]\n",
            " [1.50000000e-01 5.54516129e-01 8.89679715e-04]\n",
            " [1.71428571e-01 5.54516129e-01 8.89679715e-04]\n",
            " [3.57142857e-01 5.52258065e-01 8.89679715e-04]\n",
            " [4.53571429e-01 5.54516129e-01 8.89679715e-04]\n",
            " [4.42857143e-01 5.50322581e-01 0.00000000e+00]\n",
            " [3.96428571e-01 5.56451613e-01 0.00000000e+00]\n",
            " [5.71428571e-01 5.52258065e-01 0.00000000e+00]\n",
            " [7.14285714e-03 5.50322581e-01 0.00000000e+00]\n",
            " [3.57142857e-03 5.51290323e-01 0.00000000e+00]\n",
            " [0.00000000e+00 5.52258065e-01 0.00000000e+00]\n",
            " [3.21428571e-02 5.50322581e-01 0.00000000e+00]\n",
            " [3.32142857e-01 5.52258065e-01 8.89679715e-04]\n",
            " [1.50000000e-01 5.54516129e-01 8.89679715e-04]\n",
            " [1.71428571e-01 5.54516129e-01 8.89679715e-04]\n",
            " [3.57142857e-01 5.52258065e-01 8.89679715e-04]\n",
            " [4.53571429e-01 5.54516129e-01 8.89679715e-04]\n",
            " [4.42857143e-01 5.50322581e-01 0.00000000e+00]\n",
            " [3.96428571e-01 5.56451613e-01 0.00000000e+00]\n",
            " [5.71428571e-01 5.52258065e-01 0.00000000e+00]\n",
            " [7.14285714e-03 5.50322581e-01 0.00000000e+00]\n",
            " [3.57142857e-03 5.51290323e-01 0.00000000e+00]\n",
            " [0.00000000e+00 5.52258065e-01 0.00000000e+00]\n",
            " [3.21428571e-02 5.50322581e-01 0.00000000e+00]\n",
            " [3.32142857e-01 5.52258065e-01 8.89679715e-04]\n",
            " [1.50000000e-01 5.54516129e-01 8.89679715e-04]\n",
            " [1.71428571e-01 5.54516129e-01 8.89679715e-04]\n",
            " [3.57142857e-01 5.52258065e-01 8.89679715e-04]\n",
            " [4.53571429e-01 5.54516129e-01 8.89679715e-04]\n",
            " [4.42857143e-01 5.50322581e-01 0.00000000e+00]\n",
            " [3.96428571e-01 5.56451613e-01 0.00000000e+00]\n",
            " [5.71428571e-01 5.52258065e-01 0.00000000e+00]]\n"
          ]
        }
      ]
    },
    {
      "cell_type": "code",
      "source": [
        "import tensorflow as tf\n",
        "\n",
        "y_train=tf.keras.utils.to_categorical(Y,num_classes=5)\n",
        "print(y_train)"
      ],
      "metadata": {
        "colab": {
          "base_uri": "https://localhost:8080/"
        },
        "id": "UoXXsEd0tEVz",
        "outputId": "579f2249-225d-47df-b854-e22e9460bc8a"
      },
      "execution_count": 6,
      "outputs": [
        {
          "output_type": "stream",
          "name": "stdout",
          "text": [
            "[[1. 0. 0. 0. 0.]\n",
            " [1. 0. 0. 0. 0.]\n",
            " [1. 0. 0. 0. 0.]\n",
            " [1. 0. 0. 0. 0.]\n",
            " [1. 0. 0. 0. 0.]\n",
            " [1. 0. 0. 0. 0.]\n",
            " [1. 0. 0. 0. 0.]\n",
            " [1. 0. 0. 0. 0.]\n",
            " [1. 0. 0. 0. 0.]\n",
            " [1. 0. 0. 0. 0.]\n",
            " [1. 0. 0. 0. 0.]\n",
            " [1. 0. 0. 0. 0.]\n",
            " [1. 0. 0. 0. 0.]\n",
            " [1. 0. 0. 0. 0.]\n",
            " [1. 0. 0. 0. 0.]\n",
            " [1. 0. 0. 0. 0.]\n",
            " [1. 0. 0. 0. 0.]\n",
            " [1. 0. 0. 0. 0.]\n",
            " [1. 0. 0. 0. 0.]\n",
            " [1. 0. 0. 0. 0.]\n",
            " [1. 0. 0. 0. 0.]\n",
            " [1. 0. 0. 0. 0.]\n",
            " [1. 0. 0. 0. 0.]\n",
            " [1. 0. 0. 0. 0.]\n",
            " [1. 0. 0. 0. 0.]\n",
            " [1. 0. 0. 0. 0.]\n",
            " [1. 0. 0. 0. 0.]\n",
            " [1. 0. 0. 0. 0.]\n",
            " [1. 0. 0. 0. 0.]\n",
            " [1. 0. 0. 0. 0.]\n",
            " [1. 0. 0. 0. 0.]\n",
            " [1. 0. 0. 0. 0.]\n",
            " [1. 0. 0. 0. 0.]\n",
            " [0. 1. 0. 0. 0.]\n",
            " [0. 1. 0. 0. 0.]\n",
            " [0. 1. 0. 0. 0.]\n",
            " [0. 1. 0. 0. 0.]\n",
            " [0. 1. 0. 0. 0.]\n",
            " [0. 1. 0. 0. 0.]\n",
            " [0. 1. 0. 0. 0.]\n",
            " [0. 1. 0. 0. 0.]\n",
            " [0. 1. 0. 0. 0.]\n",
            " [0. 1. 0. 0. 0.]\n",
            " [0. 1. 0. 0. 0.]\n",
            " [0. 1. 0. 0. 0.]\n",
            " [0. 1. 0. 0. 0.]\n",
            " [0. 1. 0. 0. 0.]\n",
            " [0. 1. 0. 0. 0.]\n",
            " [0. 1. 0. 0. 0.]\n",
            " [0. 1. 0. 0. 0.]\n",
            " [0. 1. 0. 0. 0.]\n",
            " [0. 1. 0. 0. 0.]\n",
            " [0. 1. 0. 0. 0.]\n",
            " [0. 1. 0. 0. 0.]\n",
            " [0. 1. 0. 0. 0.]\n",
            " [0. 1. 0. 0. 0.]\n",
            " [0. 1. 0. 0. 0.]\n",
            " [0. 1. 0. 0. 0.]\n",
            " [0. 1. 0. 0. 0.]\n",
            " [0. 1. 0. 0. 0.]\n",
            " [0. 1. 0. 0. 0.]\n",
            " [0. 1. 0. 0. 0.]\n",
            " [0. 1. 0. 0. 0.]\n",
            " [0. 1. 0. 0. 0.]\n",
            " [0. 1. 0. 0. 0.]\n",
            " [0. 1. 0. 0. 0.]\n",
            " [0. 1. 0. 0. 0.]\n",
            " [0. 1. 0. 0. 0.]\n",
            " [0. 1. 0. 0. 0.]\n",
            " [0. 1. 0. 0. 0.]\n",
            " [0. 1. 0. 0. 0.]\n",
            " [0. 1. 0. 0. 0.]\n",
            " [0. 1. 0. 0. 0.]\n",
            " [0. 1. 0. 0. 0.]\n",
            " [0. 1. 0. 0. 0.]\n",
            " [0. 1. 0. 0. 0.]\n",
            " [0. 1. 0. 0. 0.]\n",
            " [0. 1. 0. 0. 0.]\n",
            " [0. 1. 0. 0. 0.]\n",
            " [0. 1. 0. 0. 0.]\n",
            " [0. 1. 0. 0. 0.]\n",
            " [0. 1. 0. 0. 0.]\n",
            " [0. 1. 0. 0. 0.]\n",
            " [0. 1. 0. 0. 0.]\n",
            " [0. 1. 0. 0. 0.]\n",
            " [0. 1. 0. 0. 0.]\n",
            " [0. 1. 0. 0. 0.]\n",
            " [0. 1. 0. 0. 0.]\n",
            " [0. 1. 0. 0. 0.]\n",
            " [0. 1. 0. 0. 0.]\n",
            " [0. 1. 0. 0. 0.]\n",
            " [0. 0. 1. 0. 0.]\n",
            " [0. 0. 1. 0. 0.]\n",
            " [0. 0. 1. 0. 0.]\n",
            " [0. 0. 1. 0. 0.]\n",
            " [0. 0. 1. 0. 0.]\n",
            " [0. 0. 1. 0. 0.]\n",
            " [0. 0. 1. 0. 0.]\n",
            " [0. 0. 1. 0. 0.]\n",
            " [0. 0. 1. 0. 0.]\n",
            " [0. 0. 1. 0. 0.]\n",
            " [0. 0. 1. 0. 0.]\n",
            " [0. 0. 1. 0. 0.]\n",
            " [0. 0. 1. 0. 0.]\n",
            " [0. 0. 1. 0. 0.]\n",
            " [0. 0. 1. 0. 0.]\n",
            " [0. 0. 1. 0. 0.]\n",
            " [0. 0. 1. 0. 0.]\n",
            " [0. 0. 1. 0. 0.]\n",
            " [0. 0. 1. 0. 0.]\n",
            " [0. 0. 1. 0. 0.]\n",
            " [0. 0. 1. 0. 0.]\n",
            " [0. 0. 1. 0. 0.]\n",
            " [0. 0. 1. 0. 0.]\n",
            " [0. 0. 1. 0. 0.]\n",
            " [0. 0. 1. 0. 0.]\n",
            " [0. 0. 1. 0. 0.]\n",
            " [0. 0. 1. 0. 0.]\n",
            " [0. 0. 1. 0. 0.]\n",
            " [0. 0. 1. 0. 0.]\n",
            " [0. 0. 1. 0. 0.]\n",
            " [0. 0. 1. 0. 0.]\n",
            " [0. 0. 1. 0. 0.]\n",
            " [0. 0. 1. 0. 0.]\n",
            " [0. 0. 1. 0. 0.]\n",
            " [0. 0. 1. 0. 0.]\n",
            " [0. 0. 1. 0. 0.]\n",
            " [0. 0. 1. 0. 0.]\n",
            " [0. 0. 1. 0. 0.]\n",
            " [0. 0. 1. 0. 0.]\n",
            " [0. 0. 1. 0. 0.]\n",
            " [0. 0. 0. 1. 0.]\n",
            " [0. 0. 0. 1. 0.]\n",
            " [0. 0. 0. 1. 0.]\n",
            " [0. 0. 0. 1. 0.]\n",
            " [0. 0. 0. 1. 0.]\n",
            " [0. 0. 0. 1. 0.]\n",
            " [0. 0. 0. 1. 0.]\n",
            " [0. 0. 0. 1. 0.]\n",
            " [0. 0. 0. 1. 0.]\n",
            " [0. 0. 0. 1. 0.]\n",
            " [0. 0. 0. 1. 0.]\n",
            " [0. 0. 0. 1. 0.]\n",
            " [0. 0. 0. 1. 0.]\n",
            " [0. 0. 0. 1. 0.]\n",
            " [0. 0. 0. 1. 0.]\n",
            " [0. 0. 0. 1. 0.]\n",
            " [0. 0. 0. 1. 0.]\n",
            " [0. 0. 0. 1. 0.]\n",
            " [0. 0. 0. 1. 0.]\n",
            " [0. 0. 0. 1. 0.]\n",
            " [0. 0. 0. 1. 0.]\n",
            " [0. 0. 0. 1. 0.]\n",
            " [0. 0. 0. 1. 0.]\n",
            " [0. 0. 0. 1. 0.]\n",
            " [0. 0. 0. 1. 0.]\n",
            " [0. 0. 0. 1. 0.]\n",
            " [0. 0. 0. 1. 0.]\n",
            " [0. 0. 0. 1. 0.]\n",
            " [0. 0. 0. 1. 0.]\n",
            " [0. 0. 0. 1. 0.]\n",
            " [0. 0. 0. 1. 0.]\n",
            " [0. 0. 0. 1. 0.]\n",
            " [0. 0. 0. 1. 0.]\n",
            " [0. 0. 0. 1. 0.]\n",
            " [0. 0. 0. 1. 0.]\n",
            " [0. 0. 0. 1. 0.]\n",
            " [0. 0. 0. 1. 0.]\n",
            " [0. 0. 0. 1. 0.]\n",
            " [0. 0. 0. 1. 0.]\n",
            " [0. 0. 0. 1. 0.]\n",
            " [0. 0. 0. 1. 0.]\n",
            " [0. 0. 0. 1. 0.]\n",
            " [0. 0. 0. 1. 0.]\n",
            " [0. 0. 0. 1. 0.]\n",
            " [0. 0. 0. 1. 0.]\n",
            " [0. 0. 0. 1. 0.]\n",
            " [0. 0. 0. 1. 0.]\n",
            " [0. 0. 0. 1. 0.]\n",
            " [0. 0. 0. 1. 0.]\n",
            " [0. 0. 0. 1. 0.]\n",
            " [0. 0. 0. 1. 0.]\n",
            " [0. 0. 0. 1. 0.]\n",
            " [0. 0. 0. 1. 0.]\n",
            " [0. 0. 0. 1. 0.]\n",
            " [0. 0. 0. 1. 0.]]\n"
          ]
        }
      ]
    },
    {
      "cell_type": "code",
      "source": [
        "from sklearn.model_selection import train_test_split\n",
        "X_train, X_test, y_train, y_test = train_test_split(red_wine_data_X, y_train, test_size=0.2, random_state=0)"
      ],
      "metadata": {
        "id": "1vU8cjjOtIMS"
      },
      "execution_count": 7,
      "outputs": []
    },
    {
      "cell_type": "code",
      "source": [
        "First_Layer_Size =4 # Number of neurons in first layer\n",
        "model=Sequential()\n",
        "model.add(Dense(First_Layer_Size,activation='relu', input_shape=(3,)))\n",
        "model.add(Dense(5,activation='softmax'))\n",
        "model.summary()"
      ],
      "metadata": {
        "colab": {
          "base_uri": "https://localhost:8080/",
          "height": 196
        },
        "id": "CzrwuWO3tL1b",
        "outputId": "ec2f08dc-cc92-4345-bb7c-2d2d3bca8346"
      },
      "execution_count": 20,
      "outputs": [
        {
          "output_type": "display_data",
          "data": {
            "text/plain": [
              "\u001b[1mModel: \"sequential_2\"\u001b[0m\n"
            ],
            "text/html": [
              "<pre style=\"white-space:pre;overflow-x:auto;line-height:normal;font-family:Menlo,'DejaVu Sans Mono',consolas,'Courier New',monospace\"><span style=\"font-weight: bold\">Model: \"sequential_2\"</span>\n",
              "</pre>\n"
            ]
          },
          "metadata": {}
        },
        {
          "output_type": "display_data",
          "data": {
            "text/plain": [
              "┏━━━━━━━━━━━━━━━━━━━━━━━━━━━━━━━━━━━━━━┳━━━━━━━━━━━━━━━━━━━━━━━━━━━━━┳━━━━━━━━━━━━━━━━━┓\n",
              "┃\u001b[1m \u001b[0m\u001b[1mLayer (type)                        \u001b[0m\u001b[1m \u001b[0m┃\u001b[1m \u001b[0m\u001b[1mOutput Shape               \u001b[0m\u001b[1m \u001b[0m┃\u001b[1m \u001b[0m\u001b[1m        Param #\u001b[0m\u001b[1m \u001b[0m┃\n",
              "┡━━━━━━━━━━━━━━━━━━━━━━━━━━━━━━━━━━━━━━╇━━━━━━━━━━━━━━━━━━━━━━━━━━━━━╇━━━━━━━━━━━━━━━━━┩\n",
              "│ dense_4 (\u001b[38;5;33mDense\u001b[0m)                      │ (\u001b[38;5;45mNone\u001b[0m, \u001b[38;5;34m4\u001b[0m)                   │              \u001b[38;5;34m16\u001b[0m │\n",
              "├──────────────────────────────────────┼─────────────────────────────┼─────────────────┤\n",
              "│ dense_5 (\u001b[38;5;33mDense\u001b[0m)                      │ (\u001b[38;5;45mNone\u001b[0m, \u001b[38;5;34m5\u001b[0m)                   │              \u001b[38;5;34m25\u001b[0m │\n",
              "└──────────────────────────────────────┴─────────────────────────────┴─────────────────┘\n"
            ],
            "text/html": [
              "<pre style=\"white-space:pre;overflow-x:auto;line-height:normal;font-family:Menlo,'DejaVu Sans Mono',consolas,'Courier New',monospace\">┏━━━━━━━━━━━━━━━━━━━━━━━━━━━━━━━━━━━━━━┳━━━━━━━━━━━━━━━━━━━━━━━━━━━━━┳━━━━━━━━━━━━━━━━━┓\n",
              "┃<span style=\"font-weight: bold\"> Layer (type)                         </span>┃<span style=\"font-weight: bold\"> Output Shape                </span>┃<span style=\"font-weight: bold\">         Param # </span>┃\n",
              "┡━━━━━━━━━━━━━━━━━━━━━━━━━━━━━━━━━━━━━━╇━━━━━━━━━━━━━━━━━━━━━━━━━━━━━╇━━━━━━━━━━━━━━━━━┩\n",
              "│ dense_4 (<span style=\"color: #0087ff; text-decoration-color: #0087ff\">Dense</span>)                      │ (<span style=\"color: #00d7ff; text-decoration-color: #00d7ff\">None</span>, <span style=\"color: #00af00; text-decoration-color: #00af00\">4</span>)                   │              <span style=\"color: #00af00; text-decoration-color: #00af00\">16</span> │\n",
              "├──────────────────────────────────────┼─────────────────────────────┼─────────────────┤\n",
              "│ dense_5 (<span style=\"color: #0087ff; text-decoration-color: #0087ff\">Dense</span>)                      │ (<span style=\"color: #00d7ff; text-decoration-color: #00d7ff\">None</span>, <span style=\"color: #00af00; text-decoration-color: #00af00\">5</span>)                   │              <span style=\"color: #00af00; text-decoration-color: #00af00\">25</span> │\n",
              "└──────────────────────────────────────┴─────────────────────────────┴─────────────────┘\n",
              "</pre>\n"
            ]
          },
          "metadata": {}
        },
        {
          "output_type": "display_data",
          "data": {
            "text/plain": [
              "\u001b[1m Total params: \u001b[0m\u001b[38;5;34m41\u001b[0m (164.00 B)\n"
            ],
            "text/html": [
              "<pre style=\"white-space:pre;overflow-x:auto;line-height:normal;font-family:Menlo,'DejaVu Sans Mono',consolas,'Courier New',monospace\"><span style=\"font-weight: bold\"> Total params: </span><span style=\"color: #00af00; text-decoration-color: #00af00\">41</span> (164.00 B)\n",
              "</pre>\n"
            ]
          },
          "metadata": {}
        },
        {
          "output_type": "display_data",
          "data": {
            "text/plain": [
              "\u001b[1m Trainable params: \u001b[0m\u001b[38;5;34m41\u001b[0m (164.00 B)\n"
            ],
            "text/html": [
              "<pre style=\"white-space:pre;overflow-x:auto;line-height:normal;font-family:Menlo,'DejaVu Sans Mono',consolas,'Courier New',monospace\"><span style=\"font-weight: bold\"> Trainable params: </span><span style=\"color: #00af00; text-decoration-color: #00af00\">41</span> (164.00 B)\n",
              "</pre>\n"
            ]
          },
          "metadata": {}
        },
        {
          "output_type": "display_data",
          "data": {
            "text/plain": [
              "\u001b[1m Non-trainable params: \u001b[0m\u001b[38;5;34m0\u001b[0m (0.00 B)\n"
            ],
            "text/html": [
              "<pre style=\"white-space:pre;overflow-x:auto;line-height:normal;font-family:Menlo,'DejaVu Sans Mono',consolas,'Courier New',monospace\"><span style=\"font-weight: bold\"> Non-trainable params: </span><span style=\"color: #00af00; text-decoration-color: #00af00\">0</span> (0.00 B)\n",
              "</pre>\n"
            ]
          },
          "metadata": {}
        }
      ]
    },
    {
      "cell_type": "code",
      "source": [
        "CKPT_path = \"Model_ckpt.weights.h5\"\n",
        "callbacks = tf.keras.callbacks.ModelCheckpoint(CKPT_path, save_best_only=True, save_weights_only=True)"
      ],
      "metadata": {
        "id": "PyL1w7I-LlfC"
      },
      "execution_count": 21,
      "outputs": []
    },
    {
      "cell_type": "code",
      "source": [
        "model.compile(loss='categorical_crossentropy', optimizer='adam', metrics=['accuracy'])"
      ],
      "metadata": {
        "id": "CK-NmPPsteza"
      },
      "execution_count": 22,
      "outputs": []
    },
    {
      "cell_type": "code",
      "source": [
        "import keras\n",
        "from matplotlib import pyplot as plt\n",
        "history = model.fit(X_train,y_train,validation_split = 0.1,batch_size=8,epochs=200,verbose=2,callbacks=callbacks)\n",
        "plt.plot(history.history['accuracy'])\n",
        "plt.plot(history.history['val_accuracy'])\n",
        "plt.title('model accuracy')\n",
        "plt.ylabel('accuracy')\n",
        "plt.xlabel('epoch')\n",
        "plt.legend(['train', 'val'], loc='upper left')\n",
        "plt.show()"
      ],
      "metadata": {
        "colab": {
          "base_uri": "https://localhost:8080/",
          "height": 1000
        },
        "id": "dW-z57pBtmVy",
        "outputId": "82b73c21-5d80-4bb1-eda8-edd5a1b2eb84"
      },
      "execution_count": 23,
      "outputs": [
        {
          "output_type": "stream",
          "name": "stdout",
          "text": [
            "Epoch 1/200\n",
            "17/17 - 4s - 213ms/step - accuracy: 0.0902 - loss: 1.6237 - val_accuracy: 0.0667 - val_loss: 1.5749\n",
            "Epoch 2/200\n",
            "17/17 - 0s - 4ms/step - accuracy: 0.2331 - loss: 1.6019 - val_accuracy: 0.2000 - val_loss: 1.5472\n",
            "Epoch 3/200\n",
            "17/17 - 0s - 8ms/step - accuracy: 0.2857 - loss: 1.5811 - val_accuracy: 0.2000 - val_loss: 1.5256\n",
            "Epoch 4/200\n",
            "17/17 - 0s - 4ms/step - accuracy: 0.2857 - loss: 1.5631 - val_accuracy: 0.2000 - val_loss: 1.5023\n",
            "Epoch 5/200\n",
            "17/17 - 0s - 5ms/step - accuracy: 0.2857 - loss: 1.5464 - val_accuracy: 0.2000 - val_loss: 1.4824\n",
            "Epoch 6/200\n",
            "17/17 - 0s - 8ms/step - accuracy: 0.2857 - loss: 1.5301 - val_accuracy: 0.2000 - val_loss: 1.4651\n",
            "Epoch 7/200\n",
            "17/17 - 0s - 4ms/step - accuracy: 0.2857 - loss: 1.5165 - val_accuracy: 0.2000 - val_loss: 1.4494\n",
            "Epoch 8/200\n",
            "17/17 - 0s - 4ms/step - accuracy: 0.2857 - loss: 1.5023 - val_accuracy: 0.2000 - val_loss: 1.4331\n",
            "Epoch 9/200\n",
            "17/17 - 0s - 8ms/step - accuracy: 0.2857 - loss: 1.4904 - val_accuracy: 0.2000 - val_loss: 1.4171\n",
            "Epoch 10/200\n",
            "17/17 - 0s - 8ms/step - accuracy: 0.2857 - loss: 1.4791 - val_accuracy: 0.2000 - val_loss: 1.4051\n",
            "Epoch 11/200\n",
            "17/17 - 0s - 4ms/step - accuracy: 0.2782 - loss: 1.4682 - val_accuracy: 0.2000 - val_loss: 1.3904\n",
            "Epoch 12/200\n",
            "17/17 - 0s - 6ms/step - accuracy: 0.2707 - loss: 1.4583 - val_accuracy: 0.2000 - val_loss: 1.3801\n",
            "Epoch 13/200\n",
            "17/17 - 0s - 4ms/step - accuracy: 0.2782 - loss: 1.4490 - val_accuracy: 0.3333 - val_loss: 1.3696\n",
            "Epoch 14/200\n",
            "17/17 - 0s - 4ms/step - accuracy: 0.2857 - loss: 1.4412 - val_accuracy: 0.4000 - val_loss: 1.3598\n",
            "Epoch 15/200\n",
            "17/17 - 0s - 4ms/step - accuracy: 0.4060 - loss: 1.4325 - val_accuracy: 0.4000 - val_loss: 1.3495\n",
            "Epoch 16/200\n",
            "17/17 - 0s - 4ms/step - accuracy: 0.4436 - loss: 1.4254 - val_accuracy: 0.6667 - val_loss: 1.3377\n",
            "Epoch 17/200\n",
            "17/17 - 0s - 6ms/step - accuracy: 0.4812 - loss: 1.4182 - val_accuracy: 0.6667 - val_loss: 1.3311\n",
            "Epoch 18/200\n",
            "17/17 - 0s - 7ms/step - accuracy: 0.4962 - loss: 1.4120 - val_accuracy: 0.6667 - val_loss: 1.3217\n",
            "Epoch 19/200\n",
            "17/17 - 0s - 4ms/step - accuracy: 0.4812 - loss: 1.4057 - val_accuracy: 0.6667 - val_loss: 1.3140\n",
            "Epoch 20/200\n",
            "17/17 - 0s - 4ms/step - accuracy: 0.4737 - loss: 1.4004 - val_accuracy: 0.6667 - val_loss: 1.3073\n",
            "Epoch 21/200\n",
            "17/17 - 0s - 4ms/step - accuracy: 0.4737 - loss: 1.3949 - val_accuracy: 0.6667 - val_loss: 1.3022\n",
            "Epoch 22/200\n",
            "17/17 - 0s - 4ms/step - accuracy: 0.4286 - loss: 1.3901 - val_accuracy: 0.6000 - val_loss: 1.2959\n",
            "Epoch 23/200\n",
            "17/17 - 0s - 5ms/step - accuracy: 0.4586 - loss: 1.3857 - val_accuracy: 0.6667 - val_loss: 1.2924\n",
            "Epoch 24/200\n",
            "17/17 - 0s - 7ms/step - accuracy: 0.4211 - loss: 1.3806 - val_accuracy: 0.5333 - val_loss: 1.2809\n",
            "Epoch 25/200\n",
            "17/17 - 0s - 4ms/step - accuracy: 0.3534 - loss: 1.3766 - val_accuracy: 0.5333 - val_loss: 1.2761\n",
            "Epoch 26/200\n",
            "17/17 - 0s - 8ms/step - accuracy: 0.4060 - loss: 1.3723 - val_accuracy: 0.6000 - val_loss: 1.2705\n",
            "Epoch 27/200\n",
            "17/17 - 0s - 9ms/step - accuracy: 0.3684 - loss: 1.3684 - val_accuracy: 0.6000 - val_loss: 1.2663\n",
            "Epoch 28/200\n",
            "17/17 - 0s - 4ms/step - accuracy: 0.3759 - loss: 1.3647 - val_accuracy: 0.6000 - val_loss: 1.2622\n",
            "Epoch 29/200\n",
            "17/17 - 0s - 4ms/step - accuracy: 0.4060 - loss: 1.3616 - val_accuracy: 0.6000 - val_loss: 1.2592\n",
            "Epoch 30/200\n",
            "17/17 - 0s - 8ms/step - accuracy: 0.3835 - loss: 1.3584 - val_accuracy: 0.6000 - val_loss: 1.2560\n",
            "Epoch 31/200\n",
            "17/17 - 0s - 9ms/step - accuracy: 0.3609 - loss: 1.3548 - val_accuracy: 0.6000 - val_loss: 1.2486\n",
            "Epoch 32/200\n",
            "17/17 - 0s - 5ms/step - accuracy: 0.3759 - loss: 1.3514 - val_accuracy: 0.6000 - val_loss: 1.2437\n",
            "Epoch 33/200\n",
            "17/17 - 0s - 4ms/step - accuracy: 0.3835 - loss: 1.3483 - val_accuracy: 0.6000 - val_loss: 1.2378\n",
            "Epoch 34/200\n",
            "17/17 - 0s - 5ms/step - accuracy: 0.3759 - loss: 1.3453 - val_accuracy: 0.6000 - val_loss: 1.2347\n",
            "Epoch 35/200\n",
            "17/17 - 0s - 4ms/step - accuracy: 0.3835 - loss: 1.3426 - val_accuracy: 0.6000 - val_loss: 1.2339\n",
            "Epoch 36/200\n",
            "17/17 - 0s - 5ms/step - accuracy: 0.3835 - loss: 1.3396 - val_accuracy: 0.6000 - val_loss: 1.2264\n",
            "Epoch 37/200\n",
            "17/17 - 0s - 8ms/step - accuracy: 0.3835 - loss: 1.3366 - val_accuracy: 0.6000 - val_loss: 1.2222\n",
            "Epoch 38/200\n",
            "17/17 - 0s - 8ms/step - accuracy: 0.3835 - loss: 1.3339 - val_accuracy: 0.6000 - val_loss: 1.2212\n",
            "Epoch 39/200\n",
            "17/17 - 0s - 8ms/step - accuracy: 0.3835 - loss: 1.3309 - val_accuracy: 0.6000 - val_loss: 1.2173\n",
            "Epoch 40/200\n",
            "17/17 - 0s - 8ms/step - accuracy: 0.3835 - loss: 1.3285 - val_accuracy: 0.6000 - val_loss: 1.2155\n",
            "Epoch 41/200\n",
            "17/17 - 0s - 5ms/step - accuracy: 0.3835 - loss: 1.3261 - val_accuracy: 0.6000 - val_loss: 1.2093\n",
            "Epoch 42/200\n",
            "17/17 - 0s - 4ms/step - accuracy: 0.3835 - loss: 1.3243 - val_accuracy: 0.6667 - val_loss: 1.2007\n",
            "Epoch 43/200\n",
            "17/17 - 0s - 8ms/step - accuracy: 0.3835 - loss: 1.3203 - val_accuracy: 0.6667 - val_loss: 1.1987\n",
            "Epoch 44/200\n",
            "17/17 - 0s - 7ms/step - accuracy: 0.3910 - loss: 1.3183 - val_accuracy: 0.6000 - val_loss: 1.2000\n",
            "Epoch 45/200\n",
            "17/17 - 0s - 4ms/step - accuracy: 0.4211 - loss: 1.3156 - val_accuracy: 0.6000 - val_loss: 1.1955\n",
            "Epoch 46/200\n",
            "17/17 - 0s - 5ms/step - accuracy: 0.4211 - loss: 1.3127 - val_accuracy: 0.6000 - val_loss: 1.1927\n",
            "Epoch 47/200\n",
            "17/17 - 0s - 8ms/step - accuracy: 0.4211 - loss: 1.3102 - val_accuracy: 0.6000 - val_loss: 1.1882\n",
            "Epoch 48/200\n",
            "17/17 - 0s - 7ms/step - accuracy: 0.4211 - loss: 1.3074 - val_accuracy: 0.6000 - val_loss: 1.1852\n",
            "Epoch 49/200\n",
            "17/17 - 0s - 8ms/step - accuracy: 0.4211 - loss: 1.3050 - val_accuracy: 0.6000 - val_loss: 1.1818\n",
            "Epoch 50/200\n",
            "17/17 - 0s - 5ms/step - accuracy: 0.3910 - loss: 1.3024 - val_accuracy: 0.6000 - val_loss: 1.1764\n",
            "Epoch 51/200\n",
            "17/17 - 0s - 8ms/step - accuracy: 0.3534 - loss: 1.2997 - val_accuracy: 0.6667 - val_loss: 1.1716\n",
            "Epoch 52/200\n",
            "17/17 - 0s - 7ms/step - accuracy: 0.3684 - loss: 1.2989 - val_accuracy: 0.4667 - val_loss: 1.1747\n",
            "Epoch 53/200\n",
            "17/17 - 0s - 4ms/step - accuracy: 0.3835 - loss: 1.2946 - val_accuracy: 0.6000 - val_loss: 1.1690\n",
            "Epoch 54/200\n",
            "17/17 - 0s - 4ms/step - accuracy: 0.3759 - loss: 1.2923 - val_accuracy: 0.6000 - val_loss: 1.1626\n",
            "Epoch 55/200\n",
            "17/17 - 0s - 5ms/step - accuracy: 0.4211 - loss: 1.2891 - val_accuracy: 0.6000 - val_loss: 1.1580\n",
            "Epoch 56/200\n",
            "17/17 - 0s - 4ms/step - accuracy: 0.4060 - loss: 1.2870 - val_accuracy: 0.6000 - val_loss: 1.1549\n",
            "Epoch 57/200\n",
            "17/17 - 0s - 5ms/step - accuracy: 0.3985 - loss: 1.2845 - val_accuracy: 0.5333 - val_loss: 1.1537\n",
            "Epoch 58/200\n",
            "17/17 - 0s - 7ms/step - accuracy: 0.4211 - loss: 1.2814 - val_accuracy: 0.6000 - val_loss: 1.1472\n",
            "Epoch 59/200\n",
            "17/17 - 0s - 9ms/step - accuracy: 0.4211 - loss: 1.2786 - val_accuracy: 0.6000 - val_loss: 1.1434\n",
            "Epoch 60/200\n",
            "17/17 - 0s - 7ms/step - accuracy: 0.4211 - loss: 1.2756 - val_accuracy: 0.6000 - val_loss: 1.1398\n",
            "Epoch 61/200\n",
            "17/17 - 0s - 4ms/step - accuracy: 0.4211 - loss: 1.2732 - val_accuracy: 0.6000 - val_loss: 1.1376\n",
            "Epoch 62/200\n",
            "17/17 - 0s - 8ms/step - accuracy: 0.4211 - loss: 1.2704 - val_accuracy: 0.6667 - val_loss: 1.1299\n",
            "Epoch 63/200\n",
            "17/17 - 0s - 7ms/step - accuracy: 0.4361 - loss: 1.2685 - val_accuracy: 0.6000 - val_loss: 1.1321\n",
            "Epoch 64/200\n",
            "17/17 - 0s - 9ms/step - accuracy: 0.4511 - loss: 1.2646 - val_accuracy: 0.6000 - val_loss: 1.1258\n",
            "Epoch 65/200\n",
            "17/17 - 0s - 8ms/step - accuracy: 0.4211 - loss: 1.2617 - val_accuracy: 0.6000 - val_loss: 1.1186\n",
            "Epoch 66/200\n",
            "17/17 - 0s - 4ms/step - accuracy: 0.4211 - loss: 1.2591 - val_accuracy: 0.6000 - val_loss: 1.1155\n",
            "Epoch 67/200\n",
            "17/17 - 0s - 4ms/step - accuracy: 0.4211 - loss: 1.2562 - val_accuracy: 0.6000 - val_loss: 1.1128\n",
            "Epoch 68/200\n",
            "17/17 - 0s - 8ms/step - accuracy: 0.4286 - loss: 1.2537 - val_accuracy: 0.6000 - val_loss: 1.1125\n",
            "Epoch 69/200\n",
            "17/17 - 0s - 8ms/step - accuracy: 0.4511 - loss: 1.2513 - val_accuracy: 0.6000 - val_loss: 1.1068\n",
            "Epoch 70/200\n",
            "17/17 - 0s - 8ms/step - accuracy: 0.4511 - loss: 1.2478 - val_accuracy: 0.6000 - val_loss: 1.1041\n",
            "Epoch 71/200\n",
            "17/17 - 0s - 4ms/step - accuracy: 0.4511 - loss: 1.2453 - val_accuracy: 0.6000 - val_loss: 1.1018\n",
            "Epoch 72/200\n",
            "17/17 - 0s - 4ms/step - accuracy: 0.4511 - loss: 1.2427 - val_accuracy: 0.6000 - val_loss: 1.0960\n",
            "Epoch 73/200\n",
            "17/17 - 0s - 8ms/step - accuracy: 0.4511 - loss: 1.2396 - val_accuracy: 0.6000 - val_loss: 1.0935\n",
            "Epoch 74/200\n",
            "17/17 - 0s - 8ms/step - accuracy: 0.4511 - loss: 1.2372 - val_accuracy: 0.6000 - val_loss: 1.0883\n",
            "Epoch 75/200\n",
            "17/17 - 0s - 4ms/step - accuracy: 0.4511 - loss: 1.2345 - val_accuracy: 0.6000 - val_loss: 1.0844\n",
            "Epoch 76/200\n",
            "17/17 - 0s - 9ms/step - accuracy: 0.4511 - loss: 1.2312 - val_accuracy: 0.6000 - val_loss: 1.0806\n",
            "Epoch 77/200\n",
            "17/17 - 0s - 4ms/step - accuracy: 0.4511 - loss: 1.2284 - val_accuracy: 0.6000 - val_loss: 1.0782\n",
            "Epoch 78/200\n",
            "17/17 - 0s - 8ms/step - accuracy: 0.4286 - loss: 1.2263 - val_accuracy: 0.6667 - val_loss: 1.0670\n",
            "Epoch 79/200\n",
            "17/17 - 0s - 4ms/step - accuracy: 0.4511 - loss: 1.2237 - val_accuracy: 0.6000 - val_loss: 1.0720\n",
            "Epoch 80/200\n",
            "17/17 - 0s - 3ms/step - accuracy: 0.4511 - loss: 1.2199 - val_accuracy: 0.6000 - val_loss: 1.0684\n",
            "Epoch 81/200\n",
            "17/17 - 0s - 4ms/step - accuracy: 0.4511 - loss: 1.2168 - val_accuracy: 0.6000 - val_loss: 1.0636\n",
            "Epoch 82/200\n",
            "17/17 - 0s - 9ms/step - accuracy: 0.4511 - loss: 1.2137 - val_accuracy: 0.6000 - val_loss: 1.0591\n",
            "Epoch 83/200\n",
            "17/17 - 0s - 4ms/step - accuracy: 0.4511 - loss: 1.2115 - val_accuracy: 0.6000 - val_loss: 1.0511\n",
            "Epoch 84/200\n",
            "17/17 - 0s - 5ms/step - accuracy: 0.4511 - loss: 1.2082 - val_accuracy: 0.6000 - val_loss: 1.0506\n",
            "Epoch 85/200\n",
            "17/17 - 0s - 8ms/step - accuracy: 0.4511 - loss: 1.2052 - val_accuracy: 0.6000 - val_loss: 1.0480\n",
            "Epoch 86/200\n",
            "17/17 - 0s - 8ms/step - accuracy: 0.4511 - loss: 1.2020 - val_accuracy: 0.6000 - val_loss: 1.0481\n",
            "Epoch 87/200\n",
            "17/17 - 0s - 9ms/step - accuracy: 0.4511 - loss: 1.1989 - val_accuracy: 0.6000 - val_loss: 1.0438\n",
            "Epoch 88/200\n",
            "17/17 - 0s - 8ms/step - accuracy: 0.4586 - loss: 1.1960 - val_accuracy: 0.6000 - val_loss: 1.0388\n",
            "Epoch 89/200\n",
            "17/17 - 0s - 4ms/step - accuracy: 0.4586 - loss: 1.1931 - val_accuracy: 0.6667 - val_loss: 1.0335\n",
            "Epoch 90/200\n",
            "17/17 - 0s - 9ms/step - accuracy: 0.4586 - loss: 1.1898 - val_accuracy: 0.6667 - val_loss: 1.0328\n",
            "Epoch 91/200\n",
            "17/17 - 0s - 7ms/step - accuracy: 0.4586 - loss: 1.1867 - val_accuracy: 0.6667 - val_loss: 1.0279\n",
            "Epoch 92/200\n",
            "17/17 - 0s - 4ms/step - accuracy: 0.4586 - loss: 1.1838 - val_accuracy: 0.6667 - val_loss: 1.0233\n",
            "Epoch 93/200\n",
            "17/17 - 0s - 5ms/step - accuracy: 0.4812 - loss: 1.1808 - val_accuracy: 0.7333 - val_loss: 1.0254\n",
            "Epoch 94/200\n",
            "17/17 - 0s - 7ms/step - accuracy: 0.5113 - loss: 1.1774 - val_accuracy: 0.7333 - val_loss: 1.0203\n",
            "Epoch 95/200\n",
            "17/17 - 0s - 7ms/step - accuracy: 0.5188 - loss: 1.1749 - val_accuracy: 0.7333 - val_loss: 1.0193\n",
            "Epoch 96/200\n",
            "17/17 - 0s - 7ms/step - accuracy: 0.5188 - loss: 1.1721 - val_accuracy: 0.7333 - val_loss: 1.0102\n",
            "Epoch 97/200\n",
            "17/17 - 0s - 9ms/step - accuracy: 0.5263 - loss: 1.1682 - val_accuracy: 0.7333 - val_loss: 1.0072\n",
            "Epoch 98/200\n",
            "17/17 - 0s - 8ms/step - accuracy: 0.5414 - loss: 1.1649 - val_accuracy: 0.7333 - val_loss: 1.0054\n",
            "Epoch 99/200\n",
            "17/17 - 0s - 8ms/step - accuracy: 0.5414 - loss: 1.1619 - val_accuracy: 0.7333 - val_loss: 1.0037\n",
            "Epoch 100/200\n",
            "17/17 - 0s - 7ms/step - accuracy: 0.5414 - loss: 1.1585 - val_accuracy: 0.7333 - val_loss: 1.0026\n",
            "Epoch 101/200\n",
            "17/17 - 0s - 9ms/step - accuracy: 0.5489 - loss: 1.1557 - val_accuracy: 0.7333 - val_loss: 0.9956\n",
            "Epoch 102/200\n",
            "17/17 - 0s - 7ms/step - accuracy: 0.5489 - loss: 1.1522 - val_accuracy: 0.7333 - val_loss: 0.9925\n",
            "Epoch 103/200\n",
            "17/17 - 0s - 7ms/step - accuracy: 0.5489 - loss: 1.1491 - val_accuracy: 0.7333 - val_loss: 0.9866\n",
            "Epoch 104/200\n",
            "17/17 - 0s - 6ms/step - accuracy: 0.5489 - loss: 1.1464 - val_accuracy: 0.7333 - val_loss: 0.9836\n",
            "Epoch 105/200\n",
            "17/17 - 0s - 6ms/step - accuracy: 0.5489 - loss: 1.1428 - val_accuracy: 0.7333 - val_loss: 0.9805\n",
            "Epoch 106/200\n",
            "17/17 - 0s - 7ms/step - accuracy: 0.5564 - loss: 1.1395 - val_accuracy: 0.7333 - val_loss: 0.9800\n",
            "Epoch 107/200\n",
            "17/17 - 0s - 8ms/step - accuracy: 0.5564 - loss: 1.1366 - val_accuracy: 0.7333 - val_loss: 0.9770\n",
            "Epoch 108/200\n",
            "17/17 - 0s - 7ms/step - accuracy: 0.5639 - loss: 1.1334 - val_accuracy: 0.7333 - val_loss: 0.9749\n",
            "Epoch 109/200\n",
            "17/17 - 0s - 8ms/step - accuracy: 0.5789 - loss: 1.1300 - val_accuracy: 0.7333 - val_loss: 0.9692\n",
            "Epoch 110/200\n",
            "17/17 - 0s - 9ms/step - accuracy: 0.5789 - loss: 1.1267 - val_accuracy: 0.7333 - val_loss: 0.9664\n",
            "Epoch 111/200\n",
            "17/17 - 0s - 7ms/step - accuracy: 0.5714 - loss: 1.1236 - val_accuracy: 0.7333 - val_loss: 0.9639\n",
            "Epoch 112/200\n",
            "17/17 - 0s - 8ms/step - accuracy: 0.5714 - loss: 1.1205 - val_accuracy: 0.7333 - val_loss: 0.9571\n",
            "Epoch 113/200\n",
            "17/17 - 0s - 6ms/step - accuracy: 0.5714 - loss: 1.1176 - val_accuracy: 0.7333 - val_loss: 0.9576\n",
            "Epoch 114/200\n",
            "17/17 - 0s - 7ms/step - accuracy: 0.5865 - loss: 1.1141 - val_accuracy: 0.7333 - val_loss: 0.9560\n",
            "Epoch 115/200\n",
            "17/17 - 0s - 9ms/step - accuracy: 0.5940 - loss: 1.1113 - val_accuracy: 0.7333 - val_loss: 0.9445\n",
            "Epoch 116/200\n",
            "17/17 - 0s - 18ms/step - accuracy: 0.5865 - loss: 1.1076 - val_accuracy: 0.7333 - val_loss: 0.9443\n",
            "Epoch 117/200\n",
            "17/17 - 0s - 5ms/step - accuracy: 0.5865 - loss: 1.1047 - val_accuracy: 0.7333 - val_loss: 0.9432\n",
            "Epoch 118/200\n",
            "17/17 - 0s - 5ms/step - accuracy: 0.5865 - loss: 1.1030 - val_accuracy: 0.7333 - val_loss: 0.9386\n",
            "Epoch 119/200\n",
            "17/17 - 0s - 7ms/step - accuracy: 0.5940 - loss: 1.0980 - val_accuracy: 0.7333 - val_loss: 0.9346\n",
            "Epoch 120/200\n",
            "17/17 - 0s - 4ms/step - accuracy: 0.5865 - loss: 1.0951 - val_accuracy: 0.7333 - val_loss: 0.9304\n",
            "Epoch 121/200\n",
            "17/17 - 0s - 3ms/step - accuracy: 0.5865 - loss: 1.0927 - val_accuracy: 0.7333 - val_loss: 0.9311\n",
            "Epoch 122/200\n",
            "17/17 - 0s - 5ms/step - accuracy: 0.5940 - loss: 1.0891 - val_accuracy: 0.7333 - val_loss: 0.9224\n",
            "Epoch 123/200\n",
            "17/17 - 0s - 9ms/step - accuracy: 0.5940 - loss: 1.0866 - val_accuracy: 0.7333 - val_loss: 0.9222\n",
            "Epoch 124/200\n",
            "17/17 - 0s - 8ms/step - accuracy: 0.5940 - loss: 1.0834 - val_accuracy: 0.7333 - val_loss: 0.9160\n",
            "Epoch 125/200\n",
            "17/17 - 0s - 5ms/step - accuracy: 0.5940 - loss: 1.0806 - val_accuracy: 0.7333 - val_loss: 0.9181\n",
            "Epoch 126/200\n",
            "17/17 - 0s - 7ms/step - accuracy: 0.5940 - loss: 1.0768 - val_accuracy: 0.7333 - val_loss: 0.9123\n",
            "Epoch 127/200\n",
            "17/17 - 0s - 5ms/step - accuracy: 0.5940 - loss: 1.0740 - val_accuracy: 0.7333 - val_loss: 0.9071\n",
            "Epoch 128/200\n",
            "17/17 - 0s - 8ms/step - accuracy: 0.5940 - loss: 1.0714 - val_accuracy: 0.7333 - val_loss: 0.9022\n",
            "Epoch 129/200\n",
            "17/17 - 0s - 7ms/step - accuracy: 0.5940 - loss: 1.0679 - val_accuracy: 0.7333 - val_loss: 0.9023\n",
            "Epoch 130/200\n",
            "17/17 - 0s - 4ms/step - accuracy: 0.5940 - loss: 1.0652 - val_accuracy: 0.7333 - val_loss: 0.9010\n",
            "Epoch 131/200\n",
            "17/17 - 0s - 4ms/step - accuracy: 0.6015 - loss: 1.0616 - val_accuracy: 0.7333 - val_loss: 0.8947\n",
            "Epoch 132/200\n",
            "17/17 - 0s - 4ms/step - accuracy: 0.6165 - loss: 1.0588 - val_accuracy: 0.7333 - val_loss: 0.8928\n",
            "Epoch 133/200\n",
            "17/17 - 0s - 5ms/step - accuracy: 0.6165 - loss: 1.0560 - val_accuracy: 0.7333 - val_loss: 0.8914\n",
            "Epoch 134/200\n",
            "17/17 - 0s - 4ms/step - accuracy: 0.6165 - loss: 1.0532 - val_accuracy: 0.7333 - val_loss: 0.8834\n",
            "Epoch 135/200\n",
            "17/17 - 0s - 6ms/step - accuracy: 0.6165 - loss: 1.0501 - val_accuracy: 0.7333 - val_loss: 0.8794\n",
            "Epoch 136/200\n",
            "17/17 - 0s - 4ms/step - accuracy: 0.6165 - loss: 1.0472 - val_accuracy: 0.7333 - val_loss: 0.8799\n",
            "Epoch 137/200\n",
            "17/17 - 0s - 4ms/step - accuracy: 0.6165 - loss: 1.0448 - val_accuracy: 0.7333 - val_loss: 0.8780\n",
            "Epoch 138/200\n",
            "17/17 - 0s - 8ms/step - accuracy: 0.6165 - loss: 1.0420 - val_accuracy: 0.7333 - val_loss: 0.8754\n",
            "Epoch 139/200\n",
            "17/17 - 0s - 8ms/step - accuracy: 0.6165 - loss: 1.0390 - val_accuracy: 0.7333 - val_loss: 0.8693\n",
            "Epoch 140/200\n",
            "17/17 - 0s - 8ms/step - accuracy: 0.6165 - loss: 1.0365 - val_accuracy: 0.7333 - val_loss: 0.8675\n",
            "Epoch 141/200\n",
            "17/17 - 0s - 8ms/step - accuracy: 0.6165 - loss: 1.0336 - val_accuracy: 0.7333 - val_loss: 0.8618\n",
            "Epoch 142/200\n",
            "17/17 - 0s - 7ms/step - accuracy: 0.6165 - loss: 1.0311 - val_accuracy: 0.7333 - val_loss: 0.8623\n",
            "Epoch 143/200\n",
            "17/17 - 0s - 9ms/step - accuracy: 0.6165 - loss: 1.0281 - val_accuracy: 0.7333 - val_loss: 0.8601\n",
            "Epoch 144/200\n",
            "17/17 - 0s - 7ms/step - accuracy: 0.6165 - loss: 1.0254 - val_accuracy: 0.7333 - val_loss: 0.8548\n",
            "Epoch 145/200\n",
            "17/17 - 0s - 8ms/step - accuracy: 0.6165 - loss: 1.0229 - val_accuracy: 0.7333 - val_loss: 0.8564\n",
            "Epoch 146/200\n",
            "17/17 - 0s - 4ms/step - accuracy: 0.6165 - loss: 1.0214 - val_accuracy: 0.7333 - val_loss: 0.8473\n",
            "Epoch 147/200\n",
            "17/17 - 0s - 8ms/step - accuracy: 0.6165 - loss: 1.0174 - val_accuracy: 0.7333 - val_loss: 0.8448\n",
            "Epoch 148/200\n",
            "17/17 - 0s - 8ms/step - accuracy: 0.6241 - loss: 1.0158 - val_accuracy: 0.7333 - val_loss: 0.8439\n",
            "Epoch 149/200\n",
            "17/17 - 0s - 4ms/step - accuracy: 0.6241 - loss: 1.0119 - val_accuracy: 0.7333 - val_loss: 0.8426\n",
            "Epoch 150/200\n",
            "17/17 - 0s - 8ms/step - accuracy: 0.6241 - loss: 1.0098 - val_accuracy: 0.7333 - val_loss: 0.8441\n",
            "Epoch 151/200\n",
            "17/17 - 0s - 10ms/step - accuracy: 0.6241 - loss: 1.0078 - val_accuracy: 0.7333 - val_loss: 0.8410\n",
            "Epoch 152/200\n",
            "17/17 - 0s - 4ms/step - accuracy: 0.6241 - loss: 1.0049 - val_accuracy: 0.7333 - val_loss: 0.8360\n",
            "Epoch 153/200\n",
            "17/17 - 0s - 4ms/step - accuracy: 0.6241 - loss: 1.0020 - val_accuracy: 0.7333 - val_loss: 0.8303\n",
            "Epoch 154/200\n",
            "17/17 - 0s - 8ms/step - accuracy: 0.6316 - loss: 1.0001 - val_accuracy: 0.7333 - val_loss: 0.8296\n",
            "Epoch 155/200\n",
            "17/17 - 0s - 8ms/step - accuracy: 0.6316 - loss: 0.9976 - val_accuracy: 0.7333 - val_loss: 0.8267\n",
            "Epoch 156/200\n",
            "17/17 - 0s - 4ms/step - accuracy: 0.6316 - loss: 0.9945 - val_accuracy: 0.7333 - val_loss: 0.8262\n",
            "Epoch 157/200\n",
            "17/17 - 0s - 4ms/step - accuracy: 0.6316 - loss: 0.9925 - val_accuracy: 0.7333 - val_loss: 0.8225\n",
            "Epoch 158/200\n",
            "17/17 - 0s - 4ms/step - accuracy: 0.6316 - loss: 0.9899 - val_accuracy: 0.7333 - val_loss: 0.8211\n",
            "Epoch 159/200\n",
            "17/17 - 0s - 7ms/step - accuracy: 0.6316 - loss: 0.9876 - val_accuracy: 0.7333 - val_loss: 0.8213\n",
            "Epoch 160/200\n",
            "17/17 - 0s - 5ms/step - accuracy: 0.6391 - loss: 0.9857 - val_accuracy: 0.7333 - val_loss: 0.8171\n",
            "Epoch 161/200\n",
            "17/17 - 0s - 9ms/step - accuracy: 0.6391 - loss: 0.9830 - val_accuracy: 0.7333 - val_loss: 0.8159\n",
            "Epoch 162/200\n",
            "17/17 - 0s - 4ms/step - accuracy: 0.6391 - loss: 0.9811 - val_accuracy: 0.7333 - val_loss: 0.8090\n",
            "Epoch 163/200\n",
            "17/17 - 0s - 3ms/step - accuracy: 0.6316 - loss: 0.9794 - val_accuracy: 0.7333 - val_loss: 0.8136\n",
            "Epoch 164/200\n",
            "17/17 - 0s - 4ms/step - accuracy: 0.6391 - loss: 0.9765 - val_accuracy: 0.7333 - val_loss: 0.8045\n",
            "Epoch 165/200\n",
            "17/17 - 0s - 8ms/step - accuracy: 0.6391 - loss: 0.9744 - val_accuracy: 0.7333 - val_loss: 0.7996\n",
            "Epoch 166/200\n",
            "17/17 - 0s - 7ms/step - accuracy: 0.6391 - loss: 0.9720 - val_accuracy: 0.7333 - val_loss: 0.8029\n",
            "Epoch 167/200\n",
            "17/17 - 0s - 4ms/step - accuracy: 0.6391 - loss: 0.9697 - val_accuracy: 0.7333 - val_loss: 0.8010\n",
            "Epoch 168/200\n",
            "17/17 - 0s - 4ms/step - accuracy: 0.6391 - loss: 0.9672 - val_accuracy: 0.7333 - val_loss: 0.7991\n",
            "Epoch 169/200\n",
            "17/17 - 0s - 4ms/step - accuracy: 0.6391 - loss: 0.9652 - val_accuracy: 0.8000 - val_loss: 0.7976\n",
            "Epoch 170/200\n",
            "17/17 - 0s - 4ms/step - accuracy: 0.6391 - loss: 0.9634 - val_accuracy: 0.8000 - val_loss: 0.7964\n",
            "Epoch 171/200\n",
            "17/17 - 0s - 9ms/step - accuracy: 0.6391 - loss: 0.9611 - val_accuracy: 0.8000 - val_loss: 0.7903\n",
            "Epoch 172/200\n",
            "17/17 - 0s - 8ms/step - accuracy: 0.6391 - loss: 0.9594 - val_accuracy: 0.8000 - val_loss: 0.7866\n",
            "Epoch 173/200\n",
            "17/17 - 0s - 8ms/step - accuracy: 0.6466 - loss: 0.9571 - val_accuracy: 0.8000 - val_loss: 0.7855\n",
            "Epoch 174/200\n",
            "17/17 - 0s - 5ms/step - accuracy: 0.6466 - loss: 0.9552 - val_accuracy: 0.8000 - val_loss: 0.7808\n",
            "Epoch 175/200\n",
            "17/17 - 0s - 4ms/step - accuracy: 0.6466 - loss: 0.9532 - val_accuracy: 0.8000 - val_loss: 0.7802\n",
            "Epoch 176/200\n",
            "17/17 - 0s - 8ms/step - accuracy: 0.6466 - loss: 0.9514 - val_accuracy: 0.8000 - val_loss: 0.7812\n",
            "Epoch 177/200\n",
            "17/17 - 0s - 9ms/step - accuracy: 0.6391 - loss: 0.9501 - val_accuracy: 0.8000 - val_loss: 0.7750\n",
            "Epoch 178/200\n",
            "17/17 - 0s - 7ms/step - accuracy: 0.6466 - loss: 0.9478 - val_accuracy: 0.8000 - val_loss: 0.7710\n",
            "Epoch 179/200\n",
            "17/17 - 0s - 9ms/step - accuracy: 0.6466 - loss: 0.9458 - val_accuracy: 0.8000 - val_loss: 0.7706\n",
            "Epoch 180/200\n",
            "17/17 - 0s - 7ms/step - accuracy: 0.6466 - loss: 0.9440 - val_accuracy: 0.8000 - val_loss: 0.7676\n",
            "Epoch 181/200\n",
            "17/17 - 0s - 8ms/step - accuracy: 0.6466 - loss: 0.9418 - val_accuracy: 0.8000 - val_loss: 0.7694\n",
            "Epoch 182/200\n",
            "17/17 - 0s - 4ms/step - accuracy: 0.6466 - loss: 0.9403 - val_accuracy: 0.8000 - val_loss: 0.7685\n",
            "Epoch 183/200\n",
            "17/17 - 0s - 4ms/step - accuracy: 0.6466 - loss: 0.9386 - val_accuracy: 0.8000 - val_loss: 0.7658\n",
            "Epoch 184/200\n",
            "17/17 - 0s - 5ms/step - accuracy: 0.6466 - loss: 0.9370 - val_accuracy: 0.8000 - val_loss: 0.7664\n",
            "Epoch 185/200\n",
            "17/17 - 0s - 5ms/step - accuracy: 0.6466 - loss: 0.9348 - val_accuracy: 0.8000 - val_loss: 0.7609\n",
            "Epoch 186/200\n",
            "17/17 - 0s - 6ms/step - accuracy: 0.6466 - loss: 0.9336 - val_accuracy: 0.8000 - val_loss: 0.7588\n",
            "Epoch 187/200\n",
            "17/17 - 0s - 4ms/step - accuracy: 0.6466 - loss: 0.9317 - val_accuracy: 0.8000 - val_loss: 0.7533\n",
            "Epoch 188/200\n",
            "17/17 - 0s - 8ms/step - accuracy: 0.6466 - loss: 0.9295 - val_accuracy: 0.8000 - val_loss: 0.7568\n",
            "Epoch 189/200\n",
            "17/17 - 0s - 8ms/step - accuracy: 0.6466 - loss: 0.9281 - val_accuracy: 0.8000 - val_loss: 0.7517\n",
            "Epoch 190/200\n",
            "17/17 - 0s - 8ms/step - accuracy: 0.6466 - loss: 0.9260 - val_accuracy: 0.8000 - val_loss: 0.7514\n",
            "Epoch 191/200\n",
            "17/17 - 0s - 8ms/step - accuracy: 0.6466 - loss: 0.9243 - val_accuracy: 0.8000 - val_loss: 0.7505\n",
            "Epoch 192/200\n",
            "17/17 - 0s - 4ms/step - accuracy: 0.6617 - loss: 0.9232 - val_accuracy: 0.8000 - val_loss: 0.7544\n",
            "Epoch 193/200\n",
            "17/17 - 0s - 8ms/step - accuracy: 0.6692 - loss: 0.9215 - val_accuracy: 0.8000 - val_loss: 0.7521\n",
            "Epoch 194/200\n",
            "17/17 - 0s - 9ms/step - accuracy: 0.6541 - loss: 0.9207 - val_accuracy: 0.8000 - val_loss: 0.7441\n",
            "Epoch 195/200\n",
            "17/17 - 0s - 8ms/step - accuracy: 0.6466 - loss: 0.9181 - val_accuracy: 0.8000 - val_loss: 0.7431\n",
            "Epoch 196/200\n",
            "17/17 - 0s - 3ms/step - accuracy: 0.6466 - loss: 0.9168 - val_accuracy: 0.8000 - val_loss: 0.7434\n",
            "Epoch 197/200\n",
            "17/17 - 0s - 9ms/step - accuracy: 0.6466 - loss: 0.9150 - val_accuracy: 0.8000 - val_loss: 0.7422\n",
            "Epoch 198/200\n",
            "17/17 - 0s - 8ms/step - accuracy: 0.6541 - loss: 0.9136 - val_accuracy: 0.8000 - val_loss: 0.7404\n",
            "Epoch 199/200\n",
            "17/17 - 0s - 4ms/step - accuracy: 0.6617 - loss: 0.9120 - val_accuracy: 0.8000 - val_loss: 0.7383\n",
            "Epoch 200/200\n",
            "17/17 - 0s - 8ms/step - accuracy: 0.6466 - loss: 0.9100 - val_accuracy: 0.8000 - val_loss: 0.7354\n"
          ]
        },
        {
          "output_type": "display_data",
          "data": {
            "text/plain": [
              "<Figure size 640x480 with 1 Axes>"
            ],
            "image/png": "[encoded data removed]"
          },
          "metadata": {}
        }
      ]
    },
    {
      "cell_type": "code",
      "source": [
        "model.save(\"ann.h5\")"
      ],
      "metadata": {
        "colab": {
          "base_uri": "https://localhost:8080/"
        },
        "id": "w-fZ4wAitrQy",
        "outputId": "0ddb21be-dd47-4a6f-9bcf-c53bde257832"
      },
      "execution_count": null,
      "outputs": [
        {
          "output_type": "stream",
          "name": "stderr",
          "text": [
            "WARNING:absl:You are saving your model as an HDF5 file via `model.save()` or `keras.saving.save_model(model)`. This file format is considered legacy. We recommend using instead the native Keras format, e.g. `model.save('my_model.keras')` or `keras.saving.save_model(model, 'my_model.keras')`. \n"
          ]
        }
      ]
    },
    {
      "cell_type": "code",
      "source": [
        "plt.plot(history.history['accuracy'])"
      ],
      "metadata": {
        "colab": {
          "base_uri": "https://localhost:8080/",
          "height": 448
        },
        "id": "AJZJQkokLCzV",
        "outputId": "307b5419-1553-40f5-84ad-eeb8bbf4df2f"
      },
      "execution_count": null,
      "outputs": [
        {
          "output_type": "execute_result",
          "data": {
            "text/plain": [
              "[<matplotlib.lines.Line2D at 0x79b36f599090>]"
            ]
          },
          "metadata": {},
          "execution_count": 300
        },
        {
          "output_type": "display_data",
          "data": {
            "text/plain": [
              "<Figure size 640x480 with 1 Axes>"
            ],
            "image/png": "[encoded data removed]"
          },
          "metadata": {}
        }
      ]
    },
    {
      "cell_type": "code",
      "source": [
        "max(history.history['accuracy'])\n"
      ],
      "metadata": {
        "colab": {
          "base_uri": "https://localhost:8080/"
        },
        "id": "0Q1uQGuOMxRU",
        "outputId": "64fb7aee-2b2e-4468-bf5d-047127556d5f"
      },
      "execution_count": 24,
      "outputs": [
        {
          "output_type": "execute_result",
          "data": {
            "text/plain": [
              "0.6691729426383972"
            ]
          },
          "metadata": {},
          "execution_count": 24
        }
      ]
    },
    {
      "cell_type": "code",
      "source": [
        "max(history.history['val_accuracy'])"
      ],
      "metadata": {
        "colab": {
          "base_uri": "https://localhost:8080/"
        },
        "id": "idDgjc4DM09z",
        "outputId": "4e99984c-70d8-4a50-e3cc-b696be991c05"
      },
      "execution_count": 25,
      "outputs": [
        {
          "output_type": "execute_result",
          "data": {
            "text/plain": [
              "0.800000011920929"
            ]
          },
          "metadata": {},
          "execution_count": 25
        }
      ]
    },
    {
      "cell_type": "code",
      "source": [
        "First_Layer_Size =18 # Number of neurons in first layer\n",
        "model=Sequential()\n",
        "model.add(Dense(First_Layer_Size,activation='sigmoid', input_shape=(3,)))\n",
        "model.add(Dense(5,activation='softmax'))\n",
        "model.summary()\n",
        "CKPT_path = \"Model_ckpt.weights.h5\"\n",
        "callbacks = tf.keras.callbacks.ModelCheckpoint(CKPT_path, save_best_only=True, save_weights_only=True)\n",
        "model.compile(loss='categorical_crossentropy', optimizer='adam', metrics=['accuracy'])\n",
        "history = model.fit(X_train,y_train,validation_split = 0.1,batch_size=8,epochs=200,verbose=0,callbacks=callbacks)\n",
        "print(max(history.history['accuracy']),max(history.history['val_accuracy']))"
      ],
      "metadata": {
        "id": "yo5srlr-NCv8",
        "outputId": "f30feeca-c786-4b3a-aa23-4f85ceddf780",
        "colab": {
          "base_uri": "https://localhost:8080/",
          "height": 214
        }
      },
      "execution_count": 44,
      "outputs": [
        {
          "output_type": "display_data",
          "data": {
            "text/plain": [
              "\u001b[1mModel: \"sequential_20\"\u001b[0m\n"
            ],
            "text/html": [
              "<pre style=\"white-space:pre;overflow-x:auto;line-height:normal;font-family:Menlo,'DejaVu Sans Mono',consolas,'Courier New',monospace\"><span style=\"font-weight: bold\">Model: \"sequential_20\"</span>\n",
              "</pre>\n"
            ]
          },
          "metadata": {}
        },
        {
          "output_type": "display_data",
          "data": {
            "text/plain": [
              "┏━━━━━━━━━━━━━━━━━━━━━━━━━━━━━━━━━━━━━━┳━━━━━━━━━━━━━━━━━━━━━━━━━━━━━┳━━━━━━━━━━━━━━━━━┓\n",
              "┃\u001b[1m \u001b[0m\u001b[1mLayer (type)                        \u001b[0m\u001b[1m \u001b[0m┃\u001b[1m \u001b[0m\u001b[1mOutput Shape               \u001b[0m\u001b[1m \u001b[0m┃\u001b[1m \u001b[0m\u001b[1m        Param #\u001b[0m\u001b[1m \u001b[0m┃\n",
              "┡━━━━━━━━━━━━━━━━━━━━━━━━━━━━━━━━━━━━━━╇━━━━━━━━━━━━━━━━━━━━━━━━━━━━━╇━━━━━━━━━━━━━━━━━┩\n",
              "│ dense_40 (\u001b[38;5;33mDense\u001b[0m)                     │ (\u001b[38;5;45mNone\u001b[0m, \u001b[38;5;34m18\u001b[0m)                  │              \u001b[38;5;34m72\u001b[0m │\n",
              "├──────────────────────────────────────┼─────────────────────────────┼─────────────────┤\n",
              "│ dense_41 (\u001b[38;5;33mDense\u001b[0m)                     │ (\u001b[38;5;45mNone\u001b[0m, \u001b[38;5;34m5\u001b[0m)                   │              \u001b[38;5;34m95\u001b[0m │\n",
              "└──────────────────────────────────────┴─────────────────────────────┴─────────────────┘\n"
            ],
            "text/html": [
              "<pre style=\"white-space:pre;overflow-x:auto;line-height:normal;font-family:Menlo,'DejaVu Sans Mono',consolas,'Courier New',monospace\">┏━━━━━━━━━━━━━━━━━━━━━━━━━━━━━━━━━━━━━━┳━━━━━━━━━━━━━━━━━━━━━━━━━━━━━┳━━━━━━━━━━━━━━━━━┓\n",
              "┃<span style=\"font-weight: bold\"> Layer (type)                         </span>┃<span style=\"font-weight: bold\"> Output Shape                </span>┃<span style=\"font-weight: bold\">         Param # </span>┃\n",
              "┡━━━━━━━━━━━━━━━━━━━━━━━━━━━━━━━━━━━━━━╇━━━━━━━━━━━━━━━━━━━━━━━━━━━━━╇━━━━━━━━━━━━━━━━━┩\n",
              "│ dense_40 (<span style=\"color: #0087ff; text-decoration-color: #0087ff\">Dense</span>)                     │ (<span style=\"color: #00d7ff; text-decoration-color: #00d7ff\">None</span>, <span style=\"color: #00af00; text-decoration-color: #00af00\">18</span>)                  │              <span style=\"color: #00af00; text-decoration-color: #00af00\">72</span> │\n",
              "├──────────────────────────────────────┼─────────────────────────────┼─────────────────┤\n",
              "│ dense_41 (<span style=\"color: #0087ff; text-decoration-color: #0087ff\">Dense</span>)                     │ (<span style=\"color: #00d7ff; text-decoration-color: #00d7ff\">None</span>, <span style=\"color: #00af00; text-decoration-color: #00af00\">5</span>)                   │              <span style=\"color: #00af00; text-decoration-color: #00af00\">95</span> │\n",
              "└──────────────────────────────────────┴─────────────────────────────┴─────────────────┘\n",
              "</pre>\n"
            ]
          },
          "metadata": {}
        },
        {
          "output_type": "display_data",
          "data": {
            "text/plain": [
              "\u001b[1m Total params: \u001b[0m\u001b[38;5;34m167\u001b[0m (668.00 B)\n"
            ],
            "text/html": [
              "<pre style=\"white-space:pre;overflow-x:auto;line-height:normal;font-family:Menlo,'DejaVu Sans Mono',consolas,'Courier New',monospace\"><span style=\"font-weight: bold\"> Total params: </span><span style=\"color: #00af00; text-decoration-color: #00af00\">167</span> (668.00 B)\n",
              "</pre>\n"
            ]
          },
          "metadata": {}
        },
        {
          "output_type": "display_data",
          "data": {
            "text/plain": [
              "\u001b[1m Trainable params: \u001b[0m\u001b[38;5;34m167\u001b[0m (668.00 B)\n"
            ],
            "text/html": [
              "<pre style=\"white-space:pre;overflow-x:auto;line-height:normal;font-family:Menlo,'DejaVu Sans Mono',consolas,'Courier New',monospace\"><span style=\"font-weight: bold\"> Trainable params: </span><span style=\"color: #00af00; text-decoration-color: #00af00\">167</span> (668.00 B)\n",
              "</pre>\n"
            ]
          },
          "metadata": {}
        },
        {
          "output_type": "display_data",
          "data": {
            "text/plain": [
              "\u001b[1m Non-trainable params: \u001b[0m\u001b[38;5;34m0\u001b[0m (0.00 B)\n"
            ],
            "text/html": [
              "<pre style=\"white-space:pre;overflow-x:auto;line-height:normal;font-family:Menlo,'DejaVu Sans Mono',consolas,'Courier New',monospace\"><span style=\"font-weight: bold\"> Non-trainable params: </span><span style=\"color: #00af00; text-decoration-color: #00af00\">0</span> (0.00 B)\n",
              "</pre>\n"
            ]
          },
          "metadata": {}
        },
        {
          "output_type": "stream",
          "name": "stdout",
          "text": [
            "0.6541353464126587 0.800000011920929\n"
          ]
        }
      ]
    },
    {
      "cell_type": "code",
      "source": [],
      "metadata": {
        "id": "91bkpvl9DYwp"
      },
      "execution_count": null,
      "outputs": []
    }
  ]
}